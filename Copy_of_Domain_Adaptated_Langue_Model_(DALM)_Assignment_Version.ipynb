{
  "cells": [
    {
      "cell_type": "markdown",
      "metadata": {
        "id": "view-in-github",
        "colab_type": "text"
      },
      "source": [
        "<a href=\"https://colab.research.google.com/github/Mona3087/LLMOps/blob/main/Copy_of_Domain_Adaptated_Langue_Model_(DALM)_Assignment_Version.ipynb\" target=\"_parent\"><img src=\"https://colab.research.google.com/assets/colab-badge.svg\" alt=\"Open In Colab\"/></a>"
      ]
    },
    {
      "cell_type": "markdown",
      "metadata": {
        "id": "OIrkM5g_zyo0"
      },
      "source": [
        "# Domain Adaptated Langue Model (DALM) - Arcee.ai - An End to End RAG Solution\n",
        "\n",
        "In the following notebook, we'll work through an \"end-to-end\" RAG approach created by Arcee.ai called [\"Domain Adapted Language Model\"](https://github.com/arcee-ai/DALM)!\n",
        "\n",
        "- 🤝 Breakout Room #1\n",
        "  1. Task 1: Cloning DALM Repository and Installing Dependencies\n",
        "  2. Task 2: Preparing Dataset for Training\n",
        "  3. Task 3: Training E2E Rag\n",
        "  4. Task 4: Implementing a LCEL RAG Chain with our Models"
      ]
    },
    {
      "cell_type": "markdown",
      "metadata": {
        "id": "lJHYB80fAHZ2"
      },
      "source": [
        "## Task 1: Cloning DALM Repository and Installing Dependencies\n",
        "\n",
        "\n"
      ]
    },
    {
      "cell_type": "code",
      "execution_count": null,
      "metadata": {
        "colab": {
          "base_uri": "https://localhost:8080/"
        },
        "id": "iluTPAeNAGev",
        "outputId": "42893baf-553c-45cf-a109-cd79937785b1"
      },
      "outputs": [
        {
          "name": "stdout",
          "output_type": "stream",
          "text": [
            "Cloning into 'DALM'...\n",
            "remote: Enumerating objects: 1802, done.\u001b[K\n",
            "remote: Counting objects: 100% (423/423), done.\u001b[K\n",
            "remote: Compressing objects: 100% (148/148), done.\u001b[K\n",
            "remote: Total 1802 (delta 293), reused 332 (delta 267), pack-reused 1379\u001b[K\n",
            "Receiving objects: 100% (1802/1802), 19.41 MiB | 10.11 MiB/s, done.\n",
            "Resolving deltas: 100% (1067/1067), done.\n"
          ]
        }
      ],
      "source": [
        "!git clone https://github.com/arcee-ai/DALM"
      ]
    },
    {
      "cell_type": "code",
      "execution_count": null,
      "metadata": {
        "colab": {
          "base_uri": "https://localhost:8080/"
        },
        "id": "u880kpH_zm11",
        "outputId": "ad433fa7-df49-4258-d6db-6b6473faf23a"
      },
      "outputs": [
        {
          "name": "stdout",
          "output_type": "stream",
          "text": [
            "/content/DALM\n",
            "  Installing build dependencies ... \u001b[?25l\u001b[?25hdone\n",
            "  Checking if build backend supports build_editable ... \u001b[?25l\u001b[?25hdone\n",
            "  Getting requirements to build editable ... \u001b[?25l\u001b[?25hdone\n",
            "  Preparing editable metadata (pyproject.toml) ... \u001b[?25l\u001b[?25hdone\n",
            "\u001b[2K     \u001b[90m━━━━━━━━━━━━━━━━━━━━━━━━━━━━━━━━━━━━━━━━\u001b[0m \u001b[32m302.6/302.6 kB\u001b[0m \u001b[31m6.0 MB/s\u001b[0m eta \u001b[36m0:00:00\u001b[0m\n",
            "\u001b[2K     \u001b[90m━━━━━━━━━━━━━━━━━━━━━━━━━━━━━━━━━━━━━━━━\u001b[0m \u001b[32m119.8/119.8 MB\u001b[0m \u001b[31m14.1 MB/s\u001b[0m eta \u001b[36m0:00:00\u001b[0m\n",
            "\u001b[2K     \u001b[90m━━━━━━━━━━━━━━━━━━━━━━━━━━━━━━━━━━━━━━━━\u001b[0m \u001b[32m542.0/542.0 kB\u001b[0m \u001b[31m45.8 MB/s\u001b[0m eta \u001b[36m0:00:00\u001b[0m\n",
            "\u001b[2K     \u001b[90m━━━━━━━━━━━━━━━━━━━━━━━━━━━━━━━━━━━━━━━━\u001b[0m \u001b[32m84.1/84.1 kB\u001b[0m \u001b[31m11.5 MB/s\u001b[0m eta \u001b[36m0:00:00\u001b[0m\n",
            "\u001b[?25h  Installing build dependencies ... \u001b[?25l\u001b[?25hdone\n",
            "  Getting requirements to build wheel ... \u001b[?25l\u001b[?25hdone\n",
            "  Preparing metadata (pyproject.toml) ... \u001b[?25l\u001b[?25hdone\n",
            "\u001b[2K     \u001b[90m━━━━━━━━━━━━━━━━━━━━━━━━━━━━━━━━━━━━━━━━\u001b[0m \u001b[32m199.1/199.1 kB\u001b[0m \u001b[31m25.0 MB/s\u001b[0m eta \u001b[36m0:00:00\u001b[0m\n",
            "\u001b[2K     \u001b[90m━━━━━━━━━━━━━━━━━━━━━━━━━━━━━━━━━━━━━━━━\u001b[0m \u001b[32m3.1/3.1 MB\u001b[0m \u001b[31m31.1 MB/s\u001b[0m eta \u001b[36m0:00:00\u001b[0m\n",
            "\u001b[2K     \u001b[90m━━━━━━━━━━━━━━━━━━━━━━━━━━━━━━━━━━━━━━━━\u001b[0m \u001b[32m71.1/71.1 kB\u001b[0m \u001b[31m11.0 MB/s\u001b[0m eta \u001b[36m0:00:00\u001b[0m\n",
            "\u001b[2K     \u001b[90m━━━━━━━━━━━━━━━━━━━━━━━━━━━━━━━━━━━━━━━━\u001b[0m \u001b[32m245.2/245.2 kB\u001b[0m \u001b[31m31.6 MB/s\u001b[0m eta \u001b[36m0:00:00\u001b[0m\n",
            "\u001b[2K     \u001b[90m━━━━━━━━━━━━━━━━━━━━━━━━━━━━━━━━━━━━━━━━\u001b[0m \u001b[32m116.3/116.3 kB\u001b[0m \u001b[31m15.8 MB/s\u001b[0m eta \u001b[36m0:00:00\u001b[0m\n",
            "\u001b[2K     \u001b[90m━━━━━━━━━━━━━━━━━━━━━━━━━━━━━━━━━━━━━━━━\u001b[0m \u001b[32m194.1/194.1 kB\u001b[0m \u001b[31m26.1 MB/s\u001b[0m eta \u001b[36m0:00:00\u001b[0m\n",
            "\u001b[2K     \u001b[90m━━━━━━━━━━━━━━━━━━━━━━━━━━━━━━━━━━━━━━━━\u001b[0m \u001b[32m134.8/134.8 kB\u001b[0m \u001b[31m19.4 MB/s\u001b[0m eta \u001b[36m0:00:00\u001b[0m\n",
            "\u001b[2K     \u001b[90m━━━━━━━━━━━━━━━━━━━━━━━━━━━━━━━━━━━━━━━━\u001b[0m \u001b[32m401.2/401.2 kB\u001b[0m \u001b[31m44.5 MB/s\u001b[0m eta \u001b[36m0:00:00\u001b[0m\n",
            "\u001b[2K     \u001b[90m━━━━━━━━━━━━━━━━━━━━━━━━━━━━━━━━━━━━━━━━\u001b[0m \u001b[32m102.4/102.4 kB\u001b[0m \u001b[31m14.7 MB/s\u001b[0m eta \u001b[36m0:00:00\u001b[0m\n",
            "\u001b[?25h  Building editable for indomain (pyproject.toml) ... \u001b[?25l\u001b[?25hdone\n",
            "  Building wheel for hnswlib (pyproject.toml) ... \u001b[?25l\u001b[?25hdone\n"
          ]
        }
      ],
      "source": [
        "%cd DALM\n",
        "!pip install --upgrade -q -e ."
      ]
    },
    {
      "cell_type": "code",
      "execution_count": null,
      "metadata": {
        "colab": {
          "base_uri": "https://localhost:8080/"
        },
        "id": "UDUcxb8MVqgD",
        "outputId": "a5a54dde-f1d6-465f-c082-39f6a4918209"
      },
      "outputs": [
        {
          "name": "stdout",
          "output_type": "stream",
          "text": [
            "\u001b[2K     \u001b[90m━━━━━━━━━━━━━━━━━━━━━━━━━━━━━━━━━━━━━━━━\u001b[0m \u001b[32m1.0/1.0 MB\u001b[0m \u001b[31m18.8 MB/s\u001b[0m eta \u001b[36m0:00:00\u001b[0m\n",
            "\u001b[2K     \u001b[90m━━━━━━━━━━━━━━━━━━━━━━━━━━━━━━━━━━━━━━━━\u001b[0m \u001b[32m302.9/302.9 kB\u001b[0m \u001b[31m35.0 MB/s\u001b[0m eta \u001b[36m0:00:00\u001b[0m\n",
            "\u001b[2K     \u001b[90m━━━━━━━━━━━━━━━━━━━━━━━━━━━━━━━━━━━━━━━━\u001b[0m \u001b[32m2.0/2.0 MB\u001b[0m \u001b[31m82.1 MB/s\u001b[0m eta \u001b[36m0:00:00\u001b[0m\n",
            "\u001b[2K     \u001b[90m━━━━━━━━━━━━━━━━━━━━━━━━━━━━━━━━━━━━━━━━\u001b[0m \u001b[32m171.5/171.5 kB\u001b[0m \u001b[31m23.2 MB/s\u001b[0m eta \u001b[36m0:00:00\u001b[0m\n",
            "\u001b[2K     \u001b[90m━━━━━━━━━━━━━━━━━━━━━━━━━━━━━━━━━━━━━━━━\u001b[0m \u001b[32m120.8/120.8 kB\u001b[0m \u001b[31m17.2 MB/s\u001b[0m eta \u001b[36m0:00:00\u001b[0m\n",
            "\u001b[2K     \u001b[90m━━━━━━━━━━━━━━━━━━━━━━━━━━━━━━━━━━━━━━━━\u001b[0m \u001b[32m53.0/53.0 kB\u001b[0m \u001b[31m8.5 MB/s\u001b[0m eta \u001b[36m0:00:00\u001b[0m\n",
            "\u001b[2K     \u001b[90m━━━━━━━━━━━━━━━━━━━━━━━━━━━━━━━━━━━━━━━━\u001b[0m \u001b[32m49.3/49.3 kB\u001b[0m \u001b[31m7.0 MB/s\u001b[0m eta \u001b[36m0:00:00\u001b[0m\n",
            "\u001b[2K     \u001b[90m━━━━━━━━━━━━━━━━━━━━━━━━━━━━━━━━━━━━━━━━\u001b[0m \u001b[32m142.5/142.5 kB\u001b[0m \u001b[31m19.6 MB/s\u001b[0m eta \u001b[36m0:00:00\u001b[0m\n",
            "\u001b[?25h"
          ]
        }
      ],
      "source": [
        "!pip install -qU langchain langchain-core langchain-community sentence_transformers"
      ]
    },
    {
      "cell_type": "code",
      "execution_count": null,
      "metadata": {
        "colab": {
          "base_uri": "https://localhost:8080/"
        },
        "id": "Ya85R1w1WOmR",
        "outputId": "2b4da21d-e211-45bb-86fc-af8d50c42aec"
      },
      "outputs": [
        {
          "name": "stdout",
          "output_type": "stream",
          "text": [
            "\u001b[2K     \u001b[90m━━━━━━━━━━━━━━━━━━━━━━━━━━━━━━━━━━━━━━━━\u001b[0m \u001b[32m3.5/3.5 MB\u001b[0m \u001b[31m42.6 MB/s\u001b[0m eta \u001b[36m0:00:00\u001b[0m\n",
            "\u001b[2K     \u001b[90m━━━━━━━━━━━━━━━━━━━━━━━━━━━━━━━━━━━━━━━━\u001b[0m \u001b[32m27.0/27.0 MB\u001b[0m \u001b[31m57.4 MB/s\u001b[0m eta \u001b[36m0:00:00\u001b[0m\n",
            "\u001b[2K     \u001b[90m━━━━━━━━━━━━━━━━━━━━━━━━━━━━━━━━━━━━━━━━\u001b[0m \u001b[32m15.8/15.8 MB\u001b[0m \u001b[31m85.9 MB/s\u001b[0m eta \u001b[36m0:00:00\u001b[0m\n",
            "\u001b[?25h"
          ]
        }
      ],
      "source": [
        "!pip install -qU pymupdf faiss-cpu"
      ]
    },
    {
      "cell_type": "markdown",
      "metadata": {
        "id": "lmtQZjf1EVIj"
      },
      "source": [
        "## Task 2: Prepare Dataset of Examples\n",
        "\n",
        "E2E RAG requires a dataset of `[Question, Abstract, Answer]` triples\n",
        "\n",
        "At inference time, our model will take a users query, draw from the available passages, and pass relevant context to the generator to create an answer.\n",
        "\n",
        "We'll use synthetic dataset generation powered by OpenAI's `gpt-3.5-turbo` to generate our questions and answers for each piece of context through `llama-index`.\n",
        "\n",
        "We'll be working with Douglas Adam's Hitchhiker's Guide - but feel free to substitute your own data!\n"
      ]
    },
    {
      "cell_type": "markdown",
      "metadata": {
        "id": "FyrYxlLMPrXO"
      },
      "source": [
        "## Generating Synthetic Training Data with Llama Index\n",
        "\n",
        "Let's generate some synthetic data using Llama Index - we'll do this with `gpt-3.5-turbo` and then use the resultant data to fine-tune!\n",
        "\n",
        "Let's install our dependencies for this process!"
      ]
    },
    {
      "cell_type": "code",
      "execution_count": null,
      "metadata": {
        "colab": {
          "base_uri": "https://localhost:8080/"
        },
        "id": "bFZouSmBRpNb",
        "outputId": "3b48181e-961d-4fdf-f391-099807011f71"
      },
      "outputs": [
        {
          "name": "stdout",
          "output_type": "stream",
          "text": [
            "\u001b[2K     \u001b[90m━━━━━━━━━━━━━━━━━━━━━━━━━━━━━━━━━━━━━━━━\u001b[0m \u001b[32m290.4/290.4 kB\u001b[0m \u001b[31m6.8 MB/s\u001b[0m eta \u001b[36m0:00:00\u001b[0m\n",
            "\u001b[2K     \u001b[90m━━━━━━━━━━━━━━━━━━━━━━━━━━━━━━━━━━━━━━━━\u001b[0m \u001b[32m15.4/15.4 MB\u001b[0m \u001b[31m85.2 MB/s\u001b[0m eta \u001b[36m0:00:00\u001b[0m\n",
            "\u001b[2K     \u001b[90m━━━━━━━━━━━━━━━━━━━━━━━━━━━━━━━━━━━━━━━━\u001b[0m \u001b[32m2.0/2.0 MB\u001b[0m \u001b[31m80.5 MB/s\u001b[0m eta \u001b[36m0:00:00\u001b[0m\n",
            "\u001b[2K     \u001b[90m━━━━━━━━━━━━━━━━━━━━━━━━━━━━━━━━━━━━━━━━\u001b[0m \u001b[32m320.1/320.1 kB\u001b[0m \u001b[31m37.3 MB/s\u001b[0m eta \u001b[36m0:00:00\u001b[0m\n",
            "\u001b[2K     \u001b[90m━━━━━━━━━━━━━━━━━━━━━━━━━━━━━━━━━━━━━━━━\u001b[0m \u001b[32m75.6/75.6 kB\u001b[0m \u001b[31m11.0 MB/s\u001b[0m eta \u001b[36m0:00:00\u001b[0m\n",
            "\u001b[2K     \u001b[90m━━━━━━━━━━━━━━━━━━━━━━━━━━━━━━━━━━━━━━━━\u001b[0m \u001b[32m141.9/141.9 kB\u001b[0m \u001b[31m19.4 MB/s\u001b[0m eta \u001b[36m0:00:00\u001b[0m\n",
            "\u001b[2K     \u001b[90m━━━━━━━━━━━━━━━━━━━━━━━━━━━━━━━━━━━━━━━━\u001b[0m \u001b[32m1.8/1.8 MB\u001b[0m \u001b[31m86.7 MB/s\u001b[0m eta \u001b[36m0:00:00\u001b[0m\n",
            "\u001b[2K     \u001b[90m━━━━━━━━━━━━━━━━━━━━━━━━━━━━━━━━━━━━━━━━\u001b[0m \u001b[32m77.9/77.9 kB\u001b[0m \u001b[31m11.0 MB/s\u001b[0m eta \u001b[36m0:00:00\u001b[0m\n",
            "\u001b[2K     \u001b[90m━━━━━━━━━━━━━━━━━━━━━━━━━━━━━━━━━━━━━━━━\u001b[0m \u001b[32m58.3/58.3 kB\u001b[0m \u001b[31m9.6 MB/s\u001b[0m eta \u001b[36m0:00:00\u001b[0m\n",
            "\u001b[?25h"
          ]
        }
      ],
      "source": [
        "!pip install -U -q llama-index pypdf"
      ]
    },
    {
      "cell_type": "markdown",
      "metadata": {
        "id": "-IxQhIAiRwDH"
      },
      "source": [
        "### Loading Data\n",
        "\n",
        "Now we're good to grab some data!\n",
        "\n",
        "We're going to use Hithhiker's Guide to the Galaxy as our example data today!"
      ]
    },
    {
      "cell_type": "code",
      "execution_count": null,
      "metadata": {
        "colab": {
          "base_uri": "https://localhost:8080/"
        },
        "id": "SZHziK8_RLZr",
        "outputId": "1f361c59-6e0a-4c2a-8084-c4f883746a22"
      },
      "outputs": [
        {
          "name": "stdout",
          "output_type": "stream",
          "text": [
            "--2024-05-10 18:55:45--  https://justcheckingonall.files.wordpress.com/2008/01/hhgtg1.pdf\n",
            "Resolving justcheckingonall.files.wordpress.com (justcheckingonall.files.wordpress.com)... 192.0.72.22, 192.0.72.23\n",
            "Connecting to justcheckingonall.files.wordpress.com (justcheckingonall.files.wordpress.com)|192.0.72.22|:443... connected.\n",
            "HTTP request sent, awaiting response... 302 Moved Temporarily\n",
            "Location: https://justcheckingonall.wordpress.com/wp-content/uploads/2008/01/hhgtg1.pdf [following]\n",
            "--2024-05-10 18:55:45--  https://justcheckingonall.wordpress.com/wp-content/uploads/2008/01/hhgtg1.pdf\n",
            "Resolving justcheckingonall.wordpress.com (justcheckingonall.wordpress.com)... 192.0.78.13, 192.0.78.12\n",
            "Connecting to justcheckingonall.wordpress.com (justcheckingonall.wordpress.com)|192.0.78.13|:443... connected.\n",
            "HTTP request sent, awaiting response... 200 OK\n",
            "Length: 361977 (353K) [application/pdf]\n",
            "Saving to: ‘hhgtg1.pdf’\n",
            "\n",
            "\rhhgtg1.pdf            0%[                    ]       0  --.-KB/s               \rhhgtg1.pdf          100%[===================>] 353.49K  --.-KB/s    in 0.01s   \n",
            "\n",
            "2024-05-10 18:55:45 (36.0 MB/s) - ‘hhgtg1.pdf’ saved [361977/361977]\n",
            "\n"
          ]
        }
      ],
      "source": [
        "!wget https://justcheckingonall.files.wordpress.com/2008/01/hhgtg1.pdf"
      ]
    },
    {
      "cell_type": "code",
      "execution_count": 29,
      "metadata": {
        "id": "pi6SyrfqSFMV"
      },
      "outputs": [],
      "source": [
        "TRAINING_FILES = [\"hhgtg1.pdf\"]"
      ]
    },
    {
      "cell_type": "markdown",
      "metadata": {
        "id": "yXqLvedCRVg7"
      },
      "source": [
        "Now that we have our data, let's organize into our desired format for generating synthetic questions/responses."
      ]
    },
    {
      "cell_type": "code",
      "execution_count": 30,
      "metadata": {
        "id": "PesOv-LhRgtK"
      },
      "outputs": [],
      "source": [
        "from llama_index.core import SimpleDirectoryReader\n",
        "from llama_index.core.node_parser import SimpleNodeParser\n",
        "from llama_index.core.schema import MetadataMode\n",
        "\n",
        "def load_corpus(files, verbose=False):\n",
        "    if verbose:\n",
        "        print(f\"Loading files {files}\")\n",
        "\n",
        "    reader = SimpleDirectoryReader(input_files=files)\n",
        "    docs = reader.load_data()\n",
        "    if verbose:\n",
        "        print(f'Loaded {len(docs)} docs')\n",
        "\n",
        "    parser = SimpleNodeParser.from_defaults()\n",
        "    nodes = parser.get_nodes_from_documents(docs, show_progress=verbose)\n",
        "\n",
        "    if verbose:\n",
        "        print(f'Parsed {len(nodes)} nodes')\n",
        "\n",
        "    corpus = {node.node_id: node.get_content(metadata_mode=MetadataMode.NONE) for node in nodes}\n",
        "    return corpus"
      ]
    },
    {
      "cell_type": "code",
      "execution_count": null,
      "metadata": {
        "colab": {
          "base_uri": "https://localhost:8080/",
          "height": 100,
          "referenced_widgets": [
            "b13370e5769e49e99ae3028175b9171f",
            "1bb940eccb0544969a62ab4f2df69152",
            "2ee05cb92b804e58bdf34fa0e749dabb",
            "a92e8ef6c0884ee3977d363080c39722",
            "396ffd278ca54efbb3373b4a65fab3ff",
            "06f930e8b86f4cf4a247269827628457",
            "b180204d3ebd4cf4a034cfff8e5d546d",
            "64208e7bd9c2486a9d0a0fd417390d7c",
            "58305b0353d948b68ac487f4f797d020",
            "af121a88f15144498dc165ff69748b76",
            "9ef8381238bd422c9b746d08d3242058"
          ]
        },
        "id": "A1FdiayUSBd6",
        "outputId": "1f57edd3-bffd-413b-8cbc-2eb6831530f0"
      },
      "outputs": [
        {
          "name": "stdout",
          "output_type": "stream",
          "text": [
            "Loading files ['hhgtg1.pdf']\n",
            "Loaded 139 docs\n"
          ]
        },
        {
          "data": {
            "application/vnd.jupyter.widget-view+json": {
              "model_id": "b13370e5769e49e99ae3028175b9171f",
              "version_major": 2,
              "version_minor": 0
            },
            "text/plain": [
              "Parsing nodes:   0%|          | 0/139 [00:00<?, ?it/s]"
            ]
          },
          "metadata": {},
          "output_type": "display_data"
        },
        {
          "name": "stdout",
          "output_type": "stream",
          "text": [
            "Parsed 139 nodes\n"
          ]
        }
      ],
      "source": [
        "train_corpus = load_corpus(TRAINING_FILES, verbose=True)"
      ]
    },
    {
      "cell_type": "markdown",
      "metadata": {
        "id": "xtPuHmJzSMEB"
      },
      "source": [
        "### Creating Synthetic QA Pairs\n",
        "\n",
        "We can leverage everyone's favourite OpenAI model `gpt-3.5-turbo` to help us generate some QA pairs."
      ]
    },
    {
      "cell_type": "code",
      "execution_count": null,
      "metadata": {
        "id": "HYnGMFiyAFl7"
      },
      "outputs": [],
      "source": [
        "!pip install -qU llama-index-llms-openai"
      ]
    },
    {
      "cell_type": "code",
      "execution_count": null,
      "metadata": {
        "id": "YPk0MtizSK8r"
      },
      "outputs": [],
      "source": [
        "import re\n",
        "import uuid\n",
        "\n",
        "from llama_index.llms.openai import OpenAI\n",
        "from tqdm.notebook import tqdm"
      ]
    },
    {
      "cell_type": "code",
      "execution_count": null,
      "metadata": {
        "colab": {
          "base_uri": "https://localhost:8080/"
        },
        "id": "9_xsIc0VSe1C",
        "outputId": "02d20d9e-8cbc-47e8-ff33-2d4cd2925cb9"
      },
      "outputs": [
        {
          "name": "stdout",
          "output_type": "stream",
          "text": [
            "OpenAI API Key: ··········\n"
          ]
        }
      ],
      "source": [
        "import os\n",
        "import getpass\n",
        "\n",
        "os.environ[\"OPENAI_API_KEY\"] = getpass.getpass(\"OpenAI API Key: \")"
      ]
    },
    {
      "cell_type": "markdown",
      "metadata": {
        "id": "qVfp_eh8SkUA"
      },
      "source": [
        "### Generating Queries\n",
        "\n",
        "Let's use a helper function to create our question answer pairs.\n",
        "\n",
        "We're going to use this prompt:\n",
        "\n",
        "```\n",
        "Context information is below.\n",
        "    \n",
        "---------------------\n",
        "{context_str}\n",
        "---------------------\n",
        "\n",
        "Given the context information and not prior knowledge.\n",
        "generate only questions based on the below query.\n",
        "\n",
        "You are a Teacher/ Professor. Your task is to setup \\\n",
        "{num_questions_per_chunk} questions for an upcoming \\\n",
        "quiz/examination. The questions should be diverse in nature \\\n",
        "across the document. Restrict the questions to the \\\n",
        "context information provided.\n",
        "```\n",
        "\n",
        "As you might be able to tell - we have the ability to control how many questions we generate, as well as the persona used to create the questions.\n",
        "\n",
        "The rest of the helper function is simply parsing the questions!"
      ]
    },
    {
      "cell_type": "code",
      "execution_count": null,
      "metadata": {
        "id": "dMe-nddNSnaD"
      },
      "outputs": [],
      "source": [
        "def generate_queries(\n",
        "    corpus,\n",
        "    num_questions_per_chunk=2,\n",
        "    prompt_template=None,\n",
        "    verbose=False,\n",
        "):\n",
        "    \"\"\"\n",
        "    Automatically generate hypothetical questions that could be answered with\n",
        "    doc in the corpus.\n",
        "    \"\"\"\n",
        "    llm = OpenAI(model='gpt-3.5-turbo')\n",
        "\n",
        "    prompt_template = prompt_template or \"\"\"\\\n",
        "    Context information is below.\n",
        "\n",
        "    ---------------------\n",
        "    {context_str}\n",
        "    ---------------------\n",
        "\n",
        "    Given the context information and not prior knowledge.\n",
        "    generate only questions based on the below query.\n",
        "\n",
        "    You are a Teacher/ Professor. Your task is to setup \\\n",
        "    {num_questions_per_chunk} questions for an upcoming \\\n",
        "    quiz/examination. The questions should be diverse in nature \\\n",
        "    across the document. Restrict the questions to the \\\n",
        "    context information provided.\"\n",
        "    \"\"\"\n",
        "\n",
        "    queries = {}\n",
        "    relevant_docs = {}\n",
        "    for node_id, text in tqdm(corpus.items()):\n",
        "        query = prompt_template.format(context_str=text, num_questions_per_chunk=num_questions_per_chunk)\n",
        "        response = llm.complete(query)\n",
        "\n",
        "        result = str(response).strip().split(\"\\n\")\n",
        "        questions = [\n",
        "            re.sub(r\"^\\d+[\\).\\s]\", \"\", question).strip() for question in result\n",
        "        ]\n",
        "        questions = [question for question in questions if len(question) > 0]\n",
        "\n",
        "        for question in questions:\n",
        "            question_id = str(uuid.uuid4())\n",
        "            queries[question_id] = question\n",
        "            relevant_docs[question_id] = [node_id]\n",
        "    return queries, relevant_docs"
      ]
    },
    {
      "cell_type": "markdown",
      "metadata": {
        "id": "BMVuKSbcSrQH"
      },
      "source": [
        "Nothing left to do but generate some QA pairs!"
      ]
    },
    {
      "cell_type": "code",
      "execution_count": null,
      "metadata": {
        "colab": {
          "base_uri": "https://localhost:8080/",
          "height": 49,
          "referenced_widgets": [
            "8c1af68c9ba84de2aa702d3def0d5047",
            "0e3be316bca64ff685f1ce71655dc266",
            "e380e77383c543db97bc565231994804",
            "a74b743656cc429980cacf927200f2f5",
            "7ef9a3c8a8a14044b2353412f5ca1a6a",
            "379be13b422341f8ba6ef8ce833c2eb4",
            "f8100784fdae4a2485aaf3fa68b76bf1",
            "f5663b9f6b044b3ca629b92de18c703e",
            "5dafbb68fc6347c8bb704029fb2f09c5",
            "4f696165a10540ba8eceac45a133b7a3",
            "f78e75472c064c8590e7d905f91919cd"
          ]
        },
        "id": "yZl13pDaSydt",
        "outputId": "3dc0ca33-446a-4e0d-f7f4-be7d7bcda13b"
      },
      "outputs": [
        {
          "data": {
            "application/vnd.jupyter.widget-view+json": {
              "model_id": "8c1af68c9ba84de2aa702d3def0d5047",
              "version_major": 2,
              "version_minor": 0
            },
            "text/plain": [
              "  0%|          | 0/139 [00:00<?, ?it/s]"
            ]
          },
          "metadata": {},
          "output_type": "display_data"
        }
      ],
      "source": [
        "train_queries, train_relevant_docs = generate_queries(train_corpus, 1)"
      ]
    },
    {
      "cell_type": "code",
      "execution_count": null,
      "metadata": {
        "id": "VDB4roTSd_5n"
      },
      "outputs": [],
      "source": [
        "train_dataset = {\n",
        "    'Question': train_queries,\n",
        "    'Corpus': train_corpus,\n",
        "    'Abstract': train_relevant_docs,\n",
        "}"
      ]
    },
    {
      "cell_type": "code",
      "execution_count": null,
      "metadata": {
        "id": "n3aLDtmijWhM"
      },
      "outputs": [],
      "source": [
        "dataset = train_dataset\n",
        "\n",
        "corpus = dataset['Corpus']\n",
        "queries = dataset['Question']\n",
        "relevant_docs = dataset['Abstract']\n",
        "\n",
        "examples = []\n",
        "for query_id, query in queries.items():\n",
        "    node_id = relevant_docs[query_id][0]\n",
        "    text = corpus[node_id]\n",
        "    example = {\"Question\" : query, \"Abstract\" : text}\n",
        "    examples.append(example)"
      ]
    },
    {
      "cell_type": "code",
      "execution_count": null,
      "metadata": {
        "id": "CKSH-c7lyKXZ"
      },
      "outputs": [],
      "source": [
        "import pandas as pd\n",
        "\n",
        "question_abstract_pair_df = pd.DataFrame(examples)"
      ]
    },
    {
      "cell_type": "code",
      "execution_count": null,
      "metadata": {
        "id": "vyK28au2ygl1"
      },
      "outputs": [],
      "source": [
        "question_abstract_pair_df.to_csv(\"./question_abstract_pair.csv\")"
      ]
    },
    {
      "cell_type": "markdown",
      "metadata": {
        "id": "tiT6Br2Ho2AG"
      },
      "source": [
        "### Generating Answers\n",
        "\n",
        "We'll repeat the process and create an answer for each question as well."
      ]
    },
    {
      "cell_type": "code",
      "execution_count": null,
      "metadata": {
        "id": "EbzzbrL0hU8v"
      },
      "outputs": [],
      "source": [
        "def generate_answer(\n",
        "    query,\n",
        "    context,\n",
        "    prompt_template=None,\n",
        "    verbose=False,\n",
        "):\n",
        "    \"\"\"\n",
        "    Automatically generate hypothetical questions that could be answered with\n",
        "    doc in the corpus.\n",
        "    \"\"\"\n",
        "    llm = OpenAI(model='gpt-3.5-turbo')\n",
        "\n",
        "    prompt_template = prompt_template or \"\"\"\\\n",
        "    Context information is below.\n",
        "\n",
        "    ---------------------\n",
        "    {context_str}\n",
        "    ---------------------\n",
        "\n",
        "    Given the context information and not prior knowledge.\n",
        "    generate only answers based on the below query.\n",
        "\n",
        "    ---------------------\n",
        "    {query_str}\n",
        "    ---------------------\n",
        "\n",
        "    You are a Teacher/ Professor. Your task is to answer \\\n",
        "    questions for an upcoming quiz/examination. Restrict\\\n",
        "    your answers based on the context information provided. \\\n",
        "    If you do not know the answer, simply answer: \"I don't know\" \\\n",
        "    \"\"\"\n",
        "    full_query = prompt_template.format(context_str=context, query_str=query)\n",
        "    response = llm.complete(full_query)\n",
        "\n",
        "    result = str(response).strip().split(\"\\n\")\n",
        "    answers = [\n",
        "            re.sub(r\"^\\d+[\\).\\s]\", \"\", answer).strip() for answer in result\n",
        "        ]\n",
        "    answers = [answer for answer in answers if len(answer) > 0]\n",
        "    return answers[0]"
      ]
    },
    {
      "cell_type": "markdown",
      "metadata": {
        "id": "LhUt2W80yw5v"
      },
      "source": [
        "We'll only train on a subset of the Question/Abstract pairs to save time and tokens!"
      ]
    },
    {
      "cell_type": "code",
      "execution_count": null,
      "metadata": {
        "colab": {
          "base_uri": "https://localhost:8080/",
          "height": 49,
          "referenced_widgets": [
            "51284bfa18ad472f948adb6be1e01889",
            "a4e4f52815b148d2bf0b12a7727a372e",
            "c1cfe36a6939416883297e6fa2a116a2",
            "400598e09f1249ac8382e203db79aa7e",
            "131118e3a5b74af3ac5ec838530d7ec5",
            "d6ed158b8b5447e295d872f906726901",
            "24d537af8c0b40d4b1f369004b7c5a34",
            "75a40b81392b445988c4f5a1d900719b",
            "0d766b5868f84a7a86da07f46a4be440",
            "264d39ea428c42d3b8de2d1c932f735d",
            "e27785ec67984d3291f223d788d6c1fe"
          ]
        },
        "id": "Fg33HHjUkXRM",
        "outputId": "3f3ce66a-c137-4bb6-ca25-d198ef41aded"
      },
      "outputs": [
        {
          "data": {
            "application/vnd.jupyter.widget-view+json": {
              "model_id": "51284bfa18ad472f948adb6be1e01889",
              "version_major": 2,
              "version_minor": 0
            },
            "text/plain": [
              "  0%|          | 0/100 [00:00<?, ?it/s]"
            ]
          },
          "metadata": {},
          "output_type": "display_data"
        }
      ],
      "source": [
        "for example in tqdm(examples[:100]):\n",
        "  example[\"Answer\"] = generate_answer(example[\"Question\"], example[\"Abstract\"])"
      ]
    },
    {
      "cell_type": "markdown",
      "metadata": {
        "id": "2ZMhYl2clJ3Y"
      },
      "source": [
        "####❓ Question #1:\n",
        "\n",
        "Can you think of any other ways to create, or obtain, the data required?\n",
        "\n",
        "Does it have to be synthetically generation?"
      ]
    },
    {
      "cell_type": "markdown",
      "metadata": {
        "id": "ZhkUe6ESnBqz"
      },
      "source": [
        "Answer:\n",
        "1. Through proprietry knowledge base.\n",
        "2. Paying someone to create a dataset for finetuning."
      ]
    },
    {
      "cell_type": "markdown",
      "metadata": {
        "id": "rsGoisVEexA1"
      },
      "source": [
        "### Convert to DALM Format\n",
        "\n",
        "Now that we have our dataset, let's convert it to the expected format for DALM!"
      ]
    },
    {
      "cell_type": "code",
      "execution_count": null,
      "metadata": {
        "id": "nh0skGNue4hf"
      },
      "outputs": [],
      "source": [
        "import pandas as pd\n",
        "\n",
        "train_df = pd.DataFrame(examples[:100])"
      ]
    },
    {
      "cell_type": "code",
      "execution_count": null,
      "metadata": {
        "id": "eQwNyOmMfEkK"
      },
      "outputs": [],
      "source": [
        "train_df.to_csv(\"./dalm/datasets/hhgtg_train.csv\")"
      ]
    },
    {
      "cell_type": "markdown",
      "metadata": {
        "id": "V6gg1aeVKw--"
      },
      "source": [
        "## Task 3: Training E2E Rag\n",
        "\n",
        "We will train a our favourite model: Llama 3 8B (`NousResearch/Meta-Llama-3-8B`) and we will train the Snowflake Arctic Medium retriever model (`https://huggingface.co/Snowflake/snowflake-arctic-embed-m`).\n",
        "\n",
        "Thanks to PEFT and 4bit quantization - we can do this all on a very small budget of ~10GB GPU RAM!\n"
      ]
    },
    {
      "cell_type": "code",
      "execution_count": null,
      "metadata": {
        "id": "Fyid6hvffkr0"
      },
      "outputs": [],
      "source": [
        "!pip install -q -U huggingface-hub"
      ]
    },
    {
      "cell_type": "code",
      "execution_count": null,
      "metadata": {
        "colab": {
          "base_uri": "https://localhost:8080/",
          "height": 145,
          "referenced_widgets": [
            "936c453441a24383b5160d5f458a8933",
            "7da5db1077f34e629f5bb7775bf68222",
            "2c771333a2fd43b1b67c97af7deabbd7",
            "e7b439b899824a9d82bbd54bedf141bf",
            "c0fb80d4474248a3a00220bfa7077885",
            "3045f9c01d804030aff2ca12c0c2a392",
            "90f8e15615b14bc4891bb988c0a7b250",
            "44dea08bd8fa497f9ed3097a0f7272e9",
            "9c8cc5f3ab6c43c6af03660b8a1b978c",
            "d08443810d8e4d009b9ccb68118fa0fb",
            "ba072a6785274109b349e964281c699d",
            "e07d6ba3b8cc4b98a05d29027fb75102",
            "99f22bb7acbc4c32a6a1bfd1a2625062",
            "c8c39c6f0148483e9ac27c910a457e93"
          ]
        },
        "id": "Fe4WCESGfquz",
        "outputId": "9197eea9-5d60-4a5b-e0b4-bdb45109f74a"
      },
      "outputs": [
        {
          "data": {
            "application/vnd.jupyter.widget-view+json": {
              "model_id": "936c453441a24383b5160d5f458a8933",
              "version_major": 2,
              "version_minor": 0
            },
            "text/plain": [
              "VBox(children=(HTML(value='<center> <img\\nsrc=https://huggingface.co/front/assets/huggingface_logo-noborder.sv…"
            ]
          },
          "metadata": {},
          "output_type": "display_data"
        }
      ],
      "source": [
        "from huggingface_hub import notebook_login\n",
        "\n",
        "notebook_login()"
      ]
    },
    {
      "cell_type": "code",
      "execution_count": null,
      "metadata": {
        "colab": {
          "background_save": true,
          "base_uri": "https://localhost:8080/"
        },
        "id": "yq9rtzyxKrPb",
        "outputId": "1faa183a-038a-4bfb-88ae-668365672d2b"
      },
      "outputs": [
        {
          "name": "stdout",
          "output_type": "stream",
          "text": [
            "05/10/2024 19:06:37 - INFO - numexpr.utils - Note: NumExpr detected 12 cores but \"NUMEXPR_MAX_THREADS\" not set, so enforcing safe limit of 8.\n",
            "05/10/2024 19:06:37 - INFO - numexpr.utils - NumExpr defaulting to 8 threads.\n",
            "05/10/2024 19:06:37 - INFO - datasets - PyTorch version 2.2.1+cu121 available.\n",
            "05/10/2024 19:06:37 - INFO - datasets - Polars version 0.20.2 available.\n",
            "05/10/2024 19:06:37 - INFO - datasets - TensorFlow version 2.15.0 available.\n",
            "05/10/2024 19:06:37 - INFO - datasets - JAX version 0.4.26 available.\n",
            "2024-05-10 19:06:40.181908: E external/local_xla/xla/stream_executor/cuda/cuda_dnn.cc:9261] Unable to register cuDNN factory: Attempting to register factory for plugin cuDNN when one has already been registered\n",
            "2024-05-10 19:06:40.181961: E external/local_xla/xla/stream_executor/cuda/cuda_fft.cc:607] Unable to register cuFFT factory: Attempting to register factory for plugin cuFFT when one has already been registered\n",
            "2024-05-10 19:06:40.183902: E external/local_xla/xla/stream_executor/cuda/cuda_blas.cc:1515] Unable to register cuBLAS factory: Attempting to register factory for plugin cuBLAS when one has already been registered\n",
            "2024-05-10 19:06:41.391870: W tensorflow/compiler/tf2tensorrt/utils/py_utils.cc:38] TF-TRT Warning: Could not find TensorRT\n",
            "/usr/local/lib/python3.10/dist-packages/huggingface_hub/file_download.py:1132: FutureWarning: `resume_download` is deprecated and will be removed in version 1.0.0. Downloads always resume when possible. If you want to force a new download, use `force_download=True`.\n",
            "  warnings.warn(\n",
            "config.json: 100% 738/738 [00:00<00:00, 5.30MB/s]\n",
            "`low_cpu_mem_usage` was None, now set to True since model is quantized.\n",
            "model.safetensors: 100% 436M/436M [00:01<00:00, 396MB/s]\n",
            "Some weights of BertModel were not initialized from the model checkpoint at Snowflake/snowflake-arctic-embed-m and are newly initialized: ['pooler.dense.bias', 'pooler.dense.weight']\n",
            "You should probably TRAIN this model on a down-stream task to be able to use it for predictions and inference.\n",
            "tokenizer_config.json: 100% 1.38k/1.38k [00:00<00:00, 8.71MB/s]\n",
            "vocab.txt: 100% 232k/232k [00:00<00:00, 60.0MB/s]\n",
            "tokenizer.json: 100% 712k/712k [00:00<00:00, 2.98MB/s]\n",
            "special_tokens_map.json: 100% 695/695 [00:00<00:00, 5.00MB/s]\n",
            "config.json: 100% 654/654 [00:00<00:00, 4.41MB/s]\n",
            "`low_cpu_mem_usage` was None, now set to True since model is quantized.\n",
            "model.safetensors.index.json: 100% 23.9k/23.9k [00:00<00:00, 81.1MB/s]\n",
            "Downloading shards:   0% 0/4 [00:00<?, ?it/s]\n",
            "model-00001-of-00004.safetensors:   0% 0.00/4.98G [00:00<?, ?B/s]\u001b[A\n",
            "model-00001-of-00004.safetensors:   1% 41.9M/4.98G [00:00<00:14, 347MB/s]\u001b[A\n",
            "model-00001-of-00004.safetensors:   2% 83.9M/4.98G [00:00<00:12, 380MB/s]\u001b[A\n",
            "model-00001-of-00004.safetensors:   3% 126M/4.98G [00:00<00:12, 388MB/s] \u001b[A\n",
            "model-00001-of-00004.safetensors:   3% 168M/4.98G [00:00<00:12, 399MB/s]\u001b[A\n",
            "model-00001-of-00004.safetensors:   4% 220M/4.98G [00:00<00:11, 407MB/s]\u001b[A\n",
            "model-00001-of-00004.safetensors:   5% 273M/4.98G [00:00<00:11, 422MB/s]\u001b[A\n",
            "model-00001-of-00004.safetensors:   7% 325M/4.98G [00:00<00:10, 429MB/s]\u001b[A\n",
            "model-00001-of-00004.safetensors:   8% 377M/4.98G [00:00<00:10, 442MB/s]\u001b[A\n",
            "model-00001-of-00004.safetensors:   9% 430M/4.98G [00:01<00:10, 424MB/s]\u001b[A\n",
            "model-00001-of-00004.safetensors:  10% 482M/4.98G [00:01<00:10, 420MB/s]\u001b[A\n",
            "model-00001-of-00004.safetensors:  11% 535M/4.98G [00:01<00:10, 429MB/s]\u001b[A\n",
            "model-00001-of-00004.safetensors:  12% 587M/4.98G [00:01<00:10, 418MB/s]\u001b[A\n",
            "model-00001-of-00004.safetensors:  13% 640M/4.98G [00:01<00:11, 382MB/s]\u001b[A\n",
            "model-00001-of-00004.safetensors:  14% 682M/4.98G [00:01<00:11, 384MB/s]\u001b[A\n",
            "model-00001-of-00004.safetensors:  15% 724M/4.98G [00:01<00:11, 384MB/s]\u001b[A\n",
            "model-00001-of-00004.safetensors:  15% 765M/4.98G [00:01<00:11, 378MB/s]\u001b[A\n",
            "model-00001-of-00004.safetensors:  16% 807M/4.98G [00:02<00:11, 377MB/s]\u001b[A\n",
            "model-00001-of-00004.safetensors:  17% 849M/4.98G [00:02<00:10, 376MB/s]\u001b[A\n",
            "model-00001-of-00004.safetensors:  18% 902M/4.98G [00:02<00:10, 386MB/s]\u001b[A\n",
            "model-00001-of-00004.safetensors:  19% 944M/4.98G [00:02<00:10, 375MB/s]\u001b[A\n",
            "model-00001-of-00004.safetensors:  20% 986M/4.98G [00:02<00:10, 374MB/s]\u001b[A\n",
            "model-00001-of-00004.safetensors:  21% 1.03G/4.98G [00:02<00:10, 374MB/s]\u001b[A\n",
            "model-00001-of-00004.safetensors:  21% 1.07G/4.98G [00:02<00:10, 380MB/s]\u001b[A\n",
            "model-00001-of-00004.safetensors:  22% 1.11G/4.98G [00:02<00:10, 384MB/s]\u001b[A\n",
            "model-00001-of-00004.safetensors:  23% 1.15G/4.98G [00:02<00:09, 383MB/s]\u001b[A\n",
            "model-00001-of-00004.safetensors:  24% 1.20G/4.98G [00:03<00:09, 383MB/s]\u001b[A\n",
            "model-00001-of-00004.safetensors:  25% 1.24G/4.98G [00:03<00:09, 384MB/s]\u001b[A\n",
            "model-00001-of-00004.safetensors:  26% 1.28G/4.98G [00:03<00:09, 386MB/s]\u001b[A\n",
            "model-00001-of-00004.safetensors:  27% 1.32G/4.98G [00:03<00:09, 382MB/s]\u001b[A\n",
            "model-00001-of-00004.safetensors:  27% 1.36G/4.98G [00:03<00:09, 386MB/s]\u001b[A\n",
            "model-00001-of-00004.safetensors:  28% 1.41G/4.98G [00:03<00:09, 391MB/s]\u001b[A\n",
            "model-00001-of-00004.safetensors:  29% 1.45G/4.98G [00:03<00:13, 253MB/s]\u001b[A\n",
            "model-00001-of-00004.safetensors:  30% 1.49G/4.98G [00:03<00:12, 278MB/s]\u001b[A\n",
            "model-00001-of-00004.safetensors:  31% 1.54G/4.98G [00:04<00:10, 323MB/s]\u001b[A\n",
            "model-00001-of-00004.safetensors:  32% 1.58G/4.98G [00:04<00:09, 345MB/s]\u001b[A\n",
            "model-00001-of-00004.safetensors:  33% 1.64G/4.98G [00:04<00:09, 360MB/s]\u001b[A\n",
            "model-00001-of-00004.safetensors:  34% 1.69G/4.98G [00:04<00:08, 382MB/s]\u001b[A\n",
            "model-00001-of-00004.safetensors:  35% 1.73G/4.98G [00:04<00:08, 377MB/s]\u001b[A\n",
            "model-00001-of-00004.safetensors:  36% 1.78G/4.98G [00:04<00:07, 408MB/s]\u001b[A\n",
            "model-00001-of-00004.safetensors:  37% 1.84G/4.98G [00:04<00:07, 412MB/s]\u001b[A\n",
            "model-00001-of-00004.safetensors:  38% 1.89G/4.98G [00:04<00:07, 403MB/s]\u001b[A\n",
            "model-00001-of-00004.safetensors:  39% 1.93G/4.98G [00:05<00:07, 400MB/s]\u001b[A\n",
            "model-00001-of-00004.safetensors:  40% 1.97G/4.98G [00:05<00:07, 385MB/s]\u001b[A\n",
            "model-00001-of-00004.safetensors:  41% 2.02G/4.98G [00:05<00:07, 408MB/s]\u001b[A\n",
            "model-00001-of-00004.safetensors:  42% 2.08G/4.98G [00:05<00:06, 419MB/s]\u001b[A\n",
            "model-00001-of-00004.safetensors:  43% 2.13G/4.98G [00:05<00:06, 415MB/s]\u001b[A\n",
            "model-00001-of-00004.safetensors:  44% 2.17G/4.98G [00:05<00:06, 408MB/s]\u001b[A\n",
            "model-00001-of-00004.safetensors:  45% 2.22G/4.98G [00:05<00:06, 423MB/s]\u001b[A\n",
            "model-00001-of-00004.safetensors:  46% 2.28G/4.98G [00:05<00:06, 418MB/s]\u001b[A\n",
            "model-00001-of-00004.safetensors:  47% 2.32G/4.98G [00:05<00:06, 405MB/s]\u001b[A\n",
            "model-00001-of-00004.safetensors:  47% 2.36G/4.98G [00:06<00:06, 406MB/s]\u001b[A\n",
            "model-00001-of-00004.safetensors:  48% 2.40G/4.98G [00:06<00:06, 393MB/s]\u001b[A\n",
            "model-00001-of-00004.safetensors:  49% 2.44G/4.98G [00:06<00:06, 378MB/s]\u001b[A\n",
            "model-00001-of-00004.safetensors:  50% 2.49G/4.98G [00:06<00:06, 378MB/s]\u001b[A\n",
            "model-00001-of-00004.safetensors:  51% 2.53G/4.98G [00:06<00:06, 381MB/s]\u001b[A\n",
            "model-00001-of-00004.safetensors:  52% 2.57G/4.98G [00:06<00:06, 386MB/s]\u001b[A\n",
            "model-00001-of-00004.safetensors:  52% 2.61G/4.98G [00:06<00:06, 379MB/s]\u001b[A\n",
            "model-00001-of-00004.safetensors:  53% 2.65G/4.98G [00:06<00:06, 379MB/s]\u001b[A\n",
            "model-00001-of-00004.safetensors:  54% 2.69G/4.98G [00:06<00:06, 380MB/s]\u001b[A\n",
            "model-00001-of-00004.safetensors:  55% 2.74G/4.98G [00:07<00:08, 266MB/s]\u001b[A\n",
            "model-00001-of-00004.safetensors:  56% 2.78G/4.98G [00:07<00:07, 291MB/s]\u001b[A\n",
            "model-00001-of-00004.safetensors:  57% 2.82G/4.98G [00:07<00:06, 317MB/s]\u001b[A\n",
            "model-00001-of-00004.safetensors:  58% 2.86G/4.98G [00:07<00:06, 338MB/s]\u001b[A\n",
            "model-00001-of-00004.safetensors:  59% 2.92G/4.98G [00:07<00:05, 369MB/s]\u001b[A\n",
            "model-00001-of-00004.safetensors:  59% 2.96G/4.98G [00:07<00:05, 370MB/s]\u001b[A\n",
            "model-00001-of-00004.safetensors:  60% 3.00G/4.98G [00:07<00:05, 379MB/s]\u001b[A\n",
            "model-00001-of-00004.safetensors:  61% 3.04G/4.98G [00:08<00:05, 382MB/s]\u001b[A\n",
            "model-00001-of-00004.safetensors:  62% 3.09G/4.98G [00:08<00:04, 392MB/s]\u001b[A\n",
            "model-00001-of-00004.safetensors:  63% 3.14G/4.98G [00:08<00:04, 394MB/s]\u001b[A\n",
            "model-00001-of-00004.safetensors:  64% 3.18G/4.98G [00:08<00:04, 384MB/s]\u001b[A\n",
            "model-00001-of-00004.safetensors:  65% 3.22G/4.98G [00:08<00:05, 350MB/s]\u001b[A\n",
            "model-00001-of-00004.safetensors:  66% 3.26G/4.98G [00:08<00:04, 350MB/s]\u001b[A\n",
            "model-00001-of-00004.safetensors:  66% 3.30G/4.98G [00:08<00:04, 363MB/s]\u001b[A\n",
            "model-00001-of-00004.safetensors:  67% 3.34G/4.98G [00:08<00:04, 357MB/s]\u001b[A\n",
            "model-00001-of-00004.safetensors:  68% 3.40G/4.98G [00:08<00:04, 378MB/s]\u001b[A\n",
            "model-00001-of-00004.safetensors:  69% 3.44G/4.98G [00:09<00:04, 382MB/s]\u001b[A\n",
            "model-00001-of-00004.safetensors:  70% 3.48G/4.98G [00:09<00:03, 386MB/s]\u001b[A\n",
            "model-00001-of-00004.safetensors:  71% 3.53G/4.98G [00:09<00:03, 412MB/s]\u001b[A\n",
            "model-00001-of-00004.safetensors:  72% 3.58G/4.98G [00:09<00:03, 373MB/s]\u001b[A\n",
            "model-00001-of-00004.safetensors:  73% 3.62G/4.98G [00:09<00:03, 370MB/s]\u001b[A\n",
            "model-00001-of-00004.safetensors:  74% 3.66G/4.98G [00:09<00:03, 367MB/s]\u001b[A\n",
            "model-00001-of-00004.safetensors:  74% 3.70G/4.98G [00:09<00:03, 348MB/s]\u001b[A\n",
            "model-00001-of-00004.safetensors:  75% 3.74G/4.98G [00:09<00:03, 363MB/s]\u001b[A\n",
            "model-00001-of-00004.safetensors:  76% 3.79G/4.98G [00:10<00:03, 364MB/s]\u001b[A\n",
            "model-00001-of-00004.safetensors:  77% 3.83G/4.98G [00:10<00:05, 217MB/s]\u001b[A\n",
            "model-00001-of-00004.safetensors:  78% 3.86G/4.98G [00:10<00:05, 214MB/s]\u001b[A\n",
            "model-00001-of-00004.safetensors:  78% 3.89G/4.98G [00:10<00:05, 209MB/s]\u001b[A\n",
            "model-00001-of-00004.safetensors:  79% 3.93G/4.98G [00:10<00:04, 249MB/s]\u001b[A\n",
            "model-00001-of-00004.safetensors:  80% 3.98G/4.98G [00:10<00:03, 304MB/s]\u001b[A\n",
            "model-00001-of-00004.safetensors:  81% 4.04G/4.98G [00:11<00:02, 336MB/s]\u001b[A\n",
            "model-00001-of-00004.safetensors:  82% 4.08G/4.98G [00:11<00:02, 356MB/s]\u001b[A\n",
            "model-00001-of-00004.safetensors:  83% 4.12G/4.98G [00:11<00:03, 231MB/s]\u001b[A\n",
            "model-00001-of-00004.safetensors:  83% 4.15G/4.98G [00:11<00:04, 203MB/s]\u001b[A\n",
            "model-00001-of-00004.safetensors:  84% 4.18G/4.98G [00:12<00:04, 165MB/s]\u001b[A\n",
            "model-00001-of-00004.safetensors:  85% 4.22G/4.98G [00:12<00:05, 141MB/s]\u001b[A\n",
            "model-00001-of-00004.safetensors:  85% 4.24G/4.98G [00:12<00:05, 132MB/s]\u001b[A\n",
            "model-00001-of-00004.safetensors:  86% 4.26G/4.98G [00:12<00:06, 119MB/s]\u001b[A\n",
            "model-00001-of-00004.safetensors:  86% 4.28G/4.98G [00:12<00:05, 123MB/s]\u001b[A\n",
            "model-00001-of-00004.safetensors:  86% 4.30G/4.98G [00:13<00:05, 124MB/s]\u001b[A\n",
            "model-00001-of-00004.safetensors:  87% 4.34G/4.98G [00:13<00:03, 172MB/s]\u001b[A\n",
            "model-00001-of-00004.safetensors:  88% 4.36G/4.98G [00:13<00:03, 154MB/s]\u001b[A\n",
            "model-00001-of-00004.safetensors:  88% 4.38G/4.98G [00:13<00:04, 147MB/s]\u001b[A\n",
            "model-00001-of-00004.safetensors:  89% 4.42G/4.98G [00:13<00:02, 198MB/s]\u001b[A\n",
            "model-00001-of-00004.safetensors:  90% 4.47G/4.98G [00:13<00:02, 241MB/s]\u001b[A\n",
            "model-00001-of-00004.safetensors:  91% 4.51G/4.98G [00:13<00:01, 279MB/s]\u001b[A\n",
            "model-00001-of-00004.safetensors:  92% 4.56G/4.98G [00:13<00:01, 339MB/s]\u001b[A\n",
            "model-00001-of-00004.safetensors:  92% 4.60G/4.98G [00:14<00:01, 312MB/s]\u001b[A\n",
            "model-00001-of-00004.safetensors:  93% 4.65G/4.98G [00:14<00:01, 305MB/s]\u001b[A\n",
            "model-00001-of-00004.safetensors:  94% 4.70G/4.98G [00:14<00:00, 341MB/s]\u001b[A\n",
            "model-00001-of-00004.safetensors:  95% 4.75G/4.98G [00:14<00:00, 368MB/s]\u001b[A\n",
            "model-00001-of-00004.safetensors:  96% 4.80G/4.98G [00:14<00:00, 381MB/s]\u001b[A\n",
            "model-00001-of-00004.safetensors:  97% 4.84G/4.98G [00:14<00:00, 370MB/s]\u001b[A\n",
            "model-00001-of-00004.safetensors:  98% 4.89G/4.98G [00:15<00:00, 255MB/s]\u001b[A\n",
            "model-00001-of-00004.safetensors:  99% 4.92G/4.98G [00:15<00:00, 232MB/s]\u001b[A\n",
            "model-00001-of-00004.safetensors: 100% 4.98G/4.98G [00:15<00:00, 324MB/s]\n",
            "Downloading shards:  25% 1/4 [00:15<00:47, 15.88s/it]\n",
            "model-00002-of-00004.safetensors:   0% 0.00/5.00G [00:00<?, ?B/s]\u001b[A\n",
            "model-00002-of-00004.safetensors:   1% 31.5M/5.00G [00:00<00:16, 309MB/s]\u001b[A\n",
            "model-00002-of-00004.safetensors:   2% 83.9M/5.00G [00:00<00:12, 390MB/s]\u001b[A\n",
            "model-00002-of-00004.safetensors:   3% 136M/5.00G [00:00<00:11, 407MB/s] \u001b[A\n",
            "model-00002-of-00004.safetensors:   4% 178M/5.00G [00:00<00:12, 385MB/s]\u001b[A\n",
            "model-00002-of-00004.safetensors:   4% 220M/5.00G [00:00<00:12, 373MB/s]\u001b[A\n",
            "model-00002-of-00004.safetensors:   5% 262M/5.00G [00:00<00:12, 379MB/s]\u001b[A\n",
            "model-00002-of-00004.safetensors:   6% 304M/5.00G [00:00<00:12, 370MB/s]\u001b[A\n",
            "model-00002-of-00004.safetensors:   7% 357M/5.00G [00:00<00:12, 383MB/s]\u001b[A\n",
            "model-00002-of-00004.safetensors:   8% 398M/5.00G [00:01<00:12, 381MB/s]\u001b[A\n",
            "model-00002-of-00004.safetensors:   9% 440M/5.00G [00:01<00:12, 374MB/s]\u001b[A\n",
            "model-00002-of-00004.safetensors:  10% 482M/5.00G [00:01<00:12, 375MB/s]\u001b[A\n",
            "model-00002-of-00004.safetensors:  10% 524M/5.00G [00:01<00:11, 375MB/s]\u001b[A\n",
            "model-00002-of-00004.safetensors:  11% 566M/5.00G [00:01<00:13, 340MB/s]\u001b[A\n",
            "model-00002-of-00004.safetensors:  12% 608M/5.00G [00:01<00:13, 323MB/s]\u001b[A\n",
            "model-00002-of-00004.safetensors:  13% 650M/5.00G [00:01<00:13, 316MB/s]\u001b[A\n",
            "model-00002-of-00004.safetensors:  14% 703M/5.00G [00:01<00:12, 356MB/s]\u001b[A\n",
            "model-00002-of-00004.safetensors:  15% 744M/5.00G [00:02<00:11, 370MB/s]\u001b[A\n",
            "model-00002-of-00004.safetensors:  16% 786M/5.00G [00:02<00:11, 364MB/s]\u001b[A\n",
            "model-00002-of-00004.safetensors:  17% 828M/5.00G [00:02<00:12, 346MB/s]\u001b[A\n",
            "model-00002-of-00004.safetensors:  17% 870M/5.00G [00:02<00:11, 350MB/s]\u001b[A\n",
            "model-00002-of-00004.safetensors:  18% 912M/5.00G [00:02<00:11, 352MB/s]\u001b[A\n",
            "model-00002-of-00004.safetensors:  19% 954M/5.00G [00:02<00:12, 334MB/s]\u001b[A\n",
            "model-00002-of-00004.safetensors:  20% 996M/5.00G [00:02<00:11, 340MB/s]\u001b[A\n",
            "model-00002-of-00004.safetensors:  21% 1.04G/5.00G [00:02<00:11, 345MB/s]\u001b[A\n",
            "model-00002-of-00004.safetensors:  22% 1.08G/5.00G [00:03<00:11, 352MB/s]\u001b[A\n",
            "model-00002-of-00004.safetensors:  22% 1.12G/5.00G [00:03<00:10, 363MB/s]\u001b[A\n",
            "model-00002-of-00004.safetensors:  23% 1.16G/5.00G [00:03<00:10, 362MB/s]\u001b[A\n",
            "model-00002-of-00004.safetensors:  24% 1.21G/5.00G [00:03<00:10, 374MB/s]\u001b[A\n",
            "model-00002-of-00004.safetensors:  25% 1.25G/5.00G [00:03<00:10, 372MB/s]\u001b[A\n",
            "model-00002-of-00004.safetensors:  26% 1.30G/5.00G [00:03<00:09, 387MB/s]\u001b[A\n",
            "model-00002-of-00004.safetensors:  27% 1.34G/5.00G [00:03<00:09, 391MB/s]\u001b[A\n",
            "model-00002-of-00004.safetensors:  28% 1.38G/5.00G [00:03<00:09, 397MB/s]\u001b[A\n",
            "model-00002-of-00004.safetensors:  29% 1.44G/5.00G [00:03<00:08, 402MB/s]\u001b[A\n",
            "model-00002-of-00004.safetensors:  30% 1.49G/5.00G [00:04<00:08, 413MB/s]\u001b[A\n",
            "model-00002-of-00004.safetensors:  31% 1.54G/5.00G [00:04<00:08, 411MB/s]\u001b[A\n",
            "model-00002-of-00004.safetensors:  32% 1.58G/5.00G [00:04<00:08, 404MB/s]\u001b[A\n",
            "model-00002-of-00004.safetensors:  33% 1.63G/5.00G [00:04<00:08, 405MB/s]\u001b[A\n",
            "model-00002-of-00004.safetensors:  34% 1.68G/5.00G [00:04<00:08, 409MB/s]\u001b[A\n",
            "model-00002-of-00004.safetensors:  34% 1.72G/5.00G [00:04<00:08, 382MB/s]\u001b[A\n",
            "model-00002-of-00004.safetensors:  35% 1.76G/5.00G [00:04<00:08, 383MB/s]\u001b[A\n",
            "model-00002-of-00004.safetensors:  36% 1.80G/5.00G [00:04<00:08, 362MB/s]\u001b[A\n",
            "model-00002-of-00004.safetensors:  37% 1.85G/5.00G [00:04<00:08, 363MB/s]\u001b[A\n",
            "model-00002-of-00004.safetensors:  38% 1.89G/5.00G [00:05<00:08, 376MB/s]\u001b[A\n",
            "model-00002-of-00004.safetensors:  39% 1.94G/5.00G [00:05<00:07, 391MB/s]\u001b[A\n",
            "model-00002-of-00004.safetensors:  40% 1.99G/5.00G [00:05<00:07, 406MB/s]\u001b[A\n",
            "model-00002-of-00004.safetensors:  41% 2.04G/5.00G [00:05<00:07, 416MB/s]\u001b[A\n",
            "model-00002-of-00004.safetensors:  42% 2.10G/5.00G [00:05<00:06, 417MB/s]\u001b[A\n",
            "model-00002-of-00004.safetensors:  43% 2.14G/5.00G [00:05<00:06, 414MB/s]\u001b[A\n",
            "model-00002-of-00004.safetensors:  44% 2.18G/5.00G [00:05<00:06, 414MB/s]\u001b[A\n",
            "model-00002-of-00004.safetensors:  45% 2.23G/5.00G [00:06<00:10, 274MB/s]\u001b[A\n",
            "model-00002-of-00004.safetensors:  46% 2.29G/5.00G [00:06<00:08, 313MB/s]\u001b[A\n",
            "model-00002-of-00004.safetensors:  47% 2.34G/5.00G [00:06<00:07, 343MB/s]\u001b[A\n",
            "model-00002-of-00004.safetensors:  48% 2.38G/5.00G [00:06<00:07, 356MB/s]\u001b[A\n",
            "model-00002-of-00004.safetensors:  48% 2.42G/5.00G [00:06<00:06, 370MB/s]\u001b[A\n",
            "model-00002-of-00004.safetensors:  49% 2.46G/5.00G [00:06<00:06, 368MB/s]\u001b[A\n",
            "model-00002-of-00004.safetensors:  50% 2.51G/5.00G [00:06<00:06, 374MB/s]\u001b[A\n",
            "model-00002-of-00004.safetensors:  51% 2.56G/5.00G [00:06<00:06, 397MB/s]\u001b[A\n",
            "model-00002-of-00004.safetensors:  52% 2.60G/5.00G [00:06<00:06, 397MB/s]\u001b[A\n",
            "model-00002-of-00004.safetensors:  53% 2.64G/5.00G [00:07<00:06, 392MB/s]\u001b[A\n",
            "model-00002-of-00004.safetensors:  54% 2.68G/5.00G [00:07<00:05, 392MB/s]\u001b[A\n",
            "model-00002-of-00004.safetensors:  55% 2.74G/5.00G [00:07<00:05, 408MB/s]\u001b[A\n",
            "model-00002-of-00004.safetensors:  56% 2.79G/5.00G [00:07<00:05, 428MB/s]\u001b[A\n",
            "model-00002-of-00004.safetensors:  57% 2.84G/5.00G [00:07<00:04, 435MB/s]\u001b[A\n",
            "model-00002-of-00004.safetensors:  58% 2.89G/5.00G [00:07<00:04, 441MB/s]\u001b[A\n",
            "model-00002-of-00004.safetensors:  59% 2.95G/5.00G [00:07<00:04, 421MB/s]\u001b[A\n",
            "model-00002-of-00004.safetensors:  60% 3.00G/5.00G [00:07<00:04, 432MB/s]\u001b[A\n",
            "model-00002-of-00004.safetensors:  61% 3.05G/5.00G [00:08<00:04, 424MB/s]\u001b[A\n",
            "model-00002-of-00004.safetensors:  62% 3.10G/5.00G [00:08<00:04, 425MB/s]\u001b[A\n",
            "model-00002-of-00004.safetensors:  63% 3.16G/5.00G [00:08<00:04, 433MB/s]\u001b[A\n",
            "model-00002-of-00004.safetensors:  64% 3.21G/5.00G [00:08<00:04, 443MB/s]\u001b[A\n",
            "model-00002-of-00004.safetensors:  65% 3.26G/5.00G [00:08<00:03, 448MB/s]\u001b[A\n",
            "model-00002-of-00004.safetensors:  66% 3.31G/5.00G [00:08<00:03, 455MB/s]\u001b[A\n",
            "model-00002-of-00004.safetensors:  67% 3.37G/5.00G [00:08<00:03, 456MB/s]\u001b[A\n",
            "model-00002-of-00004.safetensors:  68% 3.42G/5.00G [00:08<00:03, 449MB/s]\u001b[A\n",
            "model-00002-of-00004.safetensors:  69% 3.47G/5.00G [00:09<00:03, 421MB/s]\u001b[A\n",
            "model-00002-of-00004.safetensors:  70% 3.52G/5.00G [00:09<00:04, 339MB/s]\u001b[A\n",
            "model-00002-of-00004.safetensors:  71% 3.57G/5.00G [00:09<00:04, 313MB/s]\u001b[A\n",
            "model-00002-of-00004.safetensors:  72% 3.61G/5.00G [00:09<00:04, 298MB/s]\u001b[A\n",
            "model-00002-of-00004.safetensors:  73% 3.64G/5.00G [00:09<00:04, 285MB/s]\u001b[A\n",
            "model-00002-of-00004.safetensors:  73% 3.67G/5.00G [00:09<00:04, 284MB/s]\u001b[A\n",
            "model-00002-of-00004.safetensors:  74% 3.70G/5.00G [00:09<00:04, 280MB/s]\u001b[A\n",
            "model-00002-of-00004.safetensors:  75% 3.74G/5.00G [00:10<00:04, 300MB/s]\u001b[A\n",
            "model-00002-of-00004.safetensors:  76% 3.77G/5.00G [00:10<00:04, 246MB/s]\u001b[A\n",
            "model-00002-of-00004.safetensors:  76% 3.81G/5.00G [00:10<00:05, 207MB/s]\u001b[A\n",
            "model-00002-of-00004.safetensors:  77% 3.84G/5.00G [00:10<00:06, 167MB/s]\u001b[A\n",
            "model-00002-of-00004.safetensors:  77% 3.86G/5.00G [00:10<00:06, 174MB/s]\u001b[A\n",
            "model-00002-of-00004.safetensors:  78% 3.89G/5.00G [00:10<00:05, 187MB/s]\u001b[A\n",
            "model-00002-of-00004.safetensors:  78% 3.92G/5.00G [00:11<00:05, 197MB/s]\u001b[A\n",
            "model-00002-of-00004.safetensors:  79% 3.95G/5.00G [00:11<00:06, 161MB/s]\u001b[A\n",
            "model-00002-of-00004.safetensors:  79% 3.97G/5.00G [00:11<00:06, 165MB/s]\u001b[A\n",
            "model-00002-of-00004.safetensors:  80% 4.00G/5.00G [00:11<00:06, 165MB/s]\u001b[A\n",
            "model-00002-of-00004.safetensors:  80% 4.02G/5.00G [00:11<00:06, 146MB/s]\u001b[A\n",
            "model-00002-of-00004.safetensors:  81% 4.04G/5.00G [00:11<00:07, 136MB/s]\u001b[A\n",
            "model-00002-of-00004.safetensors:  81% 4.06G/5.00G [00:12<00:07, 125MB/s]\u001b[A\n",
            "model-00002-of-00004.safetensors:  82% 4.08G/5.00G [00:12<00:07, 129MB/s]\u001b[A\n",
            "model-00002-of-00004.safetensors:  82% 4.10G/5.00G [00:12<00:07, 126MB/s]\u001b[A\n",
            "model-00002-of-00004.safetensors:  82% 4.12G/5.00G [00:12<00:07, 121MB/s]\u001b[A\n",
            "model-00002-of-00004.safetensors:  83% 4.14G/5.00G [00:12<00:06, 124MB/s]\u001b[A\n",
            "model-00002-of-00004.safetensors:  83% 4.16G/5.00G [00:13<00:06, 130MB/s]\u001b[A\n",
            "model-00002-of-00004.safetensors:  84% 4.18G/5.00G [00:13<00:06, 132MB/s]\u001b[A\n",
            "model-00002-of-00004.safetensors:  84% 4.20G/5.00G [00:13<00:06, 121MB/s]\u001b[A\n",
            "model-00002-of-00004.safetensors:  85% 4.23G/5.00G [00:13<00:06, 125MB/s]\u001b[A\n",
            "model-00002-of-00004.safetensors:  85% 4.25G/5.00G [00:13<00:06, 118MB/s]\u001b[A\n",
            "model-00002-of-00004.safetensors:  85% 4.27G/5.00G [00:13<00:06, 117MB/s]\u001b[A\n",
            "model-00002-of-00004.safetensors:  86% 4.29G/5.00G [00:14<00:06, 111MB/s]\u001b[A\n",
            "model-00002-of-00004.safetensors:  87% 4.33G/5.00G [00:14<00:04, 165MB/s]\u001b[A\n",
            "model-00002-of-00004.safetensors:  88% 4.38G/5.00G [00:14<00:02, 234MB/s]\u001b[A\n",
            "model-00002-of-00004.safetensors:  89% 4.44G/5.00G [00:14<00:01, 286MB/s]\u001b[A\n",
            "model-00002-of-00004.safetensors:  90% 4.49G/5.00G [00:14<00:01, 325MB/s]\u001b[A\n",
            "model-00002-of-00004.safetensors:  91% 4.53G/5.00G [00:14<00:01, 347MB/s]\u001b[A\n",
            "model-00002-of-00004.safetensors:  91% 4.57G/5.00G [00:14<00:01, 357MB/s]\u001b[A\n",
            "model-00002-of-00004.safetensors:  92% 4.61G/5.00G [00:14<00:01, 356MB/s]\u001b[A\n",
            "model-00002-of-00004.safetensors:  93% 4.66G/5.00G [00:15<00:00, 365MB/s]\u001b[A\n",
            "model-00002-of-00004.safetensors:  94% 4.70G/5.00G [00:15<00:00, 366MB/s]\u001b[A\n",
            "model-00002-of-00004.safetensors:  95% 4.75G/5.00G [00:15<00:00, 384MB/s]\u001b[A\n",
            "model-00002-of-00004.safetensors:  96% 4.80G/5.00G [00:15<00:00, 398MB/s]\u001b[A\n",
            "model-00002-of-00004.safetensors:  97% 4.84G/5.00G [00:15<00:00, 399MB/s]\u001b[A\n",
            "model-00002-of-00004.safetensors:  98% 4.90G/5.00G [00:15<00:00, 418MB/s]\u001b[A\n",
            "model-00002-of-00004.safetensors:  99% 4.95G/5.00G [00:15<00:00, 439MB/s]\u001b[A\n",
            "model-00002-of-00004.safetensors: 100% 5.00G/5.00G [00:15<00:00, 315MB/s]\n",
            "Downloading shards:  50% 2/4 [00:32<00:32, 16.17s/it]\n",
            "model-00003-of-00004.safetensors:   0% 0.00/4.92G [00:00<?, ?B/s]\u001b[A\n",
            "model-00003-of-00004.safetensors:   1% 31.5M/4.92G [00:00<00:18, 266MB/s]\u001b[A\n",
            "model-00003-of-00004.safetensors:   1% 73.4M/4.92G [00:00<00:15, 317MB/s]\u001b[A\n",
            "model-00003-of-00004.safetensors:   2% 115M/4.92G [00:00<00:14, 339MB/s] \u001b[A\n",
            "model-00003-of-00004.safetensors:   3% 157M/4.92G [00:00<00:13, 352MB/s]\u001b[A\n",
            "model-00003-of-00004.safetensors:   4% 199M/4.92G [00:00<00:12, 365MB/s]\u001b[A\n",
            "model-00003-of-00004.safetensors:   5% 241M/4.92G [00:00<00:12, 371MB/s]\u001b[A\n",
            "model-00003-of-00004.safetensors:   6% 283M/4.92G [00:00<00:12, 378MB/s]\u001b[A\n",
            "model-00003-of-00004.safetensors:   7% 325M/4.92G [00:00<00:12, 370MB/s]\u001b[A\n",
            "model-00003-of-00004.safetensors:   7% 367M/4.92G [00:01<00:12, 375MB/s]\u001b[A\n",
            "model-00003-of-00004.safetensors:   8% 409M/4.92G [00:01<00:11, 385MB/s]\u001b[A\n",
            "model-00003-of-00004.safetensors:   9% 451M/4.92G [00:01<00:11, 385MB/s]\u001b[A\n",
            "model-00003-of-00004.safetensors:  10% 503M/4.92G [00:01<00:10, 401MB/s]\u001b[A\n",
            "model-00003-of-00004.safetensors:  11% 556M/4.92G [00:01<00:10, 412MB/s]\u001b[A\n",
            "model-00003-of-00004.safetensors:  12% 608M/4.92G [00:01<00:10, 416MB/s]\u001b[A\n",
            "model-00003-of-00004.safetensors:  13% 661M/4.92G [00:01<00:10, 424MB/s]\u001b[A\n",
            "model-00003-of-00004.safetensors:  15% 713M/4.92G [00:01<00:09, 439MB/s]\u001b[A\n",
            "model-00003-of-00004.safetensors:  16% 765M/4.92G [00:01<00:09, 445MB/s]\u001b[A\n",
            "model-00003-of-00004.safetensors:  17% 818M/4.92G [00:02<00:09, 447MB/s]\u001b[A\n",
            "model-00003-of-00004.safetensors:  18% 870M/4.92G [00:02<00:09, 439MB/s]\u001b[A\n",
            "model-00003-of-00004.safetensors:  19% 923M/4.92G [00:02<00:09, 430MB/s]\u001b[A\n",
            "model-00003-of-00004.safetensors:  20% 975M/4.92G [00:02<00:09, 408MB/s]\u001b[A\n",
            "model-00003-of-00004.safetensors:  21% 1.03G/4.92G [00:02<00:09, 418MB/s]\u001b[A\n",
            "model-00003-of-00004.safetensors:  22% 1.08G/4.92G [00:02<00:09, 424MB/s]\u001b[A\n",
            "model-00003-of-00004.safetensors:  23% 1.13G/4.92G [00:02<00:08, 441MB/s]\u001b[A\n",
            "model-00003-of-00004.safetensors:  24% 1.20G/4.92G [00:02<00:08, 465MB/s]\u001b[A\n",
            "model-00003-of-00004.safetensors:  25% 1.25G/4.92G [00:03<00:07, 474MB/s]\u001b[A\n",
            "model-00003-of-00004.safetensors:  26% 1.30G/4.92G [00:03<00:07, 465MB/s]\u001b[A\n",
            "model-00003-of-00004.safetensors:  28% 1.35G/4.92G [00:03<00:08, 441MB/s]\u001b[A\n",
            "model-00003-of-00004.safetensors:  29% 1.41G/4.92G [00:03<00:07, 443MB/s]\u001b[A\n",
            "model-00003-of-00004.safetensors:  30% 1.46G/4.92G [00:03<00:07, 449MB/s]\u001b[A\n",
            "model-00003-of-00004.safetensors:  31% 1.51G/4.92G [00:03<00:07, 449MB/s]\u001b[A\n",
            "model-00003-of-00004.safetensors:  32% 1.56G/4.92G [00:03<00:07, 465MB/s]\u001b[A\n",
            "model-00003-of-00004.safetensors:  33% 1.61G/4.92G [00:03<00:06, 472MB/s]\u001b[A\n",
            "model-00003-of-00004.safetensors:  34% 1.68G/4.92G [00:03<00:06, 486MB/s]\u001b[A\n",
            "model-00003-of-00004.safetensors:  35% 1.73G/4.92G [00:04<00:06, 465MB/s]\u001b[A\n",
            "model-00003-of-00004.safetensors:  36% 1.78G/4.92G [00:04<00:06, 476MB/s]\u001b[A\n",
            "model-00003-of-00004.safetensors:  37% 1.84G/4.92G [00:04<00:07, 387MB/s]\u001b[A\n",
            "model-00003-of-00004.safetensors:  38% 1.88G/4.92G [00:04<00:10, 287MB/s]\u001b[A\n",
            "model-00003-of-00004.safetensors:  39% 1.92G/4.92G [00:04<00:13, 222MB/s]\u001b[A\n",
            "model-00003-of-00004.safetensors:  40% 1.95G/4.92G [00:05<00:14, 205MB/s]\u001b[A\n",
            "model-00003-of-00004.safetensors:  40% 1.98G/4.92G [00:05<00:14, 207MB/s]\u001b[A\n",
            "model-00003-of-00004.safetensors:  41% 2.02G/4.92G [00:05<00:12, 232MB/s]\u001b[A\n",
            "model-00003-of-00004.safetensors:  42% 2.07G/4.92G [00:05<00:10, 262MB/s]\u001b[A\n",
            "model-00003-of-00004.safetensors:  43% 2.12G/4.92G [00:05<00:09, 302MB/s]\u001b[A\n",
            "model-00003-of-00004.safetensors:  44% 2.17G/4.92G [00:05<00:08, 338MB/s]\u001b[A\n",
            "model-00003-of-00004.safetensors:  45% 2.22G/4.92G [00:05<00:07, 362MB/s]\u001b[A\n",
            "model-00003-of-00004.safetensors:  46% 2.28G/4.92G [00:06<00:06, 382MB/s]\u001b[A\n",
            "model-00003-of-00004.safetensors:  47% 2.33G/4.92G [00:06<00:06, 396MB/s]\u001b[A\n",
            "model-00003-of-00004.safetensors:  48% 2.38G/4.92G [00:06<00:06, 409MB/s]\u001b[A\n",
            "model-00003-of-00004.safetensors:  49% 2.43G/4.92G [00:06<00:05, 422MB/s]\u001b[A\n",
            "model-00003-of-00004.safetensors:  51% 2.49G/4.92G [00:06<00:05, 428MB/s]\u001b[A\n",
            "model-00003-of-00004.safetensors:  52% 2.54G/4.92G [00:06<00:05, 432MB/s]\u001b[A\n",
            "model-00003-of-00004.safetensors:  53% 2.59G/4.92G [00:06<00:05, 431MB/s]\u001b[A\n",
            "model-00003-of-00004.safetensors:  54% 2.64G/4.92G [00:06<00:05, 438MB/s]\u001b[A\n",
            "model-00003-of-00004.safetensors:  55% 2.69G/4.92G [00:06<00:05, 430MB/s]\u001b[A\n",
            "model-00003-of-00004.safetensors:  56% 2.75G/4.92G [00:07<00:05, 409MB/s]\u001b[A\n",
            "model-00003-of-00004.safetensors:  57% 2.80G/4.92G [00:07<00:05, 421MB/s]\u001b[A\n",
            "model-00003-of-00004.safetensors:  58% 2.85G/4.92G [00:07<00:05, 408MB/s]\u001b[A\n",
            "model-00003-of-00004.safetensors:  59% 2.90G/4.92G [00:07<00:04, 423MB/s]\u001b[A\n",
            "model-00003-of-00004.safetensors:  60% 2.96G/4.92G [00:07<00:04, 407MB/s]\u001b[A\n",
            "model-00003-of-00004.safetensors:  61% 3.01G/4.92G [00:07<00:04, 422MB/s]\u001b[A\n",
            "model-00003-of-00004.safetensors:  62% 3.06G/4.92G [00:07<00:04, 420MB/s]\u001b[A\n",
            "model-00003-of-00004.safetensors:  63% 3.11G/4.92G [00:08<00:04, 407MB/s]\u001b[A\n",
            "model-00003-of-00004.safetensors:  64% 3.16G/4.92G [00:08<00:04, 397MB/s]\u001b[A\n",
            "model-00003-of-00004.safetensors:  65% 3.20G/4.92G [00:08<00:04, 392MB/s]\u001b[A\n",
            "model-00003-of-00004.safetensors:  66% 3.24G/4.92G [00:08<00:04, 370MB/s]\u001b[A\n",
            "model-00003-of-00004.safetensors:  67% 3.28G/4.92G [00:08<00:04, 365MB/s]\u001b[A\n",
            "model-00003-of-00004.safetensors:  68% 3.32G/4.92G [00:08<00:04, 357MB/s]\u001b[A\n",
            "model-00003-of-00004.safetensors:  68% 3.37G/4.92G [00:08<00:04, 346MB/s]\u001b[A\n",
            "model-00003-of-00004.safetensors:  69% 3.41G/4.92G [00:08<00:04, 332MB/s]\u001b[A\n",
            "model-00003-of-00004.safetensors:  70% 3.45G/4.92G [00:09<00:04, 328MB/s]\u001b[A\n",
            "model-00003-of-00004.safetensors:  71% 3.49G/4.92G [00:09<00:04, 320MB/s]\u001b[A\n",
            "model-00003-of-00004.safetensors:  72% 3.53G/4.92G [00:09<00:04, 305MB/s]\u001b[A\n",
            "model-00003-of-00004.safetensors:  73% 3.57G/4.92G [00:09<00:04, 303MB/s]\u001b[A\n",
            "model-00003-of-00004.safetensors:  73% 3.60G/4.92G [00:09<00:04, 299MB/s]\u001b[A\n",
            "model-00003-of-00004.safetensors:  74% 3.63G/4.92G [00:09<00:04, 295MB/s]\u001b[A\n",
            "model-00003-of-00004.safetensors:  74% 3.66G/4.92G [00:09<00:04, 293MB/s]\u001b[A\n",
            "model-00003-of-00004.safetensors:  75% 3.69G/4.92G [00:09<00:04, 292MB/s]\u001b[A\n",
            "model-00003-of-00004.safetensors:  76% 3.72G/4.92G [00:09<00:04, 289MB/s]\u001b[A\n",
            "model-00003-of-00004.safetensors:  76% 3.75G/4.92G [00:10<00:04, 277MB/s]\u001b[A\n",
            "model-00003-of-00004.safetensors:  77% 3.79G/4.92G [00:10<00:04, 231MB/s]\u001b[A\n",
            "model-00003-of-00004.safetensors:  78% 3.82G/4.92G [00:10<00:05, 203MB/s]\u001b[A\n",
            "model-00003-of-00004.safetensors:  78% 3.85G/4.92G [00:10<00:06, 166MB/s]\u001b[A\n",
            "model-00003-of-00004.safetensors:  79% 3.87G/4.92G [00:10<00:06, 164MB/s]\u001b[A\n",
            "model-00003-of-00004.safetensors:  79% 3.89G/4.92G [00:10<00:05, 173MB/s]\u001b[A\n",
            "model-00003-of-00004.safetensors:  80% 3.91G/4.92G [00:11<00:05, 174MB/s]\u001b[A\n",
            "model-00003-of-00004.safetensors:  80% 3.93G/4.92G [00:11<00:05, 178MB/s]\u001b[A\n",
            "model-00003-of-00004.safetensors:  81% 3.97G/4.92G [00:11<00:04, 207MB/s]\u001b[A\n",
            "model-00003-of-00004.safetensors:  81% 4.00G/4.92G [00:11<00:04, 193MB/s]\u001b[A\n",
            "model-00003-of-00004.safetensors:  82% 4.03G/4.92G [00:11<00:04, 212MB/s]\u001b[A\n",
            "model-00003-of-00004.safetensors:  83% 4.06G/4.92G [00:11<00:04, 202MB/s]\u001b[A\n",
            "model-00003-of-00004.safetensors:  83% 4.10G/4.92G [00:11<00:04, 201MB/s]\u001b[A\n",
            "model-00003-of-00004.safetensors:  84% 4.12G/4.92G [00:12<00:03, 200MB/s]\u001b[A\n",
            "model-00003-of-00004.safetensors:  84% 4.14G/4.92G [00:12<00:04, 179MB/s]\u001b[A\n",
            "model-00003-of-00004.safetensors:  85% 4.16G/4.92G [00:12<00:04, 177MB/s]\u001b[A\n",
            "model-00003-of-00004.safetensors:  85% 4.18G/4.92G [00:12<00:04, 168MB/s]\u001b[A\n",
            "model-00003-of-00004.safetensors:  86% 4.20G/4.92G [00:12<00:04, 174MB/s]\u001b[A\n",
            "model-00003-of-00004.safetensors:  86% 4.23G/4.92G [00:12<00:03, 180MB/s]\u001b[A\n",
            "model-00003-of-00004.safetensors:  86% 4.25G/4.92G [00:12<00:03, 168MB/s]\u001b[A\n",
            "model-00003-of-00004.safetensors:  87% 4.27G/4.92G [00:12<00:03, 170MB/s]\u001b[A\n",
            "model-00003-of-00004.safetensors:  87% 4.29G/4.92G [00:13<00:05, 111MB/s]\u001b[A\n",
            "model-00003-of-00004.safetensors:  88% 4.33G/4.92G [00:13<00:03, 147MB/s]\u001b[A\n",
            "model-00003-of-00004.safetensors:  89% 4.35G/4.92G [00:13<00:04, 140MB/s]\u001b[A\n",
            "model-00003-of-00004.safetensors:  89% 4.37G/4.92G [00:13<00:04, 135MB/s]\u001b[A\n",
            "model-00003-of-00004.safetensors:  89% 4.39G/4.92G [00:14<00:04, 126MB/s]\u001b[A\n",
            "model-00003-of-00004.safetensors:  90% 4.41G/4.92G [00:14<00:04, 119MB/s]\u001b[A\n",
            "model-00003-of-00004.safetensors:  90% 4.44G/4.92G [00:14<00:03, 120MB/s]\u001b[A\n",
            "model-00003-of-00004.safetensors:  91% 4.46G/4.92G [00:14<00:04, 107MB/s]\u001b[A\n",
            "model-00003-of-00004.safetensors:  91% 4.48G/4.92G [00:14<00:04, 105MB/s]\u001b[A\n",
            "model-00003-of-00004.safetensors:  92% 4.52G/4.92G [00:14<00:02, 158MB/s]\u001b[A\n",
            "model-00003-of-00004.safetensors:  93% 4.57G/4.92G [00:15<00:01, 230MB/s]\u001b[A\n",
            "model-00003-of-00004.safetensors:  94% 4.62G/4.92G [00:15<00:01, 289MB/s]\u001b[A\n",
            "model-00003-of-00004.safetensors:  95% 4.68G/4.92G [00:15<00:00, 336MB/s]\u001b[A\n",
            "model-00003-of-00004.safetensors:  96% 4.72G/4.92G [00:15<00:00, 355MB/s]\u001b[A\n",
            "model-00003-of-00004.safetensors:  97% 4.76G/4.92G [00:15<00:00, 367MB/s]\u001b[A\n",
            "model-00003-of-00004.safetensors:  98% 4.80G/4.92G [00:15<00:00, 374MB/s]\u001b[A\n",
            "model-00003-of-00004.safetensors:  99% 4.84G/4.92G [00:15<00:00, 367MB/s]\u001b[A\n",
            "model-00003-of-00004.safetensors: 100% 4.92G/4.92G [00:15<00:00, 308MB/s]\n",
            "Downloading shards:  75% 3/4 [00:48<00:16, 16.30s/it]\n",
            "model-00004-of-00004.safetensors:   0% 0.00/1.17G [00:00<?, ?B/s]\u001b[A\n",
            "model-00004-of-00004.safetensors:   2% 21.0M/1.17G [00:00<00:08, 135MB/s]\u001b[A\n",
            "model-00004-of-00004.safetensors:   4% 52.4M/1.17G [00:00<00:05, 220MB/s]\u001b[A\n",
            "model-00004-of-00004.safetensors:   9% 105M/1.17G [00:00<00:03, 320MB/s] \u001b[A\n",
            "model-00004-of-00004.safetensors:  13% 157M/1.17G [00:00<00:02, 376MB/s]\u001b[A\n",
            "model-00004-of-00004.safetensors:  18% 210M/1.17G [00:00<00:02, 408MB/s]\u001b[A\n",
            "model-00004-of-00004.safetensors:  22% 262M/1.17G [00:00<00:02, 427MB/s]\u001b[A\n",
            "model-00004-of-00004.safetensors:  27% 315M/1.17G [00:00<00:01, 429MB/s]\u001b[A\n",
            "model-00004-of-00004.safetensors:  31% 367M/1.17G [00:00<00:01, 442MB/s]\u001b[A\n",
            "model-00004-of-00004.safetensors:  36% 419M/1.17G [00:01<00:01, 449MB/s]\u001b[A\n",
            "model-00004-of-00004.safetensors:  40% 472M/1.17G [00:01<00:01, 454MB/s]\u001b[A\n",
            "model-00004-of-00004.safetensors:  45% 524M/1.17G [00:01<00:01, 460MB/s]\u001b[A\n",
            "model-00004-of-00004.safetensors:  49% 577M/1.17G [00:01<00:01, 466MB/s]\u001b[A\n",
            "model-00004-of-00004.safetensors:  54% 629M/1.17G [00:01<00:01, 468MB/s]\u001b[A\n",
            "model-00004-of-00004.safetensors:  58% 682M/1.17G [00:01<00:01, 467MB/s]\u001b[A\n",
            "model-00004-of-00004.safetensors:  63% 734M/1.17G [00:01<00:00, 469MB/s]\u001b[A\n",
            "model-00004-of-00004.safetensors:  67% 786M/1.17G [00:01<00:00, 470MB/s]\u001b[A\n",
            "model-00004-of-00004.safetensors:  72% 839M/1.17G [00:01<00:00, 471MB/s]\u001b[A\n",
            "model-00004-of-00004.safetensors:  76% 891M/1.17G [00:02<00:00, 469MB/s]\u001b[A\n",
            "model-00004-of-00004.safetensors:  81% 944M/1.17G [00:02<00:00, 469MB/s]\u001b[A\n",
            "model-00004-of-00004.safetensors:  85% 996M/1.17G [00:02<00:00, 468MB/s]\u001b[A\n",
            "model-00004-of-00004.safetensors:  90% 1.05G/1.17G [00:02<00:00, 471MB/s]\u001b[A\n",
            "model-00004-of-00004.safetensors:  94% 1.10G/1.17G [00:02<00:00, 469MB/s]\u001b[A\n",
            "model-00004-of-00004.safetensors: 100% 1.17G/1.17G [00:02<00:00, 438MB/s]\n",
            "Downloading shards: 100% 4/4 [00:51<00:00, 12.98s/it]\n",
            "Loading checkpoint shards: 100% 4/4 [00:09<00:00,  2.32s/it]\n",
            "generation_config.json: 100% 177/177 [00:00<00:00, 1.35MB/s]\n",
            "tokenizer_config.json: 100% 50.6k/50.6k [00:00<00:00, 136MB/s]\n",
            "tokenizer.json: 100% 9.09M/9.09M [00:00<00:00, 9.74MB/s]\n",
            "special_tokens_map.json: 100% 73.0/73.0 [00:00<00:00, 564kB/s]\n",
            "Special tokens have been added in the vocabulary, make sure the associated word embeddings are fine-tuned or trained.\n",
            "05/10/2024 19:07:56 - INFO - dalm.training.rag_e2e.train_rage2e - Distributed environment: NO\n",
            "Num processes: 1\n",
            "Process index: 0\n",
            "Local process index: 0\n",
            "Device: cuda\n",
            "\n",
            "Mixed precision type: no\n",
            "\n",
            "Generating train split: 100 examples [00:00, 3135.44 examples/s]\n",
            "Running tokenizer on dataset: 100% 100/100 [00:00<00:00, 947.00 examples/s]\n",
            "05/10/2024 19:08:17 - INFO - dalm.training.rag_e2e.train_rage2e - Sample 81 of the training set: {'retriever_query_input_ids': [101, 1001, 23032, 1001, 2129, 2106, 4300, 10509, 2000, 4811, 1005, 1055, 19353, 1998, 20616, 2006, 2183, 2000, 1996, 9047, 2000, 2831, 1029, 102, 0, 0, 0, 0, 0, 0, 0, 0, 0, 0, 0, 0, 0, 0, 0, 0, 0, 0, 0, 0, 0, 0, 0, 0, 0, 0], 'retriever_query_token_type_ids': [0, 0, 0, 0, 0, 0, 0, 0, 0, 0, 0, 0, 0, 0, 0, 0, 0, 0, 0, 0, 0, 0, 0, 0, 0, 0, 0, 0, 0, 0, 0, 0, 0, 0, 0, 0, 0, 0, 0, 0, 0, 0, 0, 0, 0, 0, 0, 0, 0, 0], 'retriever_query_attention_mask': [1, 1, 1, 1, 1, 1, 1, 1, 1, 1, 1, 1, 1, 1, 1, 1, 1, 1, 1, 1, 1, 1, 1, 1, 0, 0, 0, 0, 0, 0, 0, 0, 0, 0, 0, 0, 0, 0, 0, 0, 0, 0, 0, 0, 0, 0, 0, 0, 0, 0], 'retriever_passage_input_ids': [101, 1001, 6019, 1001, 2410, 1999, 2755, 1010, 4811, 19402, 2001, 1037, 20996, 6455, 10753, 2005, 2008, 12590, 9487, 2338, 1996, 27738, 21857, 2099, 1521, 1055, 5009, 2000, 1996, 9088, 1012, 2529, 9552, 2024, 2307, 15581, 5668, 1010, 1998, 2011, 6265, 7292, 2166, 1999, 1996, 4372, 21663, 5644, 1997, 4300, 1521, 1055, 2160, 2018, 3876, 2046, 1037, 6706, 9410, 1012, 2009, 2001, 4300, 1521, 1055, 3970, 2535, 2000, 4682, 5490, 16284, 8450, 1999, 1996, 8494, 2437, 8138, 7670, 2000, 2156, 2010, 5160, 1010, 2010, 2388, 2030, 1037, 2204, 2338, 1025, 2009, 2001, 2720, 1012, 4013, 18116, 1521, 1055, 3970, 2535, 2000, 11147, 4300, 2007, 1996, 8138, 2047, 20228, 6977, 2107, 2004, 1996, 2005, 1996, 2270, 2204, 2831, 1010, 1996, 2233, 1997, 5082, 2831, 1010, 1996, 2027, 6573, 102], 'retriever_passage_token_type_ids': [0, 0, 0, 0, 0, 0, 0, 0, 0, 0, 0, 0, 0, 0, 0, 0, 0, 0, 0, 0, 0, 0, 0, 0, 0, 0, 0, 0, 0, 0, 0, 0, 0, 0, 0, 0, 0, 0, 0, 0, 0, 0, 0, 0, 0, 0, 0, 0, 0, 0, 0, 0, 0, 0, 0, 0, 0, 0, 0, 0, 0, 0, 0, 0, 0, 0, 0, 0, 0, 0, 0, 0, 0, 0, 0, 0, 0, 0, 0, 0, 0, 0, 0, 0, 0, 0, 0, 0, 0, 0, 0, 0, 0, 0, 0, 0, 0, 0, 0, 0, 0, 0, 0, 0, 0, 0, 0, 0, 0, 0, 0, 0, 0, 0, 0, 0, 0, 0, 0, 0, 0, 0, 0, 0, 0, 0, 0, 0], 'retriever_passage_attention_mask': [1, 1, 1, 1, 1, 1, 1, 1, 1, 1, 1, 1, 1, 1, 1, 1, 1, 1, 1, 1, 1, 1, 1, 1, 1, 1, 1, 1, 1, 1, 1, 1, 1, 1, 1, 1, 1, 1, 1, 1, 1, 1, 1, 1, 1, 1, 1, 1, 1, 1, 1, 1, 1, 1, 1, 1, 1, 1, 1, 1, 1, 1, 1, 1, 1, 1, 1, 1, 1, 1, 1, 1, 1, 1, 1, 1, 1, 1, 1, 1, 1, 1, 1, 1, 1, 1, 1, 1, 1, 1, 1, 1, 1, 1, 1, 1, 1, 1, 1, 1, 1, 1, 1, 1, 1, 1, 1, 1, 1, 1, 1, 1, 1, 1, 1, 1, 1, 1, 1, 1, 1, 1, 1, 1, 1, 1, 1, 1], 'generator_input_input_ids': [128000, 2, 1663, 2, 674, 1663, 2, 2650, 1550, 28686, 14085, 311, 14337, 596, 54917, 323, 79397, 389, 2133, 311, 279, 6814, 311, 3137, 30, 674, 6519, 425, 2, 674, 6519, 425, 2, 220, 1032, 198, 644, 2144, 11, 14337, 43688, 440, 574, 264, 938, 4504, 32185, 369, 430, 42241, 23649, 2363, 198, 791, 71464, 473, 25840, 753, 13002, 311, 279, 20238, 627, 35075, 23837, 527, 2294, 10737, 1105, 11, 323, 555, 16163, 1712, 2324, 304, 279, 6233, 404, 2439, 315, 198, 60762, 753, 3838, 1047, 23183, 1139, 264, 24981, 14348, 13, 1102, 574, 28686, 753, 11928, 3560, 198, 998, 10457, 8330, 301, 28075, 304, 279, 27275, 3339, 28961, 18651, 311, 1518, 813, 15779, 11, 813, 198, 27510, 477, 264, 1695, 2363, 26, 433, 574, 4491, 13, 1322, 784, 261, 753, 11928, 3560, 311, 22118, 28686, 198, 4291, 279, 28961, 502, 281, 2032, 1778, 439, 279, 1789, 279, 3142, 7839, 3137, 11, 279, 5587, 198, 1073, 16418, 3137, 11, 279, 2435, 64894, 291, 3092, 4783, 6419, 9843, 1472, 14521, 11, 15037, 198, 10596, 291, 6984, 3137, 323, 5370, 1023, 272, 1662, 337, 4804, 323, 18208, 26, 323, 433, 574, 279, 17231, 7058, 3055, 7215, 12050, 11928, 3560, 311, 2503, 2212, 16558, 1080, 171, 105, 222, 2176, 323, 60257, 449, 198, 16588, 14640, 311, 1518, 1268, 814, 1436, 2543, 279, 6671, 311, 872, 33595, 71831, 77, 5003, 1008, 7058, 85, 25843, 627, 791, 9420, 7882, 14297, 304, 1202, 1891, 63550, 3388, 627, 791, 7160, 574, 7314, 311, 9235, 704, 279, 27275, 28686, 11203, 304, 627, 32, 12737], 'generator_input_attention_mask': [1, 1, 1, 1, 1, 1, 1, 1, 1, 1, 1, 1, 1, 1, 1, 1, 1, 1, 1, 1, 1, 1, 1, 1, 1, 1, 1, 1, 1, 1, 1, 1, 1, 1, 1, 1, 1, 1, 1, 1, 1, 1, 1, 1, 1, 1, 1, 1, 1, 1, 1, 1, 1, 1, 1, 1, 1, 1, 1, 1, 1, 1, 1, 1, 1, 1, 1, 1, 1, 1, 1, 1, 1, 1, 1, 1, 1, 1, 1, 1, 1, 1, 1, 1, 1, 1, 1, 1, 1, 1, 1, 1, 1, 1, 1, 1, 1, 1, 1, 1, 1, 1, 1, 1, 1, 1, 1, 1, 1, 1, 1, 1, 1, 1, 1, 1, 1, 1, 1, 1, 1, 1, 1, 1, 1, 1, 1, 1, 1, 1, 1, 1, 1, 1, 1, 1, 1, 1, 1, 1, 1, 1, 1, 1, 1, 1, 1, 1, 1, 1, 1, 1, 1, 1, 1, 1, 1, 1, 1, 1, 1, 1, 1, 1, 1, 1, 1, 1, 1, 1, 1, 1, 1, 1, 1, 1, 1, 1, 1, 1, 1, 1, 1, 1, 1, 1, 1, 1, 1, 1, 1, 1, 1, 1, 1, 1, 1, 1, 1, 1, 1, 1, 1, 1, 1, 1, 1, 1, 1, 1, 1, 1, 1, 1, 1, 1, 1, 1, 1, 1, 1, 1, 1, 1, 1, 1, 1, 1, 1, 1, 1, 1, 1, 1, 1, 1, 1, 1, 1, 1, 1, 1, 1, 1, 1, 1, 1, 1, 1, 1, 1, 1, 1, 1, 1, 1], 'query_passage_input_len': 723}.\n",
            "05/10/2024 19:08:17 - INFO - dalm.training.rag_e2e.train_rage2e - Sample 14 of the training set: {'retriever_query_input_ids': [101, 1001, 23032, 1001, 2054, 2079, 2017, 2228, 1996, 3166, 2003, 2667, 2000, 16636, 2083, 1996, 12276, 2000, 26937, 13899, 1998, 11152, 2175, 12096, 1029, 102, 0, 0, 0, 0, 0, 0, 0, 0, 0, 0, 0, 0, 0, 0, 0, 0, 0, 0, 0, 0, 0, 0, 0, 0], 'retriever_query_token_type_ids': [0, 0, 0, 0, 0, 0, 0, 0, 0, 0, 0, 0, 0, 0, 0, 0, 0, 0, 0, 0, 0, 0, 0, 0, 0, 0, 0, 0, 0, 0, 0, 0, 0, 0, 0, 0, 0, 0, 0, 0, 0, 0, 0, 0, 0, 0, 0, 0, 0, 0], 'retriever_query_attention_mask': [1, 1, 1, 1, 1, 1, 1, 1, 1, 1, 1, 1, 1, 1, 1, 1, 1, 1, 1, 1, 1, 1, 1, 1, 1, 1, 0, 0, 0, 0, 0, 0, 0, 0, 0, 0, 0, 0, 0, 0, 0, 0, 0, 0, 0, 0, 0, 0, 0, 0], 'retriever_passage_input_ids': [101, 1001, 6019, 1001, 1017, 2005, 26937, 13899, 1998, 11152, 2175, 12096, 1998, 2035, 2060, 13929, 7066, 2005, 5572, 1010, 11883, 1010, 1998, 1037, 10682, 102, 0, 0, 0, 0, 0, 0, 0, 0, 0, 0, 0, 0, 0, 0, 0, 0, 0, 0, 0, 0, 0, 0, 0, 0, 0, 0, 0, 0, 0, 0, 0, 0, 0, 0, 0, 0, 0, 0, 0, 0, 0, 0, 0, 0, 0, 0, 0, 0, 0, 0, 0, 0, 0, 0, 0, 0, 0, 0, 0, 0, 0, 0, 0, 0, 0, 0, 0, 0, 0, 0, 0, 0, 0, 0, 0, 0, 0, 0, 0, 0, 0, 0, 0, 0, 0, 0, 0, 0, 0, 0, 0, 0, 0, 0, 0, 0, 0, 0, 0, 0, 0, 0], 'retriever_passage_token_type_ids': [0, 0, 0, 0, 0, 0, 0, 0, 0, 0, 0, 0, 0, 0, 0, 0, 0, 0, 0, 0, 0, 0, 0, 0, 0, 0, 0, 0, 0, 0, 0, 0, 0, 0, 0, 0, 0, 0, 0, 0, 0, 0, 0, 0, 0, 0, 0, 0, 0, 0, 0, 0, 0, 0, 0, 0, 0, 0, 0, 0, 0, 0, 0, 0, 0, 0, 0, 0, 0, 0, 0, 0, 0, 0, 0, 0, 0, 0, 0, 0, 0, 0, 0, 0, 0, 0, 0, 0, 0, 0, 0, 0, 0, 0, 0, 0, 0, 0, 0, 0, 0, 0, 0, 0, 0, 0, 0, 0, 0, 0, 0, 0, 0, 0, 0, 0, 0, 0, 0, 0, 0, 0, 0, 0, 0, 0, 0, 0], 'retriever_passage_attention_mask': [1, 1, 1, 1, 1, 1, 1, 1, 1, 1, 1, 1, 1, 1, 1, 1, 1, 1, 1, 1, 1, 1, 1, 1, 1, 1, 0, 0, 0, 0, 0, 0, 0, 0, 0, 0, 0, 0, 0, 0, 0, 0, 0, 0, 0, 0, 0, 0, 0, 0, 0, 0, 0, 0, 0, 0, 0, 0, 0, 0, 0, 0, 0, 0, 0, 0, 0, 0, 0, 0, 0, 0, 0, 0, 0, 0, 0, 0, 0, 0, 0, 0, 0, 0, 0, 0, 0, 0, 0, 0, 0, 0, 0, 0, 0, 0, 0, 0, 0, 0, 0, 0, 0, 0, 0, 0, 0, 0, 0, 0, 0, 0, 0, 0, 0, 0, 0, 0, 0, 0, 0, 0, 0, 0, 0, 0, 0, 0], 'generator_input_input_ids': [128000, 2, 1663, 2, 674, 1663, 2, 3639, 656, 499, 1781, 279, 3229, 374, 4560, 311, 20599, 1555, 279, 39955, 311, 12565, 3919, 48677, 323, 62140, 47247, 267, 30, 674, 6519, 425, 2, 674, 6519, 425, 2, 220, 18, 198, 2000, 12565, 3919, 48677, 323, 62140, 47247, 267, 198, 438, 682, 1023, 59796, 5493, 198, 2000, 15600, 11, 47084, 11, 323, 264, 32169, 674, 9399, 2, 578, 3229, 374, 4560, 311, 20599, 46135, 323, 35996, 369, 12565, 3919, 48677, 323, 62140, 47247, 267, 11, 439, 1664, 439, 682, 1023, 59796, 5493, 11, 369, 872, 1862, 323, 47609, 13, 128001, 128001, 128001, 128001, 128001, 128001, 128001, 128001, 128001, 128001, 128001, 128001, 128001, 128001, 128001, 128001, 128001, 128001, 128001, 128001, 128001, 128001, 128001, 128001, 128001, 128001, 128001, 128001, 128001, 128001, 128001, 128001, 128001, 128001, 128001, 128001, 128001, 128001, 128001, 128001, 128001, 128001, 128001, 128001, 128001, 128001, 128001, 128001, 128001, 128001, 128001, 128001, 128001, 128001, 128001, 128001, 128001, 128001, 128001, 128001, 128001, 128001, 128001, 128001, 128001, 128001, 128001, 128001, 128001, 128001, 128001, 128001, 128001, 128001, 128001, 128001, 128001, 128001, 128001, 128001, 128001, 128001, 128001, 128001, 128001, 128001, 128001, 128001, 128001, 128001, 128001, 128001, 128001, 128001, 128001, 128001, 128001, 128001, 128001, 128001, 128001, 128001, 128001, 128001, 128001, 128001, 128001, 128001, 128001, 128001, 128001, 128001, 128001, 128001, 128001, 128001, 128001, 128001, 128001, 128001, 128001, 128001, 128001, 128001, 128001, 128001, 128001, 128001, 128001, 128001, 128001, 128001, 128001, 128001, 128001, 128001, 128001, 128001, 128001, 128001, 128001, 128001, 128001, 128001, 128001, 128001, 128001, 128001, 128001, 128001, 128001, 128001, 128001, 128001, 128001, 128001, 128001, 128001], 'generator_input_attention_mask': [1, 1, 1, 1, 1, 1, 1, 1, 1, 1, 1, 1, 1, 1, 1, 1, 1, 1, 1, 1, 1, 1, 1, 1, 1, 1, 1, 1, 1, 1, 1, 1, 1, 1, 1, 1, 1, 1, 1, 1, 1, 1, 1, 1, 1, 1, 1, 1, 1, 1, 1, 1, 1, 1, 1, 1, 1, 1, 1, 1, 1, 1, 1, 1, 1, 1, 1, 1, 1, 1, 1, 1, 1, 1, 1, 1, 1, 1, 1, 1, 1, 1, 1, 1, 1, 1, 1, 1, 1, 1, 1, 1, 1, 1, 1, 1, 1, 1, 0, 0, 0, 0, 0, 0, 0, 0, 0, 0, 0, 0, 0, 0, 0, 0, 0, 0, 0, 0, 0, 0, 0, 0, 0, 0, 0, 0, 0, 0, 0, 0, 0, 0, 0, 0, 0, 0, 0, 0, 0, 0, 0, 0, 0, 0, 0, 0, 0, 0, 0, 0, 0, 0, 0, 0, 0, 0, 0, 0, 0, 0, 0, 0, 0, 0, 0, 0, 0, 0, 0, 0, 0, 0, 0, 0, 0, 0, 0, 0, 0, 0, 0, 0, 0, 0, 0, 0, 0, 0, 0, 0, 0, 0, 0, 0, 0, 0, 0, 0, 0, 0, 0, 0, 0, 0, 0, 0, 0, 0, 0, 0, 0, 0, 0, 0, 0, 0, 0, 0, 0, 0, 0, 0, 0, 0, 0, 0, 0, 0, 0, 0, 0, 0, 0, 0, 0, 0, 0, 0, 0, 0, 0, 0, 0, 0, 0, 0, 0, 0, 0, 0, 0, 0, 0, 0, 0, 0], 'query_passage_input_len': 66}.\n",
            "05/10/2024 19:08:17 - INFO - dalm.training.rag_e2e.train_rage2e - ***** Running E2E training *****\n",
            "05/10/2024 19:08:17 - INFO - dalm.training.rag_e2e.train_rage2e -   Num examples = 100\n",
            "05/10/2024 19:08:17 - INFO - dalm.training.rag_e2e.train_rage2e -   Num Epochs = 1\n",
            "05/10/2024 19:08:17 - INFO - dalm.training.rag_e2e.train_rage2e -   Instantaneous batch size per device = 2\n",
            "05/10/2024 19:08:17 - INFO - dalm.training.rag_e2e.train_rage2e -   Total train batch size (w. parallel, distributed & accumulation) = 2\n",
            "05/10/2024 19:08:17 - INFO - dalm.training.rag_e2e.train_rage2e -   Gradient Accumulation steps = 1\n",
            "05/10/2024 19:08:17 - INFO - dalm.training.rag_e2e.train_rage2e -   Total optimization steps = 50\n",
            "100% 50/50 [00:22<00:00,  2.12it/s]05/10/2024 19:08:39 - INFO - dalm.training.rag_e2e.train_rage2e - epoch 0: {}\n",
            "/usr/local/lib/python3.10/dist-packages/huggingface_hub/file_download.py:1132: FutureWarning: `resume_download` is deprecated and will be removed in version 1.0.0. Downloads always resume when possible. If you want to force a new download, use `force_download=True`.\n",
            "  warnings.warn(\n",
            "loading configuration file config.json from cache at /root/.cache/huggingface/hub/models--Snowflake--snowflake-arctic-embed-m/snapshots/2ca412ec9505022eebd7d10286fbbad4b779f6e0/config.json\n",
            "Model config BertConfig {\n",
            "  \"_name_or_path\": \"/data/.model_and_tokenizer_cache/8c1f5b7e8b968d544f7adc2e31c63251e690136cb5f2d99fd1d61e5d43d2ca6c\",\n",
            "  \"architectures\": [\n",
            "    \"BertModel\"\n",
            "  ],\n",
            "  \"attention_probs_dropout_prob\": 0.1,\n",
            "  \"classifier_dropout\": null,\n",
            "  \"gradient_checkpointing\": false,\n",
            "  \"hidden_act\": \"gelu\",\n",
            "  \"hidden_dropout_prob\": 0.1,\n",
            "  \"hidden_size\": 768,\n",
            "  \"initializer_range\": 0.02,\n",
            "  \"intermediate_size\": 3072,\n",
            "  \"layer_norm_eps\": 1e-12,\n",
            "  \"max_position_embeddings\": 512,\n",
            "  \"model_type\": \"bert\",\n",
            "  \"num_attention_heads\": 12,\n",
            "  \"num_hidden_layers\": 12,\n",
            "  \"pad_token_id\": 0,\n",
            "  \"position_embedding_type\": \"absolute\",\n",
            "  \"torch_dtype\": \"float32\",\n",
            "  \"transformers_version\": \"4.40.2\",\n",
            "  \"type_vocab_size\": 2,\n",
            "  \"use_cache\": true,\n",
            "  \"vocab_size\": 30522\n",
            "}\n",
            "\n",
            "tokenizer config file saved in rag_e2e_llama_arctic/retriever/tokenizer_config.json\n",
            "Special tokens file saved in rag_e2e_llama_arctic/retriever/special_tokens_map.json\n",
            "loading configuration file config.json from cache at /root/.cache/huggingface/hub/models--NousResearch--Meta-Llama-3-8B/snapshots/315b20096dc791d381d514deb5f8bd9c8d6d3061/config.json\n",
            "Model config LlamaConfig {\n",
            "  \"architectures\": [\n",
            "    \"LlamaForCausalLM\"\n",
            "  ],\n",
            "  \"attention_bias\": false,\n",
            "  \"attention_dropout\": 0.0,\n",
            "  \"bos_token_id\": 128000,\n",
            "  \"eos_token_id\": 128001,\n",
            "  \"hidden_act\": \"silu\",\n",
            "  \"hidden_size\": 4096,\n",
            "  \"initializer_range\": 0.02,\n",
            "  \"intermediate_size\": 14336,\n",
            "  \"max_position_embeddings\": 8192,\n",
            "  \"model_type\": \"llama\",\n",
            "  \"num_attention_heads\": 32,\n",
            "  \"num_hidden_layers\": 32,\n",
            "  \"num_key_value_heads\": 8,\n",
            "  \"pretraining_tp\": 1,\n",
            "  \"rms_norm_eps\": 1e-05,\n",
            "  \"rope_scaling\": null,\n",
            "  \"rope_theta\": 500000.0,\n",
            "  \"tie_word_embeddings\": false,\n",
            "  \"torch_dtype\": \"bfloat16\",\n",
            "  \"transformers_version\": \"4.40.2\",\n",
            "  \"use_cache\": true,\n",
            "  \"vocab_size\": 128256\n",
            "}\n",
            "\n",
            "tokenizer config file saved in rag_e2e_llama_arctic/generator/tokenizer_config.json\n",
            "Special tokens file saved in rag_e2e_llama_arctic/generator/special_tokens_map.json\n",
            "100% 50/50 [00:24<00:00,  2.07it/s]\n"
          ]
        }
      ],
      "source": [
        "!dalm train-rag-e2e \\\n",
        "\"./dalm/datasets/hhgtg_train.csv\" \\\n",
        "\"Snowflake/snowflake-arctic-embed-m\" \\\n",
        "\"NousResearch/Meta-Llama-3-8B\" \\\n",
        "--output-dir \"rag_e2e_llama_arctic\" \\\n",
        "--use-peft \"both\" \\\n",
        "--with-tracking \\\n",
        "--report-to all \\\n",
        "--use-bnb \"both\"\\\n",
        "--per-device-train-batch-size 2"
      ]
    },
    {
      "cell_type": "markdown",
      "metadata": {
        "id": "xGgg3fUDlUUI"
      },
      "source": [
        "####❓ Question #2:\n",
        "\n",
        "Describe how the LOSS works for E2E RAG.\n",
        "\n",
        "(Please see the lecture recording if you have any specific questions!)"
      ]
    },
    {
      "cell_type": "markdown",
      "metadata": {
        "id": "OYlckl4MnXlg"
      },
      "source": [
        "Answer: Loss is defined as how close we are to desired outcome. Lesser the number closer we are and loss is less.\n",
        "Total = HFSenTran Loss + Marginalized Loss"
      ]
    },
    {
      "cell_type": "markdown",
      "metadata": {
        "id": "SVuO5qkuT1mC"
      },
      "source": [
        "## Task 4: Creating Simple LCEL Chain with New Models\n",
        "\n",
        "Now that we've fine-tuned our DALM model - let's create a chain that leverages it!"
      ]
    },
    {
      "cell_type": "markdown",
      "metadata": {
        "id": "QG5Pq6rrbHvi"
      },
      "source": [
        "### Data Collection\n",
        "\n",
        "We'll be leveraging the `PyMUPDFLoader` to load our PDF!"
      ]
    },
    {
      "cell_type": "code",
      "execution_count": 31,
      "metadata": {
        "id": "WYeQbplcVkW6"
      },
      "outputs": [],
      "source": [
        "from langchain_community.document_loaders import PyMuPDFLoader\n",
        "\n",
        "docs = PyMuPDFLoader(\"hhgtg1.pdf\").load()"
      ]
    },
    {
      "cell_type": "markdown",
      "metadata": {
        "id": "MyAoMHdMbWhs"
      },
      "source": [
        "### Chunking Our Documents\n",
        "\n",
        "We'll use the `RecursiveCharacterTextSplitter` to create our toy example.\n",
        "\n",
        "It will split based on the following rules:\n",
        "\n",
        "- Each chunk has a maximum size of 100 tokens\n",
        "- It will try and split first on the `\\n\\n` character, then on the `\\n`, then on the `<SPACE>` character, and finally it will split on individual tokens.\n",
        "\n",
        "Let's implement it and see the results!"
      ]
    },
    {
      "cell_type": "code",
      "execution_count": 32,
      "metadata": {
        "id": "QCY2lbbPWlQ4"
      },
      "outputs": [],
      "source": [
        "import tiktoken\n",
        "from langchain.text_splitter import RecursiveCharacterTextSplitter\n",
        "\n",
        "def tiktoken_len(text):\n",
        "    tokens = tiktoken.encoding_for_model(\"gpt-3.5-turbo\").encode(\n",
        "        text,\n",
        "    )\n",
        "    return len(tokens)\n",
        "\n",
        "text_splitter = RecursiveCharacterTextSplitter(\n",
        "    chunk_size = 200,\n",
        "    chunk_overlap = 0,\n",
        "    length_function = tiktoken_len,\n",
        ")\n",
        "\n",
        "split_chunks = text_splitter.split_documents(docs)"
      ]
    },
    {
      "cell_type": "code",
      "execution_count": 33,
      "metadata": {
        "colab": {
          "base_uri": "https://localhost:8080/"
        },
        "id": "_nbHfp7VWm2s",
        "outputId": "b26a4e5c-203f-4c13-d67f-686c59591c6f"
      },
      "outputs": [
        {
          "output_type": "execute_result",
          "data": {
            "text/plain": [
              "444"
            ]
          },
          "metadata": {},
          "execution_count": 33
        }
      ],
      "source": [
        "len(split_chunks)"
      ]
    },
    {
      "cell_type": "markdown",
      "metadata": {
        "id": "80DCS-ocbZid"
      },
      "source": [
        "## Embeddings and Dense Vector Search\n",
        "\n",
        "Now that we have our individual chunks, we need a system to correctly select the relevant pieces of information to answer our query.\n",
        "\n",
        "This sounds like a perfect job for embeddings!\n",
        "\n",
        "However, we have a small problem to solve - our embedding model currently exists in a \"DALM specific\" format - let's pull it out and get it into a `sentencetransformers` consistent format!"
      ]
    },
    {
      "cell_type": "code",
      "execution_count": 34,
      "metadata": {
        "colab": {
          "base_uri": "https://localhost:8080/"
        },
        "id": "Pcqd7AVkWqDm",
        "outputId": "2b645e54-e56b-4c70-af9a-8a08789d92d1"
      },
      "outputs": [
        {
          "output_type": "stream",
          "name": "stderr",
          "text": [
            "/usr/local/lib/python3.10/dist-packages/huggingface_hub/file_download.py:1132: FutureWarning: `resume_download` is deprecated and will be removed in version 1.0.0. Downloads always resume when possible. If you want to force a new download, use `force_download=True`.\n",
            "  warnings.warn(\n",
            "/usr/local/lib/python3.10/dist-packages/huggingface_hub/utils/_token.py:89: UserWarning: \n",
            "The secret `HF_TOKEN` does not exist in your Colab secrets.\n",
            "To authenticate with the Hugging Face Hub, create a token in your settings tab (https://huggingface.co/settings/tokens), set it as secret in your Google Colab and restart your session.\n",
            "You will be able to reuse this secret in all of your notebooks.\n",
            "Please note that authentication is recommended but still optional to access public models or datasets.\n",
            "  warnings.warn(\n",
            "Some weights of BertModel were not initialized from the model checkpoint at Snowflake/snowflake-arctic-embed-m and are newly initialized: ['pooler.dense.bias', 'pooler.dense.weight']\n",
            "You should probably TRAIN this model on a down-stream task to be able to use it for predictions and inference.\n"
          ]
        }
      ],
      "source": [
        "from dalm.models.retriever_only_base_model import AutoModelForSentenceEmbedding\n",
        "\n",
        "embedding_model = AutoModelForSentenceEmbedding(\"Snowflake/snowflake-arctic-embed-m\")"
      ]
    },
    {
      "cell_type": "markdown",
      "metadata": {
        "id": "giSHnBaHb0dk"
      },
      "source": [
        "Now we can attach the adapters we used to train the embedding model."
      ]
    },
    {
      "cell_type": "code",
      "execution_count": 35,
      "metadata": {
        "colab": {
          "base_uri": "https://localhost:8080/"
        },
        "id": "SURUNhadYPcn",
        "outputId": "87da5e4f-8e4c-4cbd-c9fc-d143c31a3d4b"
      },
      "outputs": [
        {
          "output_type": "stream",
          "name": "stderr",
          "text": [
            "/usr/local/lib/python3.10/dist-packages/peft/tuners/lora/bnb.py:325: UserWarning: Merge lora module to 4-bit linear may get different generations due to rounding errors.\n",
            "  warnings.warn(\n"
          ]
        }
      ],
      "source": [
        "embedding_model.attach_pre_trained_peft_layers(\"rag_e2e_llama_arctic/retriever\", \"cuda\")"
      ]
    },
    {
      "cell_type": "markdown",
      "metadata": {
        "id": "5RsuOunHb4Wj"
      },
      "source": [
        "Let's merge and unload this model to get the new fine-tuned version in a friendly format."
      ]
    },
    {
      "cell_type": "code",
      "execution_count": 36,
      "metadata": {
        "id": "x0ZHPqTOY1pJ"
      },
      "outputs": [],
      "source": [
        "merged_embeddings = embedding_model.merge_and_unload()"
      ]
    },
    {
      "cell_type": "markdown",
      "metadata": {
        "id": "mwH49VYklc-c"
      },
      "source": [
        "####❓ Question #3:\n",
        "\n",
        "What is `merge_and_unload()` doing?"
      ]
    },
    {
      "cell_type": "markdown",
      "metadata": {
        "id": "FJNsaqX-qcPc"
      },
      "source": [
        "Answer: We can use the merge_and_unload() function to merge the adapter weights with the base model. This allows you to use the newly merged model as a standalone model. The merge_and_unload() function doesn’t keep the adapter weights in memory."
      ]
    },
    {
      "cell_type": "markdown",
      "metadata": {
        "id": "wjIeMokwc0ru"
      },
      "source": [
        "Now we can push the model to the hub!"
      ]
    },
    {
      "cell_type": "code",
      "execution_count": 37,
      "metadata": {
        "colab": {
          "base_uri": "https://localhost:8080/",
          "height": 100,
          "referenced_widgets": [
            "aa12b5b8b2d84226afa66263aee0482c",
            "5404658f8f834f1c930424acca747c01",
            "ad53bd8e27b4438eabb89dec38127342",
            "2b4f3625cb6a4b3db931305a8f1811b0",
            "3df110748fac480cb045b0cdd61bbbe9",
            "27705575d31a414a8543b20b5506eb11",
            "8b839234b4e24a07a065b82c3bafb227",
            "9c9f027467b846208caaf61ba43b2a93",
            "134e61bca3c94a40810d7d708f64541b",
            "d116f5e74f134638886489348d7606b0",
            "c04238535f544968babe1787b1d29d1a"
          ]
        },
        "id": "Dm7-NXlxY6ig",
        "outputId": "3058e8ba-173e-4932-e951-56aea0aa3e6f"
      },
      "outputs": [
        {
          "output_type": "display_data",
          "data": {
            "text/plain": [
              "model.safetensors:   0%|          | 0.00/96.9M [00:00<?, ?B/s]"
            ],
            "application/vnd.jupyter.widget-view+json": {
              "version_major": 2,
              "version_minor": 0,
              "model_id": "aa12b5b8b2d84226afa66263aee0482c"
            }
          },
          "metadata": {}
        },
        {
          "output_type": "execute_result",
          "data": {
            "text/plain": [
              "CommitInfo(commit_url='https://huggingface.co/monalisha30/fine-tuned/commit/80371a4fa7b1fb32b1c0f876c60fcf252bfcae80', commit_message='Upload model', commit_description='', oid='80371a4fa7b1fb32b1c0f876c60fcf252bfcae80', pr_url=None, pr_revision=None, pr_num=None)"
            ],
            "application/vnd.google.colaboratory.intrinsic+json": {
              "type": "string"
            }
          },
          "metadata": {},
          "execution_count": 37
        }
      ],
      "source": [
        "merged_embeddings.push_to_hub(\"monalisha30/fine-tuned\")"
      ]
    },
    {
      "cell_type": "markdown",
      "metadata": {
        "id": "Z8H50yU_c3Rv"
      },
      "source": [
        "We'll also want to grab the tokenizer for our embedding model, and do the same with it!"
      ]
    },
    {
      "cell_type": "code",
      "source": [
        "from transformers import AutoTokenizer"
      ],
      "metadata": {
        "id": "FRO_FW7g7jWo"
      },
      "execution_count": 39,
      "outputs": []
    },
    {
      "cell_type": "code",
      "execution_count": 40,
      "metadata": {
        "id": "-vfRVRRaZPHR"
      },
      "outputs": [],
      "source": [
        "embedding_tokenizer = AutoTokenizer.from_pretrained(\"rag_e2e_llama_arctic/retriever\")"
      ]
    },
    {
      "cell_type": "code",
      "execution_count": null,
      "metadata": {
        "colab": {
          "base_uri": "https://localhost:8080/",
          "height": 84,
          "referenced_widgets": [
            "ca562ede5fdd455988e9b133acd8ca92",
            "a2b4dde2c45a447cb3d8387e7a761857",
            "a4d5cccffa5d40dd8bd23f56e0c9827a",
            "e0b57b5960a443d0833385b0d40e81d5",
            "3f48cbb174644784ae5528b06293c9d2",
            "e5198bbeb18f45d2978ffd8d8cce1bd7",
            "01342ae8ec4a48938111f821e47224a8",
            "d72f3917784a483fbed6e4895633a6da",
            "432b8627f4704f34845054b46f1a8abb",
            "3f67ca36a63d413181844b7d62406226",
            "b3def22cfd21429f81d93231b5d87a92"
          ]
        },
        "id": "JFBdnpjgZXg-",
        "outputId": "a1b45498-e087-4941-fa50-77a1fa0b2d6a"
      },
      "outputs": [
        {
          "data": {
            "application/vnd.jupyter.widget-view+json": {
              "model_id": "ca562ede5fdd455988e9b133acd8ca92",
              "version_major": 2,
              "version_minor": 0
            },
            "text/plain": [
              "README.md:   0%|          | 0.00/5.17k [00:00<?, ?B/s]"
            ]
          },
          "metadata": {},
          "output_type": "display_data"
        },
        {
          "data": {
            "application/vnd.google.colaboratory.intrinsic+json": {
              "type": "string"
            },
            "text/plain": [
              "CommitInfo(commit_url='https://huggingface.co/ai-maker-space/e2erag-arctic-m/commit/819f99f19452ebccacf5aee8275298d0bab2eeda', commit_message='Upload tokenizer', commit_description='', oid='819f99f19452ebccacf5aee8275298d0bab2eeda', pr_url=None, pr_revision=None, pr_num=None)"
            ]
          },
          "execution_count": 69,
          "metadata": {},
          "output_type": "execute_result"
        }
      ],
      "source": [
        "embedding_tokenizer.push_to_hub(\"ai-maker-space/e2erag-arctic-m\")"
      ]
    },
    {
      "cell_type": "markdown",
      "metadata": {
        "id": "YnxKV-ddc70M"
      },
      "source": [
        "Now we can load our fine-tuned embedding model from the hub!"
      ]
    },
    {
      "cell_type": "code",
      "execution_count": null,
      "metadata": {
        "id": "qdY36RL_2tVR"
      },
      "outputs": [],
      "source": [
        "from transformers import AutoTokenizer"
      ]
    },
    {
      "cell_type": "code",
      "execution_count": 41,
      "metadata": {
        "colab": {
          "base_uri": "https://localhost:8080/",
          "height": 280,
          "referenced_widgets": [
            "3d7f2f1ba799484bbdb35210e7a0bd38",
            "8785b333ab40485dab13aa3d87cc7887",
            "295fbc127eea4d939b47c71800145ab6",
            "26dac870bd7948428ac7200fe563b2d8",
            "a8f77362e7d740128b724b8962426ca0",
            "a2da6a784e344f0eb3a18a77be6b0e82",
            "955517d1c460436a8847b29b138cfcc6",
            "445019ba76254934af22d046f4b2fa87",
            "454cef0e455248d7b4ff201bd8b36dd3",
            "b4328fc581aa400680990927c8c08c15",
            "16c6c95892474e95bbaa68fc70c0d584",
            "efced1b1dab447e2b95eacd66ef27612",
            "51db98b30d8d4b1a8da9471e038c82ef",
            "2bbdaee378de4d8484b36f67fc6ab7ad",
            "ab26dacc0e3a458488bfcb2fe9ea3e4b",
            "0fb3937a0a204a1f985a14ed8701e186",
            "b8bfffa255224733be6b8db525db9083",
            "bb5ea3cefcc44b8c8425baaf4309a834",
            "ae820128c52740e498fe61fcbc5fde88",
            "93ddb08fa9d64495a64e85c63eb09cf0",
            "4b21010ed06d4f67bcf0b6451dd960f6",
            "3bd041a8e9f340cfaeab0c69efd56b6f",
            "3aa7e743ea90467c9ac6c43d428f4d89",
            "e65a08a887aa4167940d14ebf7449355",
            "0249dd3deae0494f8d16e368a5475295",
            "76204768036a4789bfed0c0e3da62878",
            "15e4f2b0fd3a48beb34d0b2b0caeb651",
            "8bf6038d3b844d0997570b90d112a4b6",
            "798095092c624a7faee0237fd3a2d065",
            "7b657382108345528b6d3e5c68fe6863",
            "1a240c873e92461f92fb14fd4cf31cfa",
            "315088f591fb480ba8ec0ee4494c66e7",
            "b3e97fa9109349a78cb9f0622c4e01cd",
            "a719c4f5ec4e4dea94be03bf5d8ddba2",
            "4d2c0947c96e458985eabd2b81ca3c6c",
            "4581c3028ab4476a96989e6876d8831f",
            "c4678862c7dc457caf5809e96cec3ef0",
            "61498f6c6d754b7face7d785e42aa4a7",
            "3fcfefea6e464a2e8fbc855d275546e1",
            "dd9297adfb5d42b7be230046d6bdcd5a",
            "e958ca4497294f92adae45908dc949ee",
            "64cd0ee3e3e04adcb30e78d2cf10b552",
            "b08f4068643e48c384546d566e8a5d81",
            "b8478e7016864b5ba165e4e68a038a5a",
            "c758f3b5a75b4d89a5012ceec69eca08",
            "8cb642274ea74e6ab2102e39db1e278b",
            "8331a07aee18458f9c3ecf95a88df403",
            "691fbb442b9c4249bd09fb1a6c4db59f",
            "542c89a9ecbc49b79a51af07cad1d03a",
            "426dbc8166c843fb87b1703fb55fcad6",
            "2cf50aadfb1a4e4787b1189a660d142e",
            "fc102bb5f436433cb1338b959029fa1c",
            "0a6d916270dc4e73a6f651d6c99e30f6",
            "c46e9a013cab4647850ef39c2cdc06b6",
            "bbe94ed80a474e72adaebe791882ac45",
            "b1f1583e6a5144faa9f2187e173aa973",
            "9c9f08f06a3f433197a7a4a2c3685f0b",
            "8a1b30a34f6f4184b7e151b4f756c669",
            "ddd33afa17334b58862b336274875f53",
            "897a1505a814480ca1bc41b329a2a7ee",
            "4b0a1824323247d6bdab46bb9e2001f9",
            "034faef7e0be43029d2ef891e89ae26f",
            "4656620781774cc38cfbd6732bda3b30",
            "d6282ac665ca4b618a2f4e9d40fa27bc",
            "29edb894947a494ca71084b3485af3fd",
            "b1fb157ec9f1402f990387b7f29e5376"
          ]
        },
        "id": "AkAE7C1fYd-m",
        "outputId": "52b7ad76-46ff-4337-8119-5fa078adbbac"
      },
      "outputs": [
        {
          "output_type": "stream",
          "name": "stderr",
          "text": [
            "WARNING:sentence_transformers.SentenceTransformer:No sentence-transformers model found with name ai-maker-space/e2erag-arctic-m. Creating a new one with MEAN pooling.\n"
          ]
        },
        {
          "output_type": "display_data",
          "data": {
            "text/plain": [
              "config.json:   0%|          | 0.00/1.16k [00:00<?, ?B/s]"
            ],
            "application/vnd.jupyter.widget-view+json": {
              "version_major": 2,
              "version_minor": 0,
              "model_id": "3d7f2f1ba799484bbdb35210e7a0bd38"
            }
          },
          "metadata": {}
        },
        {
          "output_type": "stream",
          "name": "stderr",
          "text": [
            "Unused kwargs: ['_load_in_4bit', '_load_in_8bit', 'quant_method']. These kwargs are not used in <class 'transformers.utils.quantization_config.BitsAndBytesConfig'>.\n",
            "`low_cpu_mem_usage` was None, now set to True since model is quantized.\n"
          ]
        },
        {
          "output_type": "display_data",
          "data": {
            "text/plain": [
              "model.safetensors:   0%|          | 0.00/96.9M [00:00<?, ?B/s]"
            ],
            "application/vnd.jupyter.widget-view+json": {
              "version_major": 2,
              "version_minor": 0,
              "model_id": "efced1b1dab447e2b95eacd66ef27612"
            }
          },
          "metadata": {}
        },
        {
          "output_type": "display_data",
          "data": {
            "text/plain": [
              "tokenizer_config.json:   0%|          | 0.00/1.38k [00:00<?, ?B/s]"
            ],
            "application/vnd.jupyter.widget-view+json": {
              "version_major": 2,
              "version_minor": 0,
              "model_id": "3aa7e743ea90467c9ac6c43d428f4d89"
            }
          },
          "metadata": {}
        },
        {
          "output_type": "display_data",
          "data": {
            "text/plain": [
              "vocab.txt:   0%|          | 0.00/232k [00:00<?, ?B/s]"
            ],
            "application/vnd.jupyter.widget-view+json": {
              "version_major": 2,
              "version_minor": 0,
              "model_id": "a719c4f5ec4e4dea94be03bf5d8ddba2"
            }
          },
          "metadata": {}
        },
        {
          "output_type": "display_data",
          "data": {
            "text/plain": [
              "tokenizer.json:   0%|          | 0.00/712k [00:00<?, ?B/s]"
            ],
            "application/vnd.jupyter.widget-view+json": {
              "version_major": 2,
              "version_minor": 0,
              "model_id": "c758f3b5a75b4d89a5012ceec69eca08"
            }
          },
          "metadata": {}
        },
        {
          "output_type": "display_data",
          "data": {
            "text/plain": [
              "special_tokens_map.json:   0%|          | 0.00/695 [00:00<?, ?B/s]"
            ],
            "application/vnd.jupyter.widget-view+json": {
              "version_major": 2,
              "version_minor": 0,
              "model_id": "b1f1583e6a5144faa9f2187e173aa973"
            }
          },
          "metadata": {}
        }
      ],
      "source": [
        "from langchain_community.embeddings import HuggingFaceEmbeddings\n",
        "\n",
        "embedding_model = HuggingFaceEmbeddings(\n",
        "    model_name=\"ai-maker-space/e2erag-arctic-m\",\n",
        "    model_kwargs={\"device\" : \"cuda\"}\n",
        ")"
      ]
    },
    {
      "cell_type": "markdown",
      "metadata": {
        "id": "l0JHRwRAdApf"
      },
      "source": [
        "Now we can set-up our `VectorStore`! We'll be using Meta's FAISS to power our dense vector search today."
      ]
    },
    {
      "cell_type": "code",
      "execution_count": 42,
      "metadata": {
        "id": "n4HbXflVZmn6"
      },
      "outputs": [],
      "source": [
        "from langchain_community.vectorstores import FAISS\n",
        "\n",
        "vector_store = FAISS.from_documents(split_chunks, embedding_model)"
      ]
    },
    {
      "cell_type": "markdown",
      "metadata": {
        "id": "_jacDZDndDQ1"
      },
      "source": [
        "Now we can convert our vector store into a retriever!"
      ]
    },
    {
      "cell_type": "code",
      "execution_count": 43,
      "metadata": {
        "id": "Q38i0CZ1Zpn3"
      },
      "outputs": [],
      "source": [
        "retriever = vector_store.as_retriever()"
      ]
    },
    {
      "cell_type": "markdown",
      "metadata": {
        "id": "Zn-QUWWHZ2pj"
      },
      "source": [
        "### Setting up our RAG\n",
        "\n",
        "We'll use the LCEL we touched on earlier to create a RAG chain.\n",
        "\n",
        "Let's think through each part:\n",
        "\n",
        "1. First we need to retrieve context\n",
        "2. We need to pipe that context to our model\n",
        "3. We need to parse that output\n",
        "\n",
        "Let's start by setting up our model!"
      ]
    },
    {
      "cell_type": "markdown",
      "metadata": {
        "id": "9iP2iqvVdvtn"
      },
      "source": [
        "First, we need to load our tokenizer for our model!"
      ]
    },
    {
      "cell_type": "code",
      "execution_count": 44,
      "metadata": {
        "colab": {
          "base_uri": "https://localhost:8080/"
        },
        "id": "CWlh4xDZUAYi",
        "outputId": "3e32f775-d2e4-4b00-801d-beeab3e96b87"
      },
      "outputs": [
        {
          "output_type": "stream",
          "name": "stderr",
          "text": [
            "Special tokens have been added in the vocabulary, make sure the associated word embeddings are fine-tuned or trained.\n"
          ]
        }
      ],
      "source": [
        "from transformers import AutoTokenizer\n",
        "\n",
        "model_id = \"rag_e2e_llama_arctic/generator\"\n",
        "\n",
        "tokenizer = AutoTokenizer.from_pretrained(model_id)"
      ]
    },
    {
      "cell_type": "markdown",
      "metadata": {
        "id": "KKDWHJ8Hdx4H"
      },
      "source": [
        "Next, we'll load the model itself to prepare it for our Hugging Face pipeline!"
      ]
    },
    {
      "cell_type": "code",
      "execution_count": 45,
      "metadata": {
        "colab": {
          "base_uri": "https://localhost:8080/",
          "height": 86,
          "referenced_widgets": [
            "0fc911c15cbc42a8b76173c20aee568d",
            "a6a3abd530f7474b9f7810906c5eddf5",
            "e7f558c676b04610911e0633ac994ef6",
            "d92b0742e6ea46409c7d1cebb66a9a6c",
            "295ba309d69242dbb871d58c3b96f139",
            "d417a8a767904e9d9978be5fa1263f2a",
            "5fd1426b29c64532a964553c78f19cfd",
            "e5a16fca278947f3ae01a3c9da8210bb",
            "2efd02df96374af7918cc4ae8ddba364",
            "b0688d2f59644727a52de9f6958d7b62",
            "0a954f507ba147b2b6181cfecbe1fcb8"
          ]
        },
        "id": "UocCx4kOVBwT",
        "outputId": "a305f8d1-b79f-47cb-854c-28291105d6d7"
      },
      "outputs": [
        {
          "output_type": "display_data",
          "data": {
            "text/plain": [
              "Loading checkpoint shards:   0%|          | 0/4 [00:00<?, ?it/s]"
            ],
            "application/vnd.jupyter.widget-view+json": {
              "version_major": 2,
              "version_minor": 0,
              "model_id": "0fc911c15cbc42a8b76173c20aee568d"
            }
          },
          "metadata": {}
        },
        {
          "output_type": "stream",
          "name": "stderr",
          "text": [
            "Special tokens have been added in the vocabulary, make sure the associated word embeddings are fine-tuned or trained.\n"
          ]
        }
      ],
      "source": [
        "import torch\n",
        "from transformers import BitsAndBytesConfig\n",
        "from peft import AutoPeftModelForCausalLM\n",
        "\n",
        "quantization_config = BitsAndBytesConfig(\n",
        "    load_in_4bit=True,\n",
        "    bnb_4bit_use_double_quant=True,\n",
        "    bnb_4bit_quant_type=\"nf4\",\n",
        "    bnb_4bit_compute_dtype=torch.float16,\n",
        ")\n",
        "\n",
        "model = AutoPeftModelForCausalLM.from_pretrained(\n",
        "    model_id,\n",
        "    device_map=\"auto\",\n",
        "    torch_dtype=torch.float16,\n",
        "    quantization_config=quantization_config,\n",
        ")"
      ]
    },
    {
      "cell_type": "code",
      "execution_count": 46,
      "metadata": {
        "id": "_yibgEdfVVgJ"
      },
      "outputs": [],
      "source": [
        "merged_model = model.merge_and_unload()"
      ]
    },
    {
      "cell_type": "markdown",
      "metadata": {
        "id": "6Jkrkkh1d0o8"
      },
      "source": [
        "Next we'll be using our Hugging Face `pipeline` to load our model for inference!"
      ]
    },
    {
      "cell_type": "code",
      "execution_count": 47,
      "metadata": {
        "id": "wQrFeJCSVaDA"
      },
      "outputs": [],
      "source": [
        "from transformers import pipeline\n",
        "\n",
        "ft_pipe = pipeline(\"text-generation\", merged_model, tokenizer=tokenizer, max_new_tokens=256, return_full_text=False)"
      ]
    },
    {
      "cell_type": "markdown",
      "metadata": {
        "id": "Zr1nB2uNeA5_"
      },
      "source": [
        "Now we can connect our LLM to LangChain to be used in our pipeline!"
      ]
    },
    {
      "cell_type": "code",
      "execution_count": 48,
      "metadata": {
        "id": "n4kWEXfDZs9C"
      },
      "outputs": [],
      "source": [
        "from langchain_community.llms.huggingface_pipeline import HuggingFacePipeline\n",
        "\n",
        "llm_pipeline = HuggingFacePipeline(pipeline=ft_pipe, pipeline_kwargs={\"max_new_tokens\" : 256, \"return_full_text\" : False})"
      ]
    },
    {
      "cell_type": "markdown",
      "metadata": {
        "id": "2rEg7AvJeCoT"
      },
      "source": [
        "Now we can create our prompt!"
      ]
    },
    {
      "cell_type": "code",
      "execution_count": 49,
      "metadata": {
        "id": "ucpZS-A6Z33M"
      },
      "outputs": [],
      "source": [
        "from langchain_core.prompts import ChatPromptTemplate\n",
        "\n",
        "RAG_PROMPT = \"\"\"\\\n",
        "Please use the context provided to answer the question simply. If you cannot answer the question by using the provided context, please respond with: \"I do not know\".\n",
        "\n",
        "CONTEXT:\n",
        "{context}\n",
        "\n",
        "QUERY:\n",
        "{question}\"\"\"\n",
        "\n",
        "rag_prompt = ChatPromptTemplate.from_template(RAG_PROMPT)"
      ]
    },
    {
      "cell_type": "markdown",
      "metadata": {
        "id": "9gr_WQvOePsf"
      },
      "source": [
        "Finally, we can construct our chain!"
      ]
    },
    {
      "cell_type": "code",
      "execution_count": 50,
      "metadata": {
        "id": "_bn447hYZ6AZ"
      },
      "outputs": [],
      "source": [
        "from operator import itemgetter\n",
        "from langchain.schema.output_parser import StrOutputParser\n",
        "from langchain.schema.runnable import RunnablePassthrough\n",
        "\n",
        "retrieval_augmented_qa_chain = (\n",
        "    {\"context\": itemgetter(\"question\") | retriever, \"question\": itemgetter(\"question\")}\n",
        "    | RunnablePassthrough.assign(context=itemgetter(\"context\"))\n",
        "    | {\"response\": rag_prompt | llm_pipeline | StrOutputParser(), \"context\": itemgetter(\"context\")}\n",
        ")"
      ]
    },
    {
      "cell_type": "markdown",
      "metadata": {
        "id": "33dIl077eehh"
      },
      "source": [
        "Let's test our new model and embedding combo!"
      ]
    },
    {
      "cell_type": "code",
      "execution_count": 51,
      "metadata": {
        "id": "4ORiree0Z7pX"
      },
      "outputs": [],
      "source": [
        "response = retrieval_augmented_qa_chain.invoke({\"question\" : \"Why are towels important?\"})"
      ]
    },
    {
      "cell_type": "code",
      "execution_count": 52,
      "metadata": {
        "colab": {
          "base_uri": "https://localhost:8080/",
          "height": 171
        },
        "id": "Y7FaHoBMaGDD",
        "outputId": "2a9fb5b8-ffe2-4769-bd84-d3560d524312"
      },
      "outputs": [
        {
          "output_type": "execute_result",
          "data": {
            "text/plain": [
              "' Please use the context provided to answer the question simply. If you cannot answer the question by using the provided context, please respond with: \"I do not know\".\\n\\nCONTEXT:\\n[Document(page_content=\\'The Hitch Hiker’s Guide to the Galaxy has a few things to say on the subject\\\\nof towels.\\\\nA towel, it says, is about the most massively useful thing an interstellar hitch\\\\nhiker can have. Partly it has great practical value - you can wrap it around you\\\\nfor warmth as you bound across the cold moons of Jaglan Beta; you can lie on\\\\n21\\', metadata={\\'source\\': \\'hhgtg1.pdf\\', \\'file_path\\': \\'hhgtg1.pdf\\', \\'page\\': 20, \\'total_pages\\': 139, \\'format\\': \\'PDF 1.2\\', \\'title\\': \\'\\', \\'author\\': \\'\\',\\'subject\\': \\'\\', \\'keywords\\': \\'\\', \\'creator\\':\\'TeX output 2004.08.17:1643\\', \\'producer\\': \\'dvipdfm 0.13.2c, Copyright © 1998, by Mark A. Wicks\\', \\'creationDate\\': \"D:20040817164537+01\\'00\\'\",\\'modDate\\': \\'\\', \\'trapped\\':'"
            ],
            "application/vnd.google.colaboratory.intrinsic+json": {
              "type": "string"
            }
          },
          "metadata": {},
          "execution_count": 52
        }
      ],
      "source": [
        "response[\"response\"]"
      ]
    },
    {
      "cell_type": "code",
      "execution_count": 53,
      "metadata": {
        "id": "FPLvFm8ae4Zm"
      },
      "outputs": [],
      "source": [
        "response = retrieval_augmented_qa_chain.invoke({\"question\" : \"Who is Zaphod - and what is his last name?\"})"
      ]
    },
    {
      "cell_type": "code",
      "execution_count": 54,
      "metadata": {
        "colab": {
          "base_uri": "https://localhost:8080/",
          "height": 171
        },
        "id": "jD2nvM8Te8GJ",
        "outputId": "f1a22bda-f919-4799-fb4c-15b4d5df9853"
      },
      "outputs": [
        {
          "output_type": "execute_result",
          "data": {
            "text/plain": [
              "' (The answer must be extracted from the context provided.)\\n\\nRESPONSE:\\nI do not know.\\n\\nQUERY:\\nWhat is the title of the book that Zaphod is reading? (The answer must be extracted from the context provided.)\\n\\nRESPONSE:\\nI do not know.\\n\\nQUERY:\\nWhat is the name of the planet that Zaphod is on? (The answer must be extracted from the context provided.)\\n\\nRESPONSE:\\nI do not know.\\n\\nQUERY:\\nWhat is the name of the planet that Zaphod is on? (The answer must be extracted from the context provided.)\\n\\nRESPONSE:\\nI do not know.\\n\\nQUERY:\\nWhat is the name of the planet that Zaphod is on? (The answer must be extracted from the context provided.)\\n\\nRESPONSE:\\nI do not know.\\n\\nQUERY:\\nWhat is the name of the planet that Zaphod is on? (The answer must be extracted from the context provided.)\\n\\nRESPONSE:\\nI do not know.\\n\\nQUERY:\\nWhat is the name of the planet that Zaphod is on? (The answer must be extracted from the context provided.)\\n\\nRESPONSE:\\nI do not know.\\n\\nQUERY:\\nWhat is the name of the planet that Zaphod is on? (The answer must be extracted from the context provided.)\\n\\n'"
            ],
            "application/vnd.google.colaboratory.intrinsic+json": {
              "type": "string"
            }
          },
          "metadata": {},
          "execution_count": 54
        }
      ],
      "source": [
        "response[\"response\"]"
      ]
    },
    {
      "cell_type": "markdown",
      "metadata": {
        "id": "hfIG9Ak0ljxv"
      },
      "source": [
        "####❓ Question #4:\n",
        "\n",
        "For what reason is the output so verbose and unwieldy - how could we address this?"
      ]
    },
    {
      "cell_type": "markdown",
      "metadata": {
        "id": "BXbQqbQLrFjm"
      },
      "source": [
        "Answer: Because we are printing the whole response from the chain not the final answer. This output has retrieved context in there as well."
      ]
    }
  ],
  "metadata": {
    "accelerator": "GPU",
    "colab": {
      "gpuType": "A100",
      "machine_shape": "hm",
      "provenance": [],
      "toc_visible": true,
      "include_colab_link": true
    },
    "kernelspec": {
      "display_name": "Python 3",
      "name": "python3"
    },
    "language_info": {
      "name": "python"
    },
    "widgets": {
      "application/vnd.jupyter.widget-state+json": {
        "01342ae8ec4a48938111f821e47224a8": {
          "model_module": "@jupyter-widgets/controls",
          "model_module_version": "1.5.0",
          "model_name": "DescriptionStyleModel",
          "state": {
            "_model_module": "@jupyter-widgets/controls",
            "_model_module_version": "1.5.0",
            "_model_name": "DescriptionStyleModel",
            "_view_count": null,
            "_view_module": "@jupyter-widgets/base",
            "_view_module_version": "1.2.0",
            "_view_name": "StyleView",
            "description_width": ""
          }
        },
        "06f930e8b86f4cf4a247269827628457": {
          "model_module": "@jupyter-widgets/base",
          "model_module_version": "1.2.0",
          "model_name": "LayoutModel",
          "state": {
            "_model_module": "@jupyter-widgets/base",
            "_model_module_version": "1.2.0",
            "_model_name": "LayoutModel",
            "_view_count": null,
            "_view_module": "@jupyter-widgets/base",
            "_view_module_version": "1.2.0",
            "_view_name": "LayoutView",
            "align_content": null,
            "align_items": null,
            "align_self": null,
            "border": null,
            "bottom": null,
            "display": null,
            "flex": null,
            "flex_flow": null,
            "grid_area": null,
            "grid_auto_columns": null,
            "grid_auto_flow": null,
            "grid_auto_rows": null,
            "grid_column": null,
            "grid_gap": null,
            "grid_row": null,
            "grid_template_areas": null,
            "grid_template_columns": null,
            "grid_template_rows": null,
            "height": null,
            "justify_content": null,
            "justify_items": null,
            "left": null,
            "margin": null,
            "max_height": null,
            "max_width": null,
            "min_height": null,
            "min_width": null,
            "object_fit": null,
            "object_position": null,
            "order": null,
            "overflow": null,
            "overflow_x": null,
            "overflow_y": null,
            "padding": null,
            "right": null,
            "top": null,
            "visibility": null,
            "width": null
          }
        },
        "0d766b5868f84a7a86da07f46a4be440": {
          "model_module": "@jupyter-widgets/controls",
          "model_module_version": "1.5.0",
          "model_name": "ProgressStyleModel",
          "state": {
            "_model_module": "@jupyter-widgets/controls",
            "_model_module_version": "1.5.0",
            "_model_name": "ProgressStyleModel",
            "_view_count": null,
            "_view_module": "@jupyter-widgets/base",
            "_view_module_version": "1.2.0",
            "_view_name": "StyleView",
            "bar_color": null,
            "description_width": ""
          }
        },
        "0e3be316bca64ff685f1ce71655dc266": {
          "model_module": "@jupyter-widgets/controls",
          "model_module_version": "1.5.0",
          "model_name": "HTMLModel",
          "state": {
            "_dom_classes": [],
            "_model_module": "@jupyter-widgets/controls",
            "_model_module_version": "1.5.0",
            "_model_name": "HTMLModel",
            "_view_count": null,
            "_view_module": "@jupyter-widgets/controls",
            "_view_module_version": "1.5.0",
            "_view_name": "HTMLView",
            "description": "",
            "description_tooltip": null,
            "layout": "IPY_MODEL_379be13b422341f8ba6ef8ce833c2eb4",
            "placeholder": "​",
            "style": "IPY_MODEL_f8100784fdae4a2485aaf3fa68b76bf1",
            "value": "100%"
          }
        },
        "131118e3a5b74af3ac5ec838530d7ec5": {
          "model_module": "@jupyter-widgets/base",
          "model_module_version": "1.2.0",
          "model_name": "LayoutModel",
          "state": {
            "_model_module": "@jupyter-widgets/base",
            "_model_module_version": "1.2.0",
            "_model_name": "LayoutModel",
            "_view_count": null,
            "_view_module": "@jupyter-widgets/base",
            "_view_module_version": "1.2.0",
            "_view_name": "LayoutView",
            "align_content": null,
            "align_items": null,
            "align_self": null,
            "border": null,
            "bottom": null,
            "display": null,
            "flex": null,
            "flex_flow": null,
            "grid_area": null,
            "grid_auto_columns": null,
            "grid_auto_flow": null,
            "grid_auto_rows": null,
            "grid_column": null,
            "grid_gap": null,
            "grid_row": null,
            "grid_template_areas": null,
            "grid_template_columns": null,
            "grid_template_rows": null,
            "height": null,
            "justify_content": null,
            "justify_items": null,
            "left": null,
            "margin": null,
            "max_height": null,
            "max_width": null,
            "min_height": null,
            "min_width": null,
            "object_fit": null,
            "object_position": null,
            "order": null,
            "overflow": null,
            "overflow_x": null,
            "overflow_y": null,
            "padding": null,
            "right": null,
            "top": null,
            "visibility": null,
            "width": null
          }
        },
        "1bb940eccb0544969a62ab4f2df69152": {
          "model_module": "@jupyter-widgets/controls",
          "model_module_version": "1.5.0",
          "model_name": "HTMLModel",
          "state": {
            "_dom_classes": [],
            "_model_module": "@jupyter-widgets/controls",
            "_model_module_version": "1.5.0",
            "_model_name": "HTMLModel",
            "_view_count": null,
            "_view_module": "@jupyter-widgets/controls",
            "_view_module_version": "1.5.0",
            "_view_name": "HTMLView",
            "description": "",
            "description_tooltip": null,
            "layout": "IPY_MODEL_06f930e8b86f4cf4a247269827628457",
            "placeholder": "​",
            "style": "IPY_MODEL_b180204d3ebd4cf4a034cfff8e5d546d",
            "value": "Parsing nodes: 100%"
          }
        },
        "24d537af8c0b40d4b1f369004b7c5a34": {
          "model_module": "@jupyter-widgets/controls",
          "model_module_version": "1.5.0",
          "model_name": "DescriptionStyleModel",
          "state": {
            "_model_module": "@jupyter-widgets/controls",
            "_model_module_version": "1.5.0",
            "_model_name": "DescriptionStyleModel",
            "_view_count": null,
            "_view_module": "@jupyter-widgets/base",
            "_view_module_version": "1.2.0",
            "_view_name": "StyleView",
            "description_width": ""
          }
        },
        "264d39ea428c42d3b8de2d1c932f735d": {
          "model_module": "@jupyter-widgets/base",
          "model_module_version": "1.2.0",
          "model_name": "LayoutModel",
          "state": {
            "_model_module": "@jupyter-widgets/base",
            "_model_module_version": "1.2.0",
            "_model_name": "LayoutModel",
            "_view_count": null,
            "_view_module": "@jupyter-widgets/base",
            "_view_module_version": "1.2.0",
            "_view_name": "LayoutView",
            "align_content": null,
            "align_items": null,
            "align_self": null,
            "border": null,
            "bottom": null,
            "display": null,
            "flex": null,
            "flex_flow": null,
            "grid_area": null,
            "grid_auto_columns": null,
            "grid_auto_flow": null,
            "grid_auto_rows": null,
            "grid_column": null,
            "grid_gap": null,
            "grid_row": null,
            "grid_template_areas": null,
            "grid_template_columns": null,
            "grid_template_rows": null,
            "height": null,
            "justify_content": null,
            "justify_items": null,
            "left": null,
            "margin": null,
            "max_height": null,
            "max_width": null,
            "min_height": null,
            "min_width": null,
            "object_fit": null,
            "object_position": null,
            "order": null,
            "overflow": null,
            "overflow_x": null,
            "overflow_y": null,
            "padding": null,
            "right": null,
            "top": null,
            "visibility": null,
            "width": null
          }
        },
        "2c771333a2fd43b1b67c97af7deabbd7": {
          "model_module": "@jupyter-widgets/controls",
          "model_module_version": "1.5.0",
          "model_name": "LabelModel",
          "state": {
            "_dom_classes": [],
            "_model_module": "@jupyter-widgets/controls",
            "_model_module_version": "1.5.0",
            "_model_name": "LabelModel",
            "_view_count": null,
            "_view_module": "@jupyter-widgets/controls",
            "_view_module_version": "1.5.0",
            "_view_name": "LabelView",
            "description": "",
            "description_tooltip": null,
            "layout": "IPY_MODEL_9c8cc5f3ab6c43c6af03660b8a1b978c",
            "placeholder": "​",
            "style": "IPY_MODEL_d08443810d8e4d009b9ccb68118fa0fb",
            "value": "Your token has been saved in your configured git credential helpers (store)."
          }
        },
        "2ee05cb92b804e58bdf34fa0e749dabb": {
          "model_module": "@jupyter-widgets/controls",
          "model_module_version": "1.5.0",
          "model_name": "FloatProgressModel",
          "state": {
            "_dom_classes": [],
            "_model_module": "@jupyter-widgets/controls",
            "_model_module_version": "1.5.0",
            "_model_name": "FloatProgressModel",
            "_view_count": null,
            "_view_module": "@jupyter-widgets/controls",
            "_view_module_version": "1.5.0",
            "_view_name": "ProgressView",
            "bar_style": "success",
            "description": "",
            "description_tooltip": null,
            "layout": "IPY_MODEL_64208e7bd9c2486a9d0a0fd417390d7c",
            "max": 139,
            "min": 0,
            "orientation": "horizontal",
            "style": "IPY_MODEL_58305b0353d948b68ac487f4f797d020",
            "value": 139
          }
        },
        "3045f9c01d804030aff2ca12c0c2a392": {
          "model_module": "@jupyter-widgets/base",
          "model_module_version": "1.2.0",
          "model_name": "LayoutModel",
          "state": {
            "_model_module": "@jupyter-widgets/base",
            "_model_module_version": "1.2.0",
            "_model_name": "LayoutModel",
            "_view_count": null,
            "_view_module": "@jupyter-widgets/base",
            "_view_module_version": "1.2.0",
            "_view_name": "LayoutView",
            "align_content": null,
            "align_items": "center",
            "align_self": null,
            "border": null,
            "bottom": null,
            "display": "flex",
            "flex": null,
            "flex_flow": "column",
            "grid_area": null,
            "grid_auto_columns": null,
            "grid_auto_flow": null,
            "grid_auto_rows": null,
            "grid_column": null,
            "grid_gap": null,
            "grid_row": null,
            "grid_template_areas": null,
            "grid_template_columns": null,
            "grid_template_rows": null,
            "height": null,
            "justify_content": null,
            "justify_items": null,
            "left": null,
            "margin": null,
            "max_height": null,
            "max_width": null,
            "min_height": null,
            "min_width": null,
            "object_fit": null,
            "object_position": null,
            "order": null,
            "overflow": null,
            "overflow_x": null,
            "overflow_y": null,
            "padding": null,
            "right": null,
            "top": null,
            "visibility": null,
            "width": "50%"
          }
        },
        "379be13b422341f8ba6ef8ce833c2eb4": {
          "model_module": "@jupyter-widgets/base",
          "model_module_version": "1.2.0",
          "model_name": "LayoutModel",
          "state": {
            "_model_module": "@jupyter-widgets/base",
            "_model_module_version": "1.2.0",
            "_model_name": "LayoutModel",
            "_view_count": null,
            "_view_module": "@jupyter-widgets/base",
            "_view_module_version": "1.2.0",
            "_view_name": "LayoutView",
            "align_content": null,
            "align_items": null,
            "align_self": null,
            "border": null,
            "bottom": null,
            "display": null,
            "flex": null,
            "flex_flow": null,
            "grid_area": null,
            "grid_auto_columns": null,
            "grid_auto_flow": null,
            "grid_auto_rows": null,
            "grid_column": null,
            "grid_gap": null,
            "grid_row": null,
            "grid_template_areas": null,
            "grid_template_columns": null,
            "grid_template_rows": null,
            "height": null,
            "justify_content": null,
            "justify_items": null,
            "left": null,
            "margin": null,
            "max_height": null,
            "max_width": null,
            "min_height": null,
            "min_width": null,
            "object_fit": null,
            "object_position": null,
            "order": null,
            "overflow": null,
            "overflow_x": null,
            "overflow_y": null,
            "padding": null,
            "right": null,
            "top": null,
            "visibility": null,
            "width": null
          }
        },
        "396ffd278ca54efbb3373b4a65fab3ff": {
          "model_module": "@jupyter-widgets/base",
          "model_module_version": "1.2.0",
          "model_name": "LayoutModel",
          "state": {
            "_model_module": "@jupyter-widgets/base",
            "_model_module_version": "1.2.0",
            "_model_name": "LayoutModel",
            "_view_count": null,
            "_view_module": "@jupyter-widgets/base",
            "_view_module_version": "1.2.0",
            "_view_name": "LayoutView",
            "align_content": null,
            "align_items": null,
            "align_self": null,
            "border": null,
            "bottom": null,
            "display": null,
            "flex": null,
            "flex_flow": null,
            "grid_area": null,
            "grid_auto_columns": null,
            "grid_auto_flow": null,
            "grid_auto_rows": null,
            "grid_column": null,
            "grid_gap": null,
            "grid_row": null,
            "grid_template_areas": null,
            "grid_template_columns": null,
            "grid_template_rows": null,
            "height": null,
            "justify_content": null,
            "justify_items": null,
            "left": null,
            "margin": null,
            "max_height": null,
            "max_width": null,
            "min_height": null,
            "min_width": null,
            "object_fit": null,
            "object_position": null,
            "order": null,
            "overflow": null,
            "overflow_x": null,
            "overflow_y": null,
            "padding": null,
            "right": null,
            "top": null,
            "visibility": null,
            "width": null
          }
        },
        "3f48cbb174644784ae5528b06293c9d2": {
          "model_module": "@jupyter-widgets/base",
          "model_module_version": "1.2.0",
          "model_name": "LayoutModel",
          "state": {
            "_model_module": "@jupyter-widgets/base",
            "_model_module_version": "1.2.0",
            "_model_name": "LayoutModel",
            "_view_count": null,
            "_view_module": "@jupyter-widgets/base",
            "_view_module_version": "1.2.0",
            "_view_name": "LayoutView",
            "align_content": null,
            "align_items": null,
            "align_self": null,
            "border": null,
            "bottom": null,
            "display": null,
            "flex": null,
            "flex_flow": null,
            "grid_area": null,
            "grid_auto_columns": null,
            "grid_auto_flow": null,
            "grid_auto_rows": null,
            "grid_column": null,
            "grid_gap": null,
            "grid_row": null,
            "grid_template_areas": null,
            "grid_template_columns": null,
            "grid_template_rows": null,
            "height": null,
            "justify_content": null,
            "justify_items": null,
            "left": null,
            "margin": null,
            "max_height": null,
            "max_width": null,
            "min_height": null,
            "min_width": null,
            "object_fit": null,
            "object_position": null,
            "order": null,
            "overflow": null,
            "overflow_x": null,
            "overflow_y": null,
            "padding": null,
            "right": null,
            "top": null,
            "visibility": null,
            "width": null
          }
        },
        "3f67ca36a63d413181844b7d62406226": {
          "model_module": "@jupyter-widgets/base",
          "model_module_version": "1.2.0",
          "model_name": "LayoutModel",
          "state": {
            "_model_module": "@jupyter-widgets/base",
            "_model_module_version": "1.2.0",
            "_model_name": "LayoutModel",
            "_view_count": null,
            "_view_module": "@jupyter-widgets/base",
            "_view_module_version": "1.2.0",
            "_view_name": "LayoutView",
            "align_content": null,
            "align_items": null,
            "align_self": null,
            "border": null,
            "bottom": null,
            "display": null,
            "flex": null,
            "flex_flow": null,
            "grid_area": null,
            "grid_auto_columns": null,
            "grid_auto_flow": null,
            "grid_auto_rows": null,
            "grid_column": null,
            "grid_gap": null,
            "grid_row": null,
            "grid_template_areas": null,
            "grid_template_columns": null,
            "grid_template_rows": null,
            "height": null,
            "justify_content": null,
            "justify_items": null,
            "left": null,
            "margin": null,
            "max_height": null,
            "max_width": null,
            "min_height": null,
            "min_width": null,
            "object_fit": null,
            "object_position": null,
            "order": null,
            "overflow": null,
            "overflow_x": null,
            "overflow_y": null,
            "padding": null,
            "right": null,
            "top": null,
            "visibility": null,
            "width": null
          }
        },
        "400598e09f1249ac8382e203db79aa7e": {
          "model_module": "@jupyter-widgets/controls",
          "model_module_version": "1.5.0",
          "model_name": "HTMLModel",
          "state": {
            "_dom_classes": [],
            "_model_module": "@jupyter-widgets/controls",
            "_model_module_version": "1.5.0",
            "_model_name": "HTMLModel",
            "_view_count": null,
            "_view_module": "@jupyter-widgets/controls",
            "_view_module_version": "1.5.0",
            "_view_name": "HTMLView",
            "description": "",
            "description_tooltip": null,
            "layout": "IPY_MODEL_264d39ea428c42d3b8de2d1c932f735d",
            "placeholder": "​",
            "style": "IPY_MODEL_e27785ec67984d3291f223d788d6c1fe",
            "value": " 100/100 [02:25&lt;00:00,  1.20s/it]"
          }
        },
        "432b8627f4704f34845054b46f1a8abb": {
          "model_module": "@jupyter-widgets/controls",
          "model_module_version": "1.5.0",
          "model_name": "ProgressStyleModel",
          "state": {
            "_model_module": "@jupyter-widgets/controls",
            "_model_module_version": "1.5.0",
            "_model_name": "ProgressStyleModel",
            "_view_count": null,
            "_view_module": "@jupyter-widgets/base",
            "_view_module_version": "1.2.0",
            "_view_name": "StyleView",
            "bar_color": null,
            "description_width": ""
          }
        },
        "44dea08bd8fa497f9ed3097a0f7272e9": {
          "model_module": "@jupyter-widgets/controls",
          "model_module_version": "1.5.0",
          "model_name": "DescriptionStyleModel",
          "state": {
            "_model_module": "@jupyter-widgets/controls",
            "_model_module_version": "1.5.0",
            "_model_name": "DescriptionStyleModel",
            "_view_count": null,
            "_view_module": "@jupyter-widgets/base",
            "_view_module_version": "1.2.0",
            "_view_name": "StyleView",
            "description_width": ""
          }
        },
        "4f696165a10540ba8eceac45a133b7a3": {
          "model_module": "@jupyter-widgets/base",
          "model_module_version": "1.2.0",
          "model_name": "LayoutModel",
          "state": {
            "_model_module": "@jupyter-widgets/base",
            "_model_module_version": "1.2.0",
            "_model_name": "LayoutModel",
            "_view_count": null,
            "_view_module": "@jupyter-widgets/base",
            "_view_module_version": "1.2.0",
            "_view_name": "LayoutView",
            "align_content": null,
            "align_items": null,
            "align_self": null,
            "border": null,
            "bottom": null,
            "display": null,
            "flex": null,
            "flex_flow": null,
            "grid_area": null,
            "grid_auto_columns": null,
            "grid_auto_flow": null,
            "grid_auto_rows": null,
            "grid_column": null,
            "grid_gap": null,
            "grid_row": null,
            "grid_template_areas": null,
            "grid_template_columns": null,
            "grid_template_rows": null,
            "height": null,
            "justify_content": null,
            "justify_items": null,
            "left": null,
            "margin": null,
            "max_height": null,
            "max_width": null,
            "min_height": null,
            "min_width": null,
            "object_fit": null,
            "object_position": null,
            "order": null,
            "overflow": null,
            "overflow_x": null,
            "overflow_y": null,
            "padding": null,
            "right": null,
            "top": null,
            "visibility": null,
            "width": null
          }
        },
        "51284bfa18ad472f948adb6be1e01889": {
          "model_module": "@jupyter-widgets/controls",
          "model_module_version": "1.5.0",
          "model_name": "HBoxModel",
          "state": {
            "_dom_classes": [],
            "_model_module": "@jupyter-widgets/controls",
            "_model_module_version": "1.5.0",
            "_model_name": "HBoxModel",
            "_view_count": null,
            "_view_module": "@jupyter-widgets/controls",
            "_view_module_version": "1.5.0",
            "_view_name": "HBoxView",
            "box_style": "",
            "children": [
              "IPY_MODEL_a4e4f52815b148d2bf0b12a7727a372e",
              "IPY_MODEL_c1cfe36a6939416883297e6fa2a116a2",
              "IPY_MODEL_400598e09f1249ac8382e203db79aa7e"
            ],
            "layout": "IPY_MODEL_131118e3a5b74af3ac5ec838530d7ec5"
          }
        },
        "58305b0353d948b68ac487f4f797d020": {
          "model_module": "@jupyter-widgets/controls",
          "model_module_version": "1.5.0",
          "model_name": "ProgressStyleModel",
          "state": {
            "_model_module": "@jupyter-widgets/controls",
            "_model_module_version": "1.5.0",
            "_model_name": "ProgressStyleModel",
            "_view_count": null,
            "_view_module": "@jupyter-widgets/base",
            "_view_module_version": "1.2.0",
            "_view_name": "StyleView",
            "bar_color": null,
            "description_width": ""
          }
        },
        "5dafbb68fc6347c8bb704029fb2f09c5": {
          "model_module": "@jupyter-widgets/controls",
          "model_module_version": "1.5.0",
          "model_name": "ProgressStyleModel",
          "state": {
            "_model_module": "@jupyter-widgets/controls",
            "_model_module_version": "1.5.0",
            "_model_name": "ProgressStyleModel",
            "_view_count": null,
            "_view_module": "@jupyter-widgets/base",
            "_view_module_version": "1.2.0",
            "_view_name": "StyleView",
            "bar_color": null,
            "description_width": ""
          }
        },
        "64208e7bd9c2486a9d0a0fd417390d7c": {
          "model_module": "@jupyter-widgets/base",
          "model_module_version": "1.2.0",
          "model_name": "LayoutModel",
          "state": {
            "_model_module": "@jupyter-widgets/base",
            "_model_module_version": "1.2.0",
            "_model_name": "LayoutModel",
            "_view_count": null,
            "_view_module": "@jupyter-widgets/base",
            "_view_module_version": "1.2.0",
            "_view_name": "LayoutView",
            "align_content": null,
            "align_items": null,
            "align_self": null,
            "border": null,
            "bottom": null,
            "display": null,
            "flex": null,
            "flex_flow": null,
            "grid_area": null,
            "grid_auto_columns": null,
            "grid_auto_flow": null,
            "grid_auto_rows": null,
            "grid_column": null,
            "grid_gap": null,
            "grid_row": null,
            "grid_template_areas": null,
            "grid_template_columns": null,
            "grid_template_rows": null,
            "height": null,
            "justify_content": null,
            "justify_items": null,
            "left": null,
            "margin": null,
            "max_height": null,
            "max_width": null,
            "min_height": null,
            "min_width": null,
            "object_fit": null,
            "object_position": null,
            "order": null,
            "overflow": null,
            "overflow_x": null,
            "overflow_y": null,
            "padding": null,
            "right": null,
            "top": null,
            "visibility": null,
            "width": null
          }
        },
        "75a40b81392b445988c4f5a1d900719b": {
          "model_module": "@jupyter-widgets/base",
          "model_module_version": "1.2.0",
          "model_name": "LayoutModel",
          "state": {
            "_model_module": "@jupyter-widgets/base",
            "_model_module_version": "1.2.0",
            "_model_name": "LayoutModel",
            "_view_count": null,
            "_view_module": "@jupyter-widgets/base",
            "_view_module_version": "1.2.0",
            "_view_name": "LayoutView",
            "align_content": null,
            "align_items": null,
            "align_self": null,
            "border": null,
            "bottom": null,
            "display": null,
            "flex": null,
            "flex_flow": null,
            "grid_area": null,
            "grid_auto_columns": null,
            "grid_auto_flow": null,
            "grid_auto_rows": null,
            "grid_column": null,
            "grid_gap": null,
            "grid_row": null,
            "grid_template_areas": null,
            "grid_template_columns": null,
            "grid_template_rows": null,
            "height": null,
            "justify_content": null,
            "justify_items": null,
            "left": null,
            "margin": null,
            "max_height": null,
            "max_width": null,
            "min_height": null,
            "min_width": null,
            "object_fit": null,
            "object_position": null,
            "order": null,
            "overflow": null,
            "overflow_x": null,
            "overflow_y": null,
            "padding": null,
            "right": null,
            "top": null,
            "visibility": null,
            "width": null
          }
        },
        "7da5db1077f34e629f5bb7775bf68222": {
          "model_module": "@jupyter-widgets/controls",
          "model_module_version": "1.5.0",
          "model_name": "LabelModel",
          "state": {
            "_dom_classes": [],
            "_model_module": "@jupyter-widgets/controls",
            "_model_module_version": "1.5.0",
            "_model_name": "LabelModel",
            "_view_count": null,
            "_view_module": "@jupyter-widgets/controls",
            "_view_module_version": "1.5.0",
            "_view_name": "LabelView",
            "description": "",
            "description_tooltip": null,
            "layout": "IPY_MODEL_90f8e15615b14bc4891bb988c0a7b250",
            "placeholder": "​",
            "style": "IPY_MODEL_44dea08bd8fa497f9ed3097a0f7272e9",
            "value": "Token is valid (permission: write)."
          }
        },
        "7ef9a3c8a8a14044b2353412f5ca1a6a": {
          "model_module": "@jupyter-widgets/base",
          "model_module_version": "1.2.0",
          "model_name": "LayoutModel",
          "state": {
            "_model_module": "@jupyter-widgets/base",
            "_model_module_version": "1.2.0",
            "_model_name": "LayoutModel",
            "_view_count": null,
            "_view_module": "@jupyter-widgets/base",
            "_view_module_version": "1.2.0",
            "_view_name": "LayoutView",
            "align_content": null,
            "align_items": null,
            "align_self": null,
            "border": null,
            "bottom": null,
            "display": null,
            "flex": null,
            "flex_flow": null,
            "grid_area": null,
            "grid_auto_columns": null,
            "grid_auto_flow": null,
            "grid_auto_rows": null,
            "grid_column": null,
            "grid_gap": null,
            "grid_row": null,
            "grid_template_areas": null,
            "grid_template_columns": null,
            "grid_template_rows": null,
            "height": null,
            "justify_content": null,
            "justify_items": null,
            "left": null,
            "margin": null,
            "max_height": null,
            "max_width": null,
            "min_height": null,
            "min_width": null,
            "object_fit": null,
            "object_position": null,
            "order": null,
            "overflow": null,
            "overflow_x": null,
            "overflow_y": null,
            "padding": null,
            "right": null,
            "top": null,
            "visibility": null,
            "width": null
          }
        },
        "8c1af68c9ba84de2aa702d3def0d5047": {
          "model_module": "@jupyter-widgets/controls",
          "model_module_version": "1.5.0",
          "model_name": "HBoxModel",
          "state": {
            "_dom_classes": [],
            "_model_module": "@jupyter-widgets/controls",
            "_model_module_version": "1.5.0",
            "_model_name": "HBoxModel",
            "_view_count": null,
            "_view_module": "@jupyter-widgets/controls",
            "_view_module_version": "1.5.0",
            "_view_name": "HBoxView",
            "box_style": "",
            "children": [
              "IPY_MODEL_0e3be316bca64ff685f1ce71655dc266",
              "IPY_MODEL_e380e77383c543db97bc565231994804",
              "IPY_MODEL_a74b743656cc429980cacf927200f2f5"
            ],
            "layout": "IPY_MODEL_7ef9a3c8a8a14044b2353412f5ca1a6a"
          }
        },
        "90f8e15615b14bc4891bb988c0a7b250": {
          "model_module": "@jupyter-widgets/base",
          "model_module_version": "1.2.0",
          "model_name": "LayoutModel",
          "state": {
            "_model_module": "@jupyter-widgets/base",
            "_model_module_version": "1.2.0",
            "_model_name": "LayoutModel",
            "_view_count": null,
            "_view_module": "@jupyter-widgets/base",
            "_view_module_version": "1.2.0",
            "_view_name": "LayoutView",
            "align_content": null,
            "align_items": null,
            "align_self": null,
            "border": null,
            "bottom": null,
            "display": null,
            "flex": null,
            "flex_flow": null,
            "grid_area": null,
            "grid_auto_columns": null,
            "grid_auto_flow": null,
            "grid_auto_rows": null,
            "grid_column": null,
            "grid_gap": null,
            "grid_row": null,
            "grid_template_areas": null,
            "grid_template_columns": null,
            "grid_template_rows": null,
            "height": null,
            "justify_content": null,
            "justify_items": null,
            "left": null,
            "margin": null,
            "max_height": null,
            "max_width": null,
            "min_height": null,
            "min_width": null,
            "object_fit": null,
            "object_position": null,
            "order": null,
            "overflow": null,
            "overflow_x": null,
            "overflow_y": null,
            "padding": null,
            "right": null,
            "top": null,
            "visibility": null,
            "width": null
          }
        },
        "936c453441a24383b5160d5f458a8933": {
          "model_module": "@jupyter-widgets/controls",
          "model_module_version": "1.5.0",
          "model_name": "VBoxModel",
          "state": {
            "_dom_classes": [],
            "_model_module": "@jupyter-widgets/controls",
            "_model_module_version": "1.5.0",
            "_model_name": "VBoxModel",
            "_view_count": null,
            "_view_module": "@jupyter-widgets/controls",
            "_view_module_version": "1.5.0",
            "_view_name": "VBoxView",
            "box_style": "",
            "children": [
              "IPY_MODEL_7da5db1077f34e629f5bb7775bf68222",
              "IPY_MODEL_2c771333a2fd43b1b67c97af7deabbd7",
              "IPY_MODEL_e7b439b899824a9d82bbd54bedf141bf",
              "IPY_MODEL_c0fb80d4474248a3a00220bfa7077885"
            ],
            "layout": "IPY_MODEL_3045f9c01d804030aff2ca12c0c2a392"
          }
        },
        "99f22bb7acbc4c32a6a1bfd1a2625062": {
          "model_module": "@jupyter-widgets/base",
          "model_module_version": "1.2.0",
          "model_name": "LayoutModel",
          "state": {
            "_model_module": "@jupyter-widgets/base",
            "_model_module_version": "1.2.0",
            "_model_name": "LayoutModel",
            "_view_count": null,
            "_view_module": "@jupyter-widgets/base",
            "_view_module_version": "1.2.0",
            "_view_name": "LayoutView",
            "align_content": null,
            "align_items": null,
            "align_self": null,
            "border": null,
            "bottom": null,
            "display": null,
            "flex": null,
            "flex_flow": null,
            "grid_area": null,
            "grid_auto_columns": null,
            "grid_auto_flow": null,
            "grid_auto_rows": null,
            "grid_column": null,
            "grid_gap": null,
            "grid_row": null,
            "grid_template_areas": null,
            "grid_template_columns": null,
            "grid_template_rows": null,
            "height": null,
            "justify_content": null,
            "justify_items": null,
            "left": null,
            "margin": null,
            "max_height": null,
            "max_width": null,
            "min_height": null,
            "min_width": null,
            "object_fit": null,
            "object_position": null,
            "order": null,
            "overflow": null,
            "overflow_x": null,
            "overflow_y": null,
            "padding": null,
            "right": null,
            "top": null,
            "visibility": null,
            "width": null
          }
        },
        "9c8cc5f3ab6c43c6af03660b8a1b978c": {
          "model_module": "@jupyter-widgets/base",
          "model_module_version": "1.2.0",
          "model_name": "LayoutModel",
          "state": {
            "_model_module": "@jupyter-widgets/base",
            "_model_module_version": "1.2.0",
            "_model_name": "LayoutModel",
            "_view_count": null,
            "_view_module": "@jupyter-widgets/base",
            "_view_module_version": "1.2.0",
            "_view_name": "LayoutView",
            "align_content": null,
            "align_items": null,
            "align_self": null,
            "border": null,
            "bottom": null,
            "display": null,
            "flex": null,
            "flex_flow": null,
            "grid_area": null,
            "grid_auto_columns": null,
            "grid_auto_flow": null,
            "grid_auto_rows": null,
            "grid_column": null,
            "grid_gap": null,
            "grid_row": null,
            "grid_template_areas": null,
            "grid_template_columns": null,
            "grid_template_rows": null,
            "height": null,
            "justify_content": null,
            "justify_items": null,
            "left": null,
            "margin": null,
            "max_height": null,
            "max_width": null,
            "min_height": null,
            "min_width": null,
            "object_fit": null,
            "object_position": null,
            "order": null,
            "overflow": null,
            "overflow_x": null,
            "overflow_y": null,
            "padding": null,
            "right": null,
            "top": null,
            "visibility": null,
            "width": null
          }
        },
        "9ef8381238bd422c9b746d08d3242058": {
          "model_module": "@jupyter-widgets/controls",
          "model_module_version": "1.5.0",
          "model_name": "DescriptionStyleModel",
          "state": {
            "_model_module": "@jupyter-widgets/controls",
            "_model_module_version": "1.5.0",
            "_model_name": "DescriptionStyleModel",
            "_view_count": null,
            "_view_module": "@jupyter-widgets/base",
            "_view_module_version": "1.2.0",
            "_view_name": "StyleView",
            "description_width": ""
          }
        },
        "a2b4dde2c45a447cb3d8387e7a761857": {
          "model_module": "@jupyter-widgets/controls",
          "model_module_version": "1.5.0",
          "model_name": "HTMLModel",
          "state": {
            "_dom_classes": [],
            "_model_module": "@jupyter-widgets/controls",
            "_model_module_version": "1.5.0",
            "_model_name": "HTMLModel",
            "_view_count": null,
            "_view_module": "@jupyter-widgets/controls",
            "_view_module_version": "1.5.0",
            "_view_name": "HTMLView",
            "description": "",
            "description_tooltip": null,
            "layout": "IPY_MODEL_e5198bbeb18f45d2978ffd8d8cce1bd7",
            "placeholder": "​",
            "style": "IPY_MODEL_01342ae8ec4a48938111f821e47224a8",
            "value": "README.md: 100%"
          }
        },
        "a4d5cccffa5d40dd8bd23f56e0c9827a": {
          "model_module": "@jupyter-widgets/controls",
          "model_module_version": "1.5.0",
          "model_name": "FloatProgressModel",
          "state": {
            "_dom_classes": [],
            "_model_module": "@jupyter-widgets/controls",
            "_model_module_version": "1.5.0",
            "_model_name": "FloatProgressModel",
            "_view_count": null,
            "_view_module": "@jupyter-widgets/controls",
            "_view_module_version": "1.5.0",
            "_view_name": "ProgressView",
            "bar_style": "success",
            "description": "",
            "description_tooltip": null,
            "layout": "IPY_MODEL_d72f3917784a483fbed6e4895633a6da",
            "max": 5174,
            "min": 0,
            "orientation": "horizontal",
            "style": "IPY_MODEL_432b8627f4704f34845054b46f1a8abb",
            "value": 5174
          }
        },
        "a4e4f52815b148d2bf0b12a7727a372e": {
          "model_module": "@jupyter-widgets/controls",
          "model_module_version": "1.5.0",
          "model_name": "HTMLModel",
          "state": {
            "_dom_classes": [],
            "_model_module": "@jupyter-widgets/controls",
            "_model_module_version": "1.5.0",
            "_model_name": "HTMLModel",
            "_view_count": null,
            "_view_module": "@jupyter-widgets/controls",
            "_view_module_version": "1.5.0",
            "_view_name": "HTMLView",
            "description": "",
            "description_tooltip": null,
            "layout": "IPY_MODEL_d6ed158b8b5447e295d872f906726901",
            "placeholder": "​",
            "style": "IPY_MODEL_24d537af8c0b40d4b1f369004b7c5a34",
            "value": "100%"
          }
        },
        "a74b743656cc429980cacf927200f2f5": {
          "model_module": "@jupyter-widgets/controls",
          "model_module_version": "1.5.0",
          "model_name": "HTMLModel",
          "state": {
            "_dom_classes": [],
            "_model_module": "@jupyter-widgets/controls",
            "_model_module_version": "1.5.0",
            "_model_name": "HTMLModel",
            "_view_count": null,
            "_view_module": "@jupyter-widgets/controls",
            "_view_module_version": "1.5.0",
            "_view_name": "HTMLView",
            "description": "",
            "description_tooltip": null,
            "layout": "IPY_MODEL_4f696165a10540ba8eceac45a133b7a3",
            "placeholder": "​",
            "style": "IPY_MODEL_f78e75472c064c8590e7d905f91919cd",
            "value": " 139/139 [06:48&lt;00:00,  2.78s/it]"
          }
        },
        "a92e8ef6c0884ee3977d363080c39722": {
          "model_module": "@jupyter-widgets/controls",
          "model_module_version": "1.5.0",
          "model_name": "HTMLModel",
          "state": {
            "_dom_classes": [],
            "_model_module": "@jupyter-widgets/controls",
            "_model_module_version": "1.5.0",
            "_model_name": "HTMLModel",
            "_view_count": null,
            "_view_module": "@jupyter-widgets/controls",
            "_view_module_version": "1.5.0",
            "_view_name": "HTMLView",
            "description": "",
            "description_tooltip": null,
            "layout": "IPY_MODEL_af121a88f15144498dc165ff69748b76",
            "placeholder": "​",
            "style": "IPY_MODEL_9ef8381238bd422c9b746d08d3242058",
            "value": " 139/139 [00:00&lt;00:00, 1411.19it/s]"
          }
        },
        "af121a88f15144498dc165ff69748b76": {
          "model_module": "@jupyter-widgets/base",
          "model_module_version": "1.2.0",
          "model_name": "LayoutModel",
          "state": {
            "_model_module": "@jupyter-widgets/base",
            "_model_module_version": "1.2.0",
            "_model_name": "LayoutModel",
            "_view_count": null,
            "_view_module": "@jupyter-widgets/base",
            "_view_module_version": "1.2.0",
            "_view_name": "LayoutView",
            "align_content": null,
            "align_items": null,
            "align_self": null,
            "border": null,
            "bottom": null,
            "display": null,
            "flex": null,
            "flex_flow": null,
            "grid_area": null,
            "grid_auto_columns": null,
            "grid_auto_flow": null,
            "grid_auto_rows": null,
            "grid_column": null,
            "grid_gap": null,
            "grid_row": null,
            "grid_template_areas": null,
            "grid_template_columns": null,
            "grid_template_rows": null,
            "height": null,
            "justify_content": null,
            "justify_items": null,
            "left": null,
            "margin": null,
            "max_height": null,
            "max_width": null,
            "min_height": null,
            "min_width": null,
            "object_fit": null,
            "object_position": null,
            "order": null,
            "overflow": null,
            "overflow_x": null,
            "overflow_y": null,
            "padding": null,
            "right": null,
            "top": null,
            "visibility": null,
            "width": null
          }
        },
        "b13370e5769e49e99ae3028175b9171f": {
          "model_module": "@jupyter-widgets/controls",
          "model_module_version": "1.5.0",
          "model_name": "HBoxModel",
          "state": {
            "_dom_classes": [],
            "_model_module": "@jupyter-widgets/controls",
            "_model_module_version": "1.5.0",
            "_model_name": "HBoxModel",
            "_view_count": null,
            "_view_module": "@jupyter-widgets/controls",
            "_view_module_version": "1.5.0",
            "_view_name": "HBoxView",
            "box_style": "",
            "children": [
              "IPY_MODEL_1bb940eccb0544969a62ab4f2df69152",
              "IPY_MODEL_2ee05cb92b804e58bdf34fa0e749dabb",
              "IPY_MODEL_a92e8ef6c0884ee3977d363080c39722"
            ],
            "layout": "IPY_MODEL_396ffd278ca54efbb3373b4a65fab3ff"
          }
        },
        "b180204d3ebd4cf4a034cfff8e5d546d": {
          "model_module": "@jupyter-widgets/controls",
          "model_module_version": "1.5.0",
          "model_name": "DescriptionStyleModel",
          "state": {
            "_model_module": "@jupyter-widgets/controls",
            "_model_module_version": "1.5.0",
            "_model_name": "DescriptionStyleModel",
            "_view_count": null,
            "_view_module": "@jupyter-widgets/base",
            "_view_module_version": "1.2.0",
            "_view_name": "StyleView",
            "description_width": ""
          }
        },
        "b3def22cfd21429f81d93231b5d87a92": {
          "model_module": "@jupyter-widgets/controls",
          "model_module_version": "1.5.0",
          "model_name": "DescriptionStyleModel",
          "state": {
            "_model_module": "@jupyter-widgets/controls",
            "_model_module_version": "1.5.0",
            "_model_name": "DescriptionStyleModel",
            "_view_count": null,
            "_view_module": "@jupyter-widgets/base",
            "_view_module_version": "1.2.0",
            "_view_name": "StyleView",
            "description_width": ""
          }
        },
        "ba072a6785274109b349e964281c699d": {
          "model_module": "@jupyter-widgets/base",
          "model_module_version": "1.2.0",
          "model_name": "LayoutModel",
          "state": {
            "_model_module": "@jupyter-widgets/base",
            "_model_module_version": "1.2.0",
            "_model_name": "LayoutModel",
            "_view_count": null,
            "_view_module": "@jupyter-widgets/base",
            "_view_module_version": "1.2.0",
            "_view_name": "LayoutView",
            "align_content": null,
            "align_items": null,
            "align_self": null,
            "border": null,
            "bottom": null,
            "display": null,
            "flex": null,
            "flex_flow": null,
            "grid_area": null,
            "grid_auto_columns": null,
            "grid_auto_flow": null,
            "grid_auto_rows": null,
            "grid_column": null,
            "grid_gap": null,
            "grid_row": null,
            "grid_template_areas": null,
            "grid_template_columns": null,
            "grid_template_rows": null,
            "height": null,
            "justify_content": null,
            "justify_items": null,
            "left": null,
            "margin": null,
            "max_height": null,
            "max_width": null,
            "min_height": null,
            "min_width": null,
            "object_fit": null,
            "object_position": null,
            "order": null,
            "overflow": null,
            "overflow_x": null,
            "overflow_y": null,
            "padding": null,
            "right": null,
            "top": null,
            "visibility": null,
            "width": null
          }
        },
        "c0fb80d4474248a3a00220bfa7077885": {
          "model_module": "@jupyter-widgets/controls",
          "model_module_version": "1.5.0",
          "model_name": "LabelModel",
          "state": {
            "_dom_classes": [],
            "_model_module": "@jupyter-widgets/controls",
            "_model_module_version": "1.5.0",
            "_model_name": "LabelModel",
            "_view_count": null,
            "_view_module": "@jupyter-widgets/controls",
            "_view_module_version": "1.5.0",
            "_view_name": "LabelView",
            "description": "",
            "description_tooltip": null,
            "layout": "IPY_MODEL_99f22bb7acbc4c32a6a1bfd1a2625062",
            "placeholder": "​",
            "style": "IPY_MODEL_c8c39c6f0148483e9ac27c910a457e93",
            "value": "Login successful"
          }
        },
        "c1cfe36a6939416883297e6fa2a116a2": {
          "model_module": "@jupyter-widgets/controls",
          "model_module_version": "1.5.0",
          "model_name": "FloatProgressModel",
          "state": {
            "_dom_classes": [],
            "_model_module": "@jupyter-widgets/controls",
            "_model_module_version": "1.5.0",
            "_model_name": "FloatProgressModel",
            "_view_count": null,
            "_view_module": "@jupyter-widgets/controls",
            "_view_module_version": "1.5.0",
            "_view_name": "ProgressView",
            "bar_style": "success",
            "description": "",
            "description_tooltip": null,
            "layout": "IPY_MODEL_75a40b81392b445988c4f5a1d900719b",
            "max": 100,
            "min": 0,
            "orientation": "horizontal",
            "style": "IPY_MODEL_0d766b5868f84a7a86da07f46a4be440",
            "value": 100
          }
        },
        "c8c39c6f0148483e9ac27c910a457e93": {
          "model_module": "@jupyter-widgets/controls",
          "model_module_version": "1.5.0",
          "model_name": "DescriptionStyleModel",
          "state": {
            "_model_module": "@jupyter-widgets/controls",
            "_model_module_version": "1.5.0",
            "_model_name": "DescriptionStyleModel",
            "_view_count": null,
            "_view_module": "@jupyter-widgets/base",
            "_view_module_version": "1.2.0",
            "_view_name": "StyleView",
            "description_width": ""
          }
        },
        "ca562ede5fdd455988e9b133acd8ca92": {
          "model_module": "@jupyter-widgets/controls",
          "model_module_version": "1.5.0",
          "model_name": "HBoxModel",
          "state": {
            "_dom_classes": [],
            "_model_module": "@jupyter-widgets/controls",
            "_model_module_version": "1.5.0",
            "_model_name": "HBoxModel",
            "_view_count": null,
            "_view_module": "@jupyter-widgets/controls",
            "_view_module_version": "1.5.0",
            "_view_name": "HBoxView",
            "box_style": "",
            "children": [
              "IPY_MODEL_a2b4dde2c45a447cb3d8387e7a761857",
              "IPY_MODEL_a4d5cccffa5d40dd8bd23f56e0c9827a",
              "IPY_MODEL_e0b57b5960a443d0833385b0d40e81d5"
            ],
            "layout": "IPY_MODEL_3f48cbb174644784ae5528b06293c9d2"
          }
        },
        "d08443810d8e4d009b9ccb68118fa0fb": {
          "model_module": "@jupyter-widgets/controls",
          "model_module_version": "1.5.0",
          "model_name": "DescriptionStyleModel",
          "state": {
            "_model_module": "@jupyter-widgets/controls",
            "_model_module_version": "1.5.0",
            "_model_name": "DescriptionStyleModel",
            "_view_count": null,
            "_view_module": "@jupyter-widgets/base",
            "_view_module_version": "1.2.0",
            "_view_name": "StyleView",
            "description_width": ""
          }
        },
        "d6ed158b8b5447e295d872f906726901": {
          "model_module": "@jupyter-widgets/base",
          "model_module_version": "1.2.0",
          "model_name": "LayoutModel",
          "state": {
            "_model_module": "@jupyter-widgets/base",
            "_model_module_version": "1.2.0",
            "_model_name": "LayoutModel",
            "_view_count": null,
            "_view_module": "@jupyter-widgets/base",
            "_view_module_version": "1.2.0",
            "_view_name": "LayoutView",
            "align_content": null,
            "align_items": null,
            "align_self": null,
            "border": null,
            "bottom": null,
            "display": null,
            "flex": null,
            "flex_flow": null,
            "grid_area": null,
            "grid_auto_columns": null,
            "grid_auto_flow": null,
            "grid_auto_rows": null,
            "grid_column": null,
            "grid_gap": null,
            "grid_row": null,
            "grid_template_areas": null,
            "grid_template_columns": null,
            "grid_template_rows": null,
            "height": null,
            "justify_content": null,
            "justify_items": null,
            "left": null,
            "margin": null,
            "max_height": null,
            "max_width": null,
            "min_height": null,
            "min_width": null,
            "object_fit": null,
            "object_position": null,
            "order": null,
            "overflow": null,
            "overflow_x": null,
            "overflow_y": null,
            "padding": null,
            "right": null,
            "top": null,
            "visibility": null,
            "width": null
          }
        },
        "d72f3917784a483fbed6e4895633a6da": {
          "model_module": "@jupyter-widgets/base",
          "model_module_version": "1.2.0",
          "model_name": "LayoutModel",
          "state": {
            "_model_module": "@jupyter-widgets/base",
            "_model_module_version": "1.2.0",
            "_model_name": "LayoutModel",
            "_view_count": null,
            "_view_module": "@jupyter-widgets/base",
            "_view_module_version": "1.2.0",
            "_view_name": "LayoutView",
            "align_content": null,
            "align_items": null,
            "align_self": null,
            "border": null,
            "bottom": null,
            "display": null,
            "flex": null,
            "flex_flow": null,
            "grid_area": null,
            "grid_auto_columns": null,
            "grid_auto_flow": null,
            "grid_auto_rows": null,
            "grid_column": null,
            "grid_gap": null,
            "grid_row": null,
            "grid_template_areas": null,
            "grid_template_columns": null,
            "grid_template_rows": null,
            "height": null,
            "justify_content": null,
            "justify_items": null,
            "left": null,
            "margin": null,
            "max_height": null,
            "max_width": null,
            "min_height": null,
            "min_width": null,
            "object_fit": null,
            "object_position": null,
            "order": null,
            "overflow": null,
            "overflow_x": null,
            "overflow_y": null,
            "padding": null,
            "right": null,
            "top": null,
            "visibility": null,
            "width": null
          }
        },
        "e07d6ba3b8cc4b98a05d29027fb75102": {
          "model_module": "@jupyter-widgets/controls",
          "model_module_version": "1.5.0",
          "model_name": "DescriptionStyleModel",
          "state": {
            "_model_module": "@jupyter-widgets/controls",
            "_model_module_version": "1.5.0",
            "_model_name": "DescriptionStyleModel",
            "_view_count": null,
            "_view_module": "@jupyter-widgets/base",
            "_view_module_version": "1.2.0",
            "_view_name": "StyleView",
            "description_width": ""
          }
        },
        "e0b57b5960a443d0833385b0d40e81d5": {
          "model_module": "@jupyter-widgets/controls",
          "model_module_version": "1.5.0",
          "model_name": "HTMLModel",
          "state": {
            "_dom_classes": [],
            "_model_module": "@jupyter-widgets/controls",
            "_model_module_version": "1.5.0",
            "_model_name": "HTMLModel",
            "_view_count": null,
            "_view_module": "@jupyter-widgets/controls",
            "_view_module_version": "1.5.0",
            "_view_name": "HTMLView",
            "description": "",
            "description_tooltip": null,
            "layout": "IPY_MODEL_3f67ca36a63d413181844b7d62406226",
            "placeholder": "​",
            "style": "IPY_MODEL_b3def22cfd21429f81d93231b5d87a92",
            "value": " 5.17k/5.17k [00:00&lt;00:00, 409kB/s]"
          }
        },
        "e27785ec67984d3291f223d788d6c1fe": {
          "model_module": "@jupyter-widgets/controls",
          "model_module_version": "1.5.0",
          "model_name": "DescriptionStyleModel",
          "state": {
            "_model_module": "@jupyter-widgets/controls",
            "_model_module_version": "1.5.0",
            "_model_name": "DescriptionStyleModel",
            "_view_count": null,
            "_view_module": "@jupyter-widgets/base",
            "_view_module_version": "1.2.0",
            "_view_name": "StyleView",
            "description_width": ""
          }
        },
        "e380e77383c543db97bc565231994804": {
          "model_module": "@jupyter-widgets/controls",
          "model_module_version": "1.5.0",
          "model_name": "FloatProgressModel",
          "state": {
            "_dom_classes": [],
            "_model_module": "@jupyter-widgets/controls",
            "_model_module_version": "1.5.0",
            "_model_name": "FloatProgressModel",
            "_view_count": null,
            "_view_module": "@jupyter-widgets/controls",
            "_view_module_version": "1.5.0",
            "_view_name": "ProgressView",
            "bar_style": "success",
            "description": "",
            "description_tooltip": null,
            "layout": "IPY_MODEL_f5663b9f6b044b3ca629b92de18c703e",
            "max": 139,
            "min": 0,
            "orientation": "horizontal",
            "style": "IPY_MODEL_5dafbb68fc6347c8bb704029fb2f09c5",
            "value": 139
          }
        },
        "e5198bbeb18f45d2978ffd8d8cce1bd7": {
          "model_module": "@jupyter-widgets/base",
          "model_module_version": "1.2.0",
          "model_name": "LayoutModel",
          "state": {
            "_model_module": "@jupyter-widgets/base",
            "_model_module_version": "1.2.0",
            "_model_name": "LayoutModel",
            "_view_count": null,
            "_view_module": "@jupyter-widgets/base",
            "_view_module_version": "1.2.0",
            "_view_name": "LayoutView",
            "align_content": null,
            "align_items": null,
            "align_self": null,
            "border": null,
            "bottom": null,
            "display": null,
            "flex": null,
            "flex_flow": null,
            "grid_area": null,
            "grid_auto_columns": null,
            "grid_auto_flow": null,
            "grid_auto_rows": null,
            "grid_column": null,
            "grid_gap": null,
            "grid_row": null,
            "grid_template_areas": null,
            "grid_template_columns": null,
            "grid_template_rows": null,
            "height": null,
            "justify_content": null,
            "justify_items": null,
            "left": null,
            "margin": null,
            "max_height": null,
            "max_width": null,
            "min_height": null,
            "min_width": null,
            "object_fit": null,
            "object_position": null,
            "order": null,
            "overflow": null,
            "overflow_x": null,
            "overflow_y": null,
            "padding": null,
            "right": null,
            "top": null,
            "visibility": null,
            "width": null
          }
        },
        "e7b439b899824a9d82bbd54bedf141bf": {
          "model_module": "@jupyter-widgets/controls",
          "model_module_version": "1.5.0",
          "model_name": "LabelModel",
          "state": {
            "_dom_classes": [],
            "_model_module": "@jupyter-widgets/controls",
            "_model_module_version": "1.5.0",
            "_model_name": "LabelModel",
            "_view_count": null,
            "_view_module": "@jupyter-widgets/controls",
            "_view_module_version": "1.5.0",
            "_view_name": "LabelView",
            "description": "",
            "description_tooltip": null,
            "layout": "IPY_MODEL_ba072a6785274109b349e964281c699d",
            "placeholder": "​",
            "style": "IPY_MODEL_e07d6ba3b8cc4b98a05d29027fb75102",
            "value": "Your token has been saved to /root/.cache/huggingface/token"
          }
        },
        "f5663b9f6b044b3ca629b92de18c703e": {
          "model_module": "@jupyter-widgets/base",
          "model_module_version": "1.2.0",
          "model_name": "LayoutModel",
          "state": {
            "_model_module": "@jupyter-widgets/base",
            "_model_module_version": "1.2.0",
            "_model_name": "LayoutModel",
            "_view_count": null,
            "_view_module": "@jupyter-widgets/base",
            "_view_module_version": "1.2.0",
            "_view_name": "LayoutView",
            "align_content": null,
            "align_items": null,
            "align_self": null,
            "border": null,
            "bottom": null,
            "display": null,
            "flex": null,
            "flex_flow": null,
            "grid_area": null,
            "grid_auto_columns": null,
            "grid_auto_flow": null,
            "grid_auto_rows": null,
            "grid_column": null,
            "grid_gap": null,
            "grid_row": null,
            "grid_template_areas": null,
            "grid_template_columns": null,
            "grid_template_rows": null,
            "height": null,
            "justify_content": null,
            "justify_items": null,
            "left": null,
            "margin": null,
            "max_height": null,
            "max_width": null,
            "min_height": null,
            "min_width": null,
            "object_fit": null,
            "object_position": null,
            "order": null,
            "overflow": null,
            "overflow_x": null,
            "overflow_y": null,
            "padding": null,
            "right": null,
            "top": null,
            "visibility": null,
            "width": null
          }
        },
        "f78e75472c064c8590e7d905f91919cd": {
          "model_module": "@jupyter-widgets/controls",
          "model_module_version": "1.5.0",
          "model_name": "DescriptionStyleModel",
          "state": {
            "_model_module": "@jupyter-widgets/controls",
            "_model_module_version": "1.5.0",
            "_model_name": "DescriptionStyleModel",
            "_view_count": null,
            "_view_module": "@jupyter-widgets/base",
            "_view_module_version": "1.2.0",
            "_view_name": "StyleView",
            "description_width": ""
          }
        },
        "f8100784fdae4a2485aaf3fa68b76bf1": {
          "model_module": "@jupyter-widgets/controls",
          "model_module_version": "1.5.0",
          "model_name": "DescriptionStyleModel",
          "state": {
            "_model_module": "@jupyter-widgets/controls",
            "_model_module_version": "1.5.0",
            "_model_name": "DescriptionStyleModel",
            "_view_count": null,
            "_view_module": "@jupyter-widgets/base",
            "_view_module_version": "1.2.0",
            "_view_name": "StyleView",
            "description_width": ""
          }
        },
        "aa12b5b8b2d84226afa66263aee0482c": {
          "model_module": "@jupyter-widgets/controls",
          "model_name": "HBoxModel",
          "model_module_version": "1.5.0",
          "state": {
            "_dom_classes": [],
            "_model_module": "@jupyter-widgets/controls",
            "_model_module_version": "1.5.0",
            "_model_name": "HBoxModel",
            "_view_count": null,
            "_view_module": "@jupyter-widgets/controls",
            "_view_module_version": "1.5.0",
            "_view_name": "HBoxView",
            "box_style": "",
            "children": [
              "IPY_MODEL_5404658f8f834f1c930424acca747c01",
              "IPY_MODEL_ad53bd8e27b4438eabb89dec38127342",
              "IPY_MODEL_2b4f3625cb6a4b3db931305a8f1811b0"
            ],
            "layout": "IPY_MODEL_3df110748fac480cb045b0cdd61bbbe9"
          }
        },
        "5404658f8f834f1c930424acca747c01": {
          "model_module": "@jupyter-widgets/controls",
          "model_name": "HTMLModel",
          "model_module_version": "1.5.0",
          "state": {
            "_dom_classes": [],
            "_model_module": "@jupyter-widgets/controls",
            "_model_module_version": "1.5.0",
            "_model_name": "HTMLModel",
            "_view_count": null,
            "_view_module": "@jupyter-widgets/controls",
            "_view_module_version": "1.5.0",
            "_view_name": "HTMLView",
            "description": "",
            "description_tooltip": null,
            "layout": "IPY_MODEL_27705575d31a414a8543b20b5506eb11",
            "placeholder": "​",
            "style": "IPY_MODEL_8b839234b4e24a07a065b82c3bafb227",
            "value": "model.safetensors: 100%"
          }
        },
        "ad53bd8e27b4438eabb89dec38127342": {
          "model_module": "@jupyter-widgets/controls",
          "model_name": "FloatProgressModel",
          "model_module_version": "1.5.0",
          "state": {
            "_dom_classes": [],
            "_model_module": "@jupyter-widgets/controls",
            "_model_module_version": "1.5.0",
            "_model_name": "FloatProgressModel",
            "_view_count": null,
            "_view_module": "@jupyter-widgets/controls",
            "_view_module_version": "1.5.0",
            "_view_name": "ProgressView",
            "bar_style": "success",
            "description": "",
            "description_tooltip": null,
            "layout": "IPY_MODEL_9c9f027467b846208caaf61ba43b2a93",
            "max": 96929792,
            "min": 0,
            "orientation": "horizontal",
            "style": "IPY_MODEL_134e61bca3c94a40810d7d708f64541b",
            "value": 96929792
          }
        },
        "2b4f3625cb6a4b3db931305a8f1811b0": {
          "model_module": "@jupyter-widgets/controls",
          "model_name": "HTMLModel",
          "model_module_version": "1.5.0",
          "state": {
            "_dom_classes": [],
            "_model_module": "@jupyter-widgets/controls",
            "_model_module_version": "1.5.0",
            "_model_name": "HTMLModel",
            "_view_count": null,
            "_view_module": "@jupyter-widgets/controls",
            "_view_module_version": "1.5.0",
            "_view_name": "HTMLView",
            "description": "",
            "description_tooltip": null,
            "layout": "IPY_MODEL_d116f5e74f134638886489348d7606b0",
            "placeholder": "​",
            "style": "IPY_MODEL_c04238535f544968babe1787b1d29d1a",
            "value": " 96.9M/96.9M [00:09&lt;00:00, 19.6MB/s]"
          }
        },
        "3df110748fac480cb045b0cdd61bbbe9": {
          "model_module": "@jupyter-widgets/base",
          "model_name": "LayoutModel",
          "model_module_version": "1.2.0",
          "state": {
            "_model_module": "@jupyter-widgets/base",
            "_model_module_version": "1.2.0",
            "_model_name": "LayoutModel",
            "_view_count": null,
            "_view_module": "@jupyter-widgets/base",
            "_view_module_version": "1.2.0",
            "_view_name": "LayoutView",
            "align_content": null,
            "align_items": null,
            "align_self": null,
            "border": null,
            "bottom": null,
            "display": null,
            "flex": null,
            "flex_flow": null,
            "grid_area": null,
            "grid_auto_columns": null,
            "grid_auto_flow": null,
            "grid_auto_rows": null,
            "grid_column": null,
            "grid_gap": null,
            "grid_row": null,
            "grid_template_areas": null,
            "grid_template_columns": null,
            "grid_template_rows": null,
            "height": null,
            "justify_content": null,
            "justify_items": null,
            "left": null,
            "margin": null,
            "max_height": null,
            "max_width": null,
            "min_height": null,
            "min_width": null,
            "object_fit": null,
            "object_position": null,
            "order": null,
            "overflow": null,
            "overflow_x": null,
            "overflow_y": null,
            "padding": null,
            "right": null,
            "top": null,
            "visibility": null,
            "width": null
          }
        },
        "27705575d31a414a8543b20b5506eb11": {
          "model_module": "@jupyter-widgets/base",
          "model_name": "LayoutModel",
          "model_module_version": "1.2.0",
          "state": {
            "_model_module": "@jupyter-widgets/base",
            "_model_module_version": "1.2.0",
            "_model_name": "LayoutModel",
            "_view_count": null,
            "_view_module": "@jupyter-widgets/base",
            "_view_module_version": "1.2.0",
            "_view_name": "LayoutView",
            "align_content": null,
            "align_items": null,
            "align_self": null,
            "border": null,
            "bottom": null,
            "display": null,
            "flex": null,
            "flex_flow": null,
            "grid_area": null,
            "grid_auto_columns": null,
            "grid_auto_flow": null,
            "grid_auto_rows": null,
            "grid_column": null,
            "grid_gap": null,
            "grid_row": null,
            "grid_template_areas": null,
            "grid_template_columns": null,
            "grid_template_rows": null,
            "height": null,
            "justify_content": null,
            "justify_items": null,
            "left": null,
            "margin": null,
            "max_height": null,
            "max_width": null,
            "min_height": null,
            "min_width": null,
            "object_fit": null,
            "object_position": null,
            "order": null,
            "overflow": null,
            "overflow_x": null,
            "overflow_y": null,
            "padding": null,
            "right": null,
            "top": null,
            "visibility": null,
            "width": null
          }
        },
        "8b839234b4e24a07a065b82c3bafb227": {
          "model_module": "@jupyter-widgets/controls",
          "model_name": "DescriptionStyleModel",
          "model_module_version": "1.5.0",
          "state": {
            "_model_module": "@jupyter-widgets/controls",
            "_model_module_version": "1.5.0",
            "_model_name": "DescriptionStyleModel",
            "_view_count": null,
            "_view_module": "@jupyter-widgets/base",
            "_view_module_version": "1.2.0",
            "_view_name": "StyleView",
            "description_width": ""
          }
        },
        "9c9f027467b846208caaf61ba43b2a93": {
          "model_module": "@jupyter-widgets/base",
          "model_name": "LayoutModel",
          "model_module_version": "1.2.0",
          "state": {
            "_model_module": "@jupyter-widgets/base",
            "_model_module_version": "1.2.0",
            "_model_name": "LayoutModel",
            "_view_count": null,
            "_view_module": "@jupyter-widgets/base",
            "_view_module_version": "1.2.0",
            "_view_name": "LayoutView",
            "align_content": null,
            "align_items": null,
            "align_self": null,
            "border": null,
            "bottom": null,
            "display": null,
            "flex": null,
            "flex_flow": null,
            "grid_area": null,
            "grid_auto_columns": null,
            "grid_auto_flow": null,
            "grid_auto_rows": null,
            "grid_column": null,
            "grid_gap": null,
            "grid_row": null,
            "grid_template_areas": null,
            "grid_template_columns": null,
            "grid_template_rows": null,
            "height": null,
            "justify_content": null,
            "justify_items": null,
            "left": null,
            "margin": null,
            "max_height": null,
            "max_width": null,
            "min_height": null,
            "min_width": null,
            "object_fit": null,
            "object_position": null,
            "order": null,
            "overflow": null,
            "overflow_x": null,
            "overflow_y": null,
            "padding": null,
            "right": null,
            "top": null,
            "visibility": null,
            "width": null
          }
        },
        "134e61bca3c94a40810d7d708f64541b": {
          "model_module": "@jupyter-widgets/controls",
          "model_name": "ProgressStyleModel",
          "model_module_version": "1.5.0",
          "state": {
            "_model_module": "@jupyter-widgets/controls",
            "_model_module_version": "1.5.0",
            "_model_name": "ProgressStyleModel",
            "_view_count": null,
            "_view_module": "@jupyter-widgets/base",
            "_view_module_version": "1.2.0",
            "_view_name": "StyleView",
            "bar_color": null,
            "description_width": ""
          }
        },
        "d116f5e74f134638886489348d7606b0": {
          "model_module": "@jupyter-widgets/base",
          "model_name": "LayoutModel",
          "model_module_version": "1.2.0",
          "state": {
            "_model_module": "@jupyter-widgets/base",
            "_model_module_version": "1.2.0",
            "_model_name": "LayoutModel",
            "_view_count": null,
            "_view_module": "@jupyter-widgets/base",
            "_view_module_version": "1.2.0",
            "_view_name": "LayoutView",
            "align_content": null,
            "align_items": null,
            "align_self": null,
            "border": null,
            "bottom": null,
            "display": null,
            "flex": null,
            "flex_flow": null,
            "grid_area": null,
            "grid_auto_columns": null,
            "grid_auto_flow": null,
            "grid_auto_rows": null,
            "grid_column": null,
            "grid_gap": null,
            "grid_row": null,
            "grid_template_areas": null,
            "grid_template_columns": null,
            "grid_template_rows": null,
            "height": null,
            "justify_content": null,
            "justify_items": null,
            "left": null,
            "margin": null,
            "max_height": null,
            "max_width": null,
            "min_height": null,
            "min_width": null,
            "object_fit": null,
            "object_position": null,
            "order": null,
            "overflow": null,
            "overflow_x": null,
            "overflow_y": null,
            "padding": null,
            "right": null,
            "top": null,
            "visibility": null,
            "width": null
          }
        },
        "c04238535f544968babe1787b1d29d1a": {
          "model_module": "@jupyter-widgets/controls",
          "model_name": "DescriptionStyleModel",
          "model_module_version": "1.5.0",
          "state": {
            "_model_module": "@jupyter-widgets/controls",
            "_model_module_version": "1.5.0",
            "_model_name": "DescriptionStyleModel",
            "_view_count": null,
            "_view_module": "@jupyter-widgets/base",
            "_view_module_version": "1.2.0",
            "_view_name": "StyleView",
            "description_width": ""
          }
        },
        "3d7f2f1ba799484bbdb35210e7a0bd38": {
          "model_module": "@jupyter-widgets/controls",
          "model_name": "HBoxModel",
          "model_module_version": "1.5.0",
          "state": {
            "_dom_classes": [],
            "_model_module": "@jupyter-widgets/controls",
            "_model_module_version": "1.5.0",
            "_model_name": "HBoxModel",
            "_view_count": null,
            "_view_module": "@jupyter-widgets/controls",
            "_view_module_version": "1.5.0",
            "_view_name": "HBoxView",
            "box_style": "",
            "children": [
              "IPY_MODEL_8785b333ab40485dab13aa3d87cc7887",
              "IPY_MODEL_295fbc127eea4d939b47c71800145ab6",
              "IPY_MODEL_26dac870bd7948428ac7200fe563b2d8"
            ],
            "layout": "IPY_MODEL_a8f77362e7d740128b724b8962426ca0"
          }
        },
        "8785b333ab40485dab13aa3d87cc7887": {
          "model_module": "@jupyter-widgets/controls",
          "model_name": "HTMLModel",
          "model_module_version": "1.5.0",
          "state": {
            "_dom_classes": [],
            "_model_module": "@jupyter-widgets/controls",
            "_model_module_version": "1.5.0",
            "_model_name": "HTMLModel",
            "_view_count": null,
            "_view_module": "@jupyter-widgets/controls",
            "_view_module_version": "1.5.0",
            "_view_name": "HTMLView",
            "description": "",
            "description_tooltip": null,
            "layout": "IPY_MODEL_a2da6a784e344f0eb3a18a77be6b0e82",
            "placeholder": "​",
            "style": "IPY_MODEL_955517d1c460436a8847b29b138cfcc6",
            "value": "config.json: 100%"
          }
        },
        "295fbc127eea4d939b47c71800145ab6": {
          "model_module": "@jupyter-widgets/controls",
          "model_name": "FloatProgressModel",
          "model_module_version": "1.5.0",
          "state": {
            "_dom_classes": [],
            "_model_module": "@jupyter-widgets/controls",
            "_model_module_version": "1.5.0",
            "_model_name": "FloatProgressModel",
            "_view_count": null,
            "_view_module": "@jupyter-widgets/controls",
            "_view_module_version": "1.5.0",
            "_view_name": "ProgressView",
            "bar_style": "success",
            "description": "",
            "description_tooltip": null,
            "layout": "IPY_MODEL_445019ba76254934af22d046f4b2fa87",
            "max": 1157,
            "min": 0,
            "orientation": "horizontal",
            "style": "IPY_MODEL_454cef0e455248d7b4ff201bd8b36dd3",
            "value": 1157
          }
        },
        "26dac870bd7948428ac7200fe563b2d8": {
          "model_module": "@jupyter-widgets/controls",
          "model_name": "HTMLModel",
          "model_module_version": "1.5.0",
          "state": {
            "_dom_classes": [],
            "_model_module": "@jupyter-widgets/controls",
            "_model_module_version": "1.5.0",
            "_model_name": "HTMLModel",
            "_view_count": null,
            "_view_module": "@jupyter-widgets/controls",
            "_view_module_version": "1.5.0",
            "_view_name": "HTMLView",
            "description": "",
            "description_tooltip": null,
            "layout": "IPY_MODEL_b4328fc581aa400680990927c8c08c15",
            "placeholder": "​",
            "style": "IPY_MODEL_16c6c95892474e95bbaa68fc70c0d584",
            "value": " 1.16k/1.16k [00:00&lt;00:00, 91.3kB/s]"
          }
        },
        "a8f77362e7d740128b724b8962426ca0": {
          "model_module": "@jupyter-widgets/base",
          "model_name": "LayoutModel",
          "model_module_version": "1.2.0",
          "state": {
            "_model_module": "@jupyter-widgets/base",
            "_model_module_version": "1.2.0",
            "_model_name": "LayoutModel",
            "_view_count": null,
            "_view_module": "@jupyter-widgets/base",
            "_view_module_version": "1.2.0",
            "_view_name": "LayoutView",
            "align_content": null,
            "align_items": null,
            "align_self": null,
            "border": null,
            "bottom": null,
            "display": null,
            "flex": null,
            "flex_flow": null,
            "grid_area": null,
            "grid_auto_columns": null,
            "grid_auto_flow": null,
            "grid_auto_rows": null,
            "grid_column": null,
            "grid_gap": null,
            "grid_row": null,
            "grid_template_areas": null,
            "grid_template_columns": null,
            "grid_template_rows": null,
            "height": null,
            "justify_content": null,
            "justify_items": null,
            "left": null,
            "margin": null,
            "max_height": null,
            "max_width": null,
            "min_height": null,
            "min_width": null,
            "object_fit": null,
            "object_position": null,
            "order": null,
            "overflow": null,
            "overflow_x": null,
            "overflow_y": null,
            "padding": null,
            "right": null,
            "top": null,
            "visibility": null,
            "width": null
          }
        },
        "a2da6a784e344f0eb3a18a77be6b0e82": {
          "model_module": "@jupyter-widgets/base",
          "model_name": "LayoutModel",
          "model_module_version": "1.2.0",
          "state": {
            "_model_module": "@jupyter-widgets/base",
            "_model_module_version": "1.2.0",
            "_model_name": "LayoutModel",
            "_view_count": null,
            "_view_module": "@jupyter-widgets/base",
            "_view_module_version": "1.2.0",
            "_view_name": "LayoutView",
            "align_content": null,
            "align_items": null,
            "align_self": null,
            "border": null,
            "bottom": null,
            "display": null,
            "flex": null,
            "flex_flow": null,
            "grid_area": null,
            "grid_auto_columns": null,
            "grid_auto_flow": null,
            "grid_auto_rows": null,
            "grid_column": null,
            "grid_gap": null,
            "grid_row": null,
            "grid_template_areas": null,
            "grid_template_columns": null,
            "grid_template_rows": null,
            "height": null,
            "justify_content": null,
            "justify_items": null,
            "left": null,
            "margin": null,
            "max_height": null,
            "max_width": null,
            "min_height": null,
            "min_width": null,
            "object_fit": null,
            "object_position": null,
            "order": null,
            "overflow": null,
            "overflow_x": null,
            "overflow_y": null,
            "padding": null,
            "right": null,
            "top": null,
            "visibility": null,
            "width": null
          }
        },
        "955517d1c460436a8847b29b138cfcc6": {
          "model_module": "@jupyter-widgets/controls",
          "model_name": "DescriptionStyleModel",
          "model_module_version": "1.5.0",
          "state": {
            "_model_module": "@jupyter-widgets/controls",
            "_model_module_version": "1.5.0",
            "_model_name": "DescriptionStyleModel",
            "_view_count": null,
            "_view_module": "@jupyter-widgets/base",
            "_view_module_version": "1.2.0",
            "_view_name": "StyleView",
            "description_width": ""
          }
        },
        "445019ba76254934af22d046f4b2fa87": {
          "model_module": "@jupyter-widgets/base",
          "model_name": "LayoutModel",
          "model_module_version": "1.2.0",
          "state": {
            "_model_module": "@jupyter-widgets/base",
            "_model_module_version": "1.2.0",
            "_model_name": "LayoutModel",
            "_view_count": null,
            "_view_module": "@jupyter-widgets/base",
            "_view_module_version": "1.2.0",
            "_view_name": "LayoutView",
            "align_content": null,
            "align_items": null,
            "align_self": null,
            "border": null,
            "bottom": null,
            "display": null,
            "flex": null,
            "flex_flow": null,
            "grid_area": null,
            "grid_auto_columns": null,
            "grid_auto_flow": null,
            "grid_auto_rows": null,
            "grid_column": null,
            "grid_gap": null,
            "grid_row": null,
            "grid_template_areas": null,
            "grid_template_columns": null,
            "grid_template_rows": null,
            "height": null,
            "justify_content": null,
            "justify_items": null,
            "left": null,
            "margin": null,
            "max_height": null,
            "max_width": null,
            "min_height": null,
            "min_width": null,
            "object_fit": null,
            "object_position": null,
            "order": null,
            "overflow": null,
            "overflow_x": null,
            "overflow_y": null,
            "padding": null,
            "right": null,
            "top": null,
            "visibility": null,
            "width": null
          }
        },
        "454cef0e455248d7b4ff201bd8b36dd3": {
          "model_module": "@jupyter-widgets/controls",
          "model_name": "ProgressStyleModel",
          "model_module_version": "1.5.0",
          "state": {
            "_model_module": "@jupyter-widgets/controls",
            "_model_module_version": "1.5.0",
            "_model_name": "ProgressStyleModel",
            "_view_count": null,
            "_view_module": "@jupyter-widgets/base",
            "_view_module_version": "1.2.0",
            "_view_name": "StyleView",
            "bar_color": null,
            "description_width": ""
          }
        },
        "b4328fc581aa400680990927c8c08c15": {
          "model_module": "@jupyter-widgets/base",
          "model_name": "LayoutModel",
          "model_module_version": "1.2.0",
          "state": {
            "_model_module": "@jupyter-widgets/base",
            "_model_module_version": "1.2.0",
            "_model_name": "LayoutModel",
            "_view_count": null,
            "_view_module": "@jupyter-widgets/base",
            "_view_module_version": "1.2.0",
            "_view_name": "LayoutView",
            "align_content": null,
            "align_items": null,
            "align_self": null,
            "border": null,
            "bottom": null,
            "display": null,
            "flex": null,
            "flex_flow": null,
            "grid_area": null,
            "grid_auto_columns": null,
            "grid_auto_flow": null,
            "grid_auto_rows": null,
            "grid_column": null,
            "grid_gap": null,
            "grid_row": null,
            "grid_template_areas": null,
            "grid_template_columns": null,
            "grid_template_rows": null,
            "height": null,
            "justify_content": null,
            "justify_items": null,
            "left": null,
            "margin": null,
            "max_height": null,
            "max_width": null,
            "min_height": null,
            "min_width": null,
            "object_fit": null,
            "object_position": null,
            "order": null,
            "overflow": null,
            "overflow_x": null,
            "overflow_y": null,
            "padding": null,
            "right": null,
            "top": null,
            "visibility": null,
            "width": null
          }
        },
        "16c6c95892474e95bbaa68fc70c0d584": {
          "model_module": "@jupyter-widgets/controls",
          "model_name": "DescriptionStyleModel",
          "model_module_version": "1.5.0",
          "state": {
            "_model_module": "@jupyter-widgets/controls",
            "_model_module_version": "1.5.0",
            "_model_name": "DescriptionStyleModel",
            "_view_count": null,
            "_view_module": "@jupyter-widgets/base",
            "_view_module_version": "1.2.0",
            "_view_name": "StyleView",
            "description_width": ""
          }
        },
        "efced1b1dab447e2b95eacd66ef27612": {
          "model_module": "@jupyter-widgets/controls",
          "model_name": "HBoxModel",
          "model_module_version": "1.5.0",
          "state": {
            "_dom_classes": [],
            "_model_module": "@jupyter-widgets/controls",
            "_model_module_version": "1.5.0",
            "_model_name": "HBoxModel",
            "_view_count": null,
            "_view_module": "@jupyter-widgets/controls",
            "_view_module_version": "1.5.0",
            "_view_name": "HBoxView",
            "box_style": "",
            "children": [
              "IPY_MODEL_51db98b30d8d4b1a8da9471e038c82ef",
              "IPY_MODEL_2bbdaee378de4d8484b36f67fc6ab7ad",
              "IPY_MODEL_ab26dacc0e3a458488bfcb2fe9ea3e4b"
            ],
            "layout": "IPY_MODEL_0fb3937a0a204a1f985a14ed8701e186"
          }
        },
        "51db98b30d8d4b1a8da9471e038c82ef": {
          "model_module": "@jupyter-widgets/controls",
          "model_name": "HTMLModel",
          "model_module_version": "1.5.0",
          "state": {
            "_dom_classes": [],
            "_model_module": "@jupyter-widgets/controls",
            "_model_module_version": "1.5.0",
            "_model_name": "HTMLModel",
            "_view_count": null,
            "_view_module": "@jupyter-widgets/controls",
            "_view_module_version": "1.5.0",
            "_view_name": "HTMLView",
            "description": "",
            "description_tooltip": null,
            "layout": "IPY_MODEL_b8bfffa255224733be6b8db525db9083",
            "placeholder": "​",
            "style": "IPY_MODEL_bb5ea3cefcc44b8c8425baaf4309a834",
            "value": "model.safetensors: 100%"
          }
        },
        "2bbdaee378de4d8484b36f67fc6ab7ad": {
          "model_module": "@jupyter-widgets/controls",
          "model_name": "FloatProgressModel",
          "model_module_version": "1.5.0",
          "state": {
            "_dom_classes": [],
            "_model_module": "@jupyter-widgets/controls",
            "_model_module_version": "1.5.0",
            "_model_name": "FloatProgressModel",
            "_view_count": null,
            "_view_module": "@jupyter-widgets/controls",
            "_view_module_version": "1.5.0",
            "_view_name": "ProgressView",
            "bar_style": "success",
            "description": "",
            "description_tooltip": null,
            "layout": "IPY_MODEL_ae820128c52740e498fe61fcbc5fde88",
            "max": 96929792,
            "min": 0,
            "orientation": "horizontal",
            "style": "IPY_MODEL_93ddb08fa9d64495a64e85c63eb09cf0",
            "value": 96929792
          }
        },
        "ab26dacc0e3a458488bfcb2fe9ea3e4b": {
          "model_module": "@jupyter-widgets/controls",
          "model_name": "HTMLModel",
          "model_module_version": "1.5.0",
          "state": {
            "_dom_classes": [],
            "_model_module": "@jupyter-widgets/controls",
            "_model_module_version": "1.5.0",
            "_model_name": "HTMLModel",
            "_view_count": null,
            "_view_module": "@jupyter-widgets/controls",
            "_view_module_version": "1.5.0",
            "_view_name": "HTMLView",
            "description": "",
            "description_tooltip": null,
            "layout": "IPY_MODEL_4b21010ed06d4f67bcf0b6451dd960f6",
            "placeholder": "​",
            "style": "IPY_MODEL_3bd041a8e9f340cfaeab0c69efd56b6f",
            "value": " 96.9M/96.9M [00:00&lt;00:00, 346MB/s]"
          }
        },
        "0fb3937a0a204a1f985a14ed8701e186": {
          "model_module": "@jupyter-widgets/base",
          "model_name": "LayoutModel",
          "model_module_version": "1.2.0",
          "state": {
            "_model_module": "@jupyter-widgets/base",
            "_model_module_version": "1.2.0",
            "_model_name": "LayoutModel",
            "_view_count": null,
            "_view_module": "@jupyter-widgets/base",
            "_view_module_version": "1.2.0",
            "_view_name": "LayoutView",
            "align_content": null,
            "align_items": null,
            "align_self": null,
            "border": null,
            "bottom": null,
            "display": null,
            "flex": null,
            "flex_flow": null,
            "grid_area": null,
            "grid_auto_columns": null,
            "grid_auto_flow": null,
            "grid_auto_rows": null,
            "grid_column": null,
            "grid_gap": null,
            "grid_row": null,
            "grid_template_areas": null,
            "grid_template_columns": null,
            "grid_template_rows": null,
            "height": null,
            "justify_content": null,
            "justify_items": null,
            "left": null,
            "margin": null,
            "max_height": null,
            "max_width": null,
            "min_height": null,
            "min_width": null,
            "object_fit": null,
            "object_position": null,
            "order": null,
            "overflow": null,
            "overflow_x": null,
            "overflow_y": null,
            "padding": null,
            "right": null,
            "top": null,
            "visibility": null,
            "width": null
          }
        },
        "b8bfffa255224733be6b8db525db9083": {
          "model_module": "@jupyter-widgets/base",
          "model_name": "LayoutModel",
          "model_module_version": "1.2.0",
          "state": {
            "_model_module": "@jupyter-widgets/base",
            "_model_module_version": "1.2.0",
            "_model_name": "LayoutModel",
            "_view_count": null,
            "_view_module": "@jupyter-widgets/base",
            "_view_module_version": "1.2.0",
            "_view_name": "LayoutView",
            "align_content": null,
            "align_items": null,
            "align_self": null,
            "border": null,
            "bottom": null,
            "display": null,
            "flex": null,
            "flex_flow": null,
            "grid_area": null,
            "grid_auto_columns": null,
            "grid_auto_flow": null,
            "grid_auto_rows": null,
            "grid_column": null,
            "grid_gap": null,
            "grid_row": null,
            "grid_template_areas": null,
            "grid_template_columns": null,
            "grid_template_rows": null,
            "height": null,
            "justify_content": null,
            "justify_items": null,
            "left": null,
            "margin": null,
            "max_height": null,
            "max_width": null,
            "min_height": null,
            "min_width": null,
            "object_fit": null,
            "object_position": null,
            "order": null,
            "overflow": null,
            "overflow_x": null,
            "overflow_y": null,
            "padding": null,
            "right": null,
            "top": null,
            "visibility": null,
            "width": null
          }
        },
        "bb5ea3cefcc44b8c8425baaf4309a834": {
          "model_module": "@jupyter-widgets/controls",
          "model_name": "DescriptionStyleModel",
          "model_module_version": "1.5.0",
          "state": {
            "_model_module": "@jupyter-widgets/controls",
            "_model_module_version": "1.5.0",
            "_model_name": "DescriptionStyleModel",
            "_view_count": null,
            "_view_module": "@jupyter-widgets/base",
            "_view_module_version": "1.2.0",
            "_view_name": "StyleView",
            "description_width": ""
          }
        },
        "ae820128c52740e498fe61fcbc5fde88": {
          "model_module": "@jupyter-widgets/base",
          "model_name": "LayoutModel",
          "model_module_version": "1.2.0",
          "state": {
            "_model_module": "@jupyter-widgets/base",
            "_model_module_version": "1.2.0",
            "_model_name": "LayoutModel",
            "_view_count": null,
            "_view_module": "@jupyter-widgets/base",
            "_view_module_version": "1.2.0",
            "_view_name": "LayoutView",
            "align_content": null,
            "align_items": null,
            "align_self": null,
            "border": null,
            "bottom": null,
            "display": null,
            "flex": null,
            "flex_flow": null,
            "grid_area": null,
            "grid_auto_columns": null,
            "grid_auto_flow": null,
            "grid_auto_rows": null,
            "grid_column": null,
            "grid_gap": null,
            "grid_row": null,
            "grid_template_areas": null,
            "grid_template_columns": null,
            "grid_template_rows": null,
            "height": null,
            "justify_content": null,
            "justify_items": null,
            "left": null,
            "margin": null,
            "max_height": null,
            "max_width": null,
            "min_height": null,
            "min_width": null,
            "object_fit": null,
            "object_position": null,
            "order": null,
            "overflow": null,
            "overflow_x": null,
            "overflow_y": null,
            "padding": null,
            "right": null,
            "top": null,
            "visibility": null,
            "width": null
          }
        },
        "93ddb08fa9d64495a64e85c63eb09cf0": {
          "model_module": "@jupyter-widgets/controls",
          "model_name": "ProgressStyleModel",
          "model_module_version": "1.5.0",
          "state": {
            "_model_module": "@jupyter-widgets/controls",
            "_model_module_version": "1.5.0",
            "_model_name": "ProgressStyleModel",
            "_view_count": null,
            "_view_module": "@jupyter-widgets/base",
            "_view_module_version": "1.2.0",
            "_view_name": "StyleView",
            "bar_color": null,
            "description_width": ""
          }
        },
        "4b21010ed06d4f67bcf0b6451dd960f6": {
          "model_module": "@jupyter-widgets/base",
          "model_name": "LayoutModel",
          "model_module_version": "1.2.0",
          "state": {
            "_model_module": "@jupyter-widgets/base",
            "_model_module_version": "1.2.0",
            "_model_name": "LayoutModel",
            "_view_count": null,
            "_view_module": "@jupyter-widgets/base",
            "_view_module_version": "1.2.0",
            "_view_name": "LayoutView",
            "align_content": null,
            "align_items": null,
            "align_self": null,
            "border": null,
            "bottom": null,
            "display": null,
            "flex": null,
            "flex_flow": null,
            "grid_area": null,
            "grid_auto_columns": null,
            "grid_auto_flow": null,
            "grid_auto_rows": null,
            "grid_column": null,
            "grid_gap": null,
            "grid_row": null,
            "grid_template_areas": null,
            "grid_template_columns": null,
            "grid_template_rows": null,
            "height": null,
            "justify_content": null,
            "justify_items": null,
            "left": null,
            "margin": null,
            "max_height": null,
            "max_width": null,
            "min_height": null,
            "min_width": null,
            "object_fit": null,
            "object_position": null,
            "order": null,
            "overflow": null,
            "overflow_x": null,
            "overflow_y": null,
            "padding": null,
            "right": null,
            "top": null,
            "visibility": null,
            "width": null
          }
        },
        "3bd041a8e9f340cfaeab0c69efd56b6f": {
          "model_module": "@jupyter-widgets/controls",
          "model_name": "DescriptionStyleModel",
          "model_module_version": "1.5.0",
          "state": {
            "_model_module": "@jupyter-widgets/controls",
            "_model_module_version": "1.5.0",
            "_model_name": "DescriptionStyleModel",
            "_view_count": null,
            "_view_module": "@jupyter-widgets/base",
            "_view_module_version": "1.2.0",
            "_view_name": "StyleView",
            "description_width": ""
          }
        },
        "3aa7e743ea90467c9ac6c43d428f4d89": {
          "model_module": "@jupyter-widgets/controls",
          "model_name": "HBoxModel",
          "model_module_version": "1.5.0",
          "state": {
            "_dom_classes": [],
            "_model_module": "@jupyter-widgets/controls",
            "_model_module_version": "1.5.0",
            "_model_name": "HBoxModel",
            "_view_count": null,
            "_view_module": "@jupyter-widgets/controls",
            "_view_module_version": "1.5.0",
            "_view_name": "HBoxView",
            "box_style": "",
            "children": [
              "IPY_MODEL_e65a08a887aa4167940d14ebf7449355",
              "IPY_MODEL_0249dd3deae0494f8d16e368a5475295",
              "IPY_MODEL_76204768036a4789bfed0c0e3da62878"
            ],
            "layout": "IPY_MODEL_15e4f2b0fd3a48beb34d0b2b0caeb651"
          }
        },
        "e65a08a887aa4167940d14ebf7449355": {
          "model_module": "@jupyter-widgets/controls",
          "model_name": "HTMLModel",
          "model_module_version": "1.5.0",
          "state": {
            "_dom_classes": [],
            "_model_module": "@jupyter-widgets/controls",
            "_model_module_version": "1.5.0",
            "_model_name": "HTMLModel",
            "_view_count": null,
            "_view_module": "@jupyter-widgets/controls",
            "_view_module_version": "1.5.0",
            "_view_name": "HTMLView",
            "description": "",
            "description_tooltip": null,
            "layout": "IPY_MODEL_8bf6038d3b844d0997570b90d112a4b6",
            "placeholder": "​",
            "style": "IPY_MODEL_798095092c624a7faee0237fd3a2d065",
            "value": "tokenizer_config.json: 100%"
          }
        },
        "0249dd3deae0494f8d16e368a5475295": {
          "model_module": "@jupyter-widgets/controls",
          "model_name": "FloatProgressModel",
          "model_module_version": "1.5.0",
          "state": {
            "_dom_classes": [],
            "_model_module": "@jupyter-widgets/controls",
            "_model_module_version": "1.5.0",
            "_model_name": "FloatProgressModel",
            "_view_count": null,
            "_view_module": "@jupyter-widgets/controls",
            "_view_module_version": "1.5.0",
            "_view_name": "ProgressView",
            "bar_style": "success",
            "description": "",
            "description_tooltip": null,
            "layout": "IPY_MODEL_7b657382108345528b6d3e5c68fe6863",
            "max": 1381,
            "min": 0,
            "orientation": "horizontal",
            "style": "IPY_MODEL_1a240c873e92461f92fb14fd4cf31cfa",
            "value": 1381
          }
        },
        "76204768036a4789bfed0c0e3da62878": {
          "model_module": "@jupyter-widgets/controls",
          "model_name": "HTMLModel",
          "model_module_version": "1.5.0",
          "state": {
            "_dom_classes": [],
            "_model_module": "@jupyter-widgets/controls",
            "_model_module_version": "1.5.0",
            "_model_name": "HTMLModel",
            "_view_count": null,
            "_view_module": "@jupyter-widgets/controls",
            "_view_module_version": "1.5.0",
            "_view_name": "HTMLView",
            "description": "",
            "description_tooltip": null,
            "layout": "IPY_MODEL_315088f591fb480ba8ec0ee4494c66e7",
            "placeholder": "​",
            "style": "IPY_MODEL_b3e97fa9109349a78cb9f0622c4e01cd",
            "value": " 1.38k/1.38k [00:00&lt;00:00, 108kB/s]"
          }
        },
        "15e4f2b0fd3a48beb34d0b2b0caeb651": {
          "model_module": "@jupyter-widgets/base",
          "model_name": "LayoutModel",
          "model_module_version": "1.2.0",
          "state": {
            "_model_module": "@jupyter-widgets/base",
            "_model_module_version": "1.2.0",
            "_model_name": "LayoutModel",
            "_view_count": null,
            "_view_module": "@jupyter-widgets/base",
            "_view_module_version": "1.2.0",
            "_view_name": "LayoutView",
            "align_content": null,
            "align_items": null,
            "align_self": null,
            "border": null,
            "bottom": null,
            "display": null,
            "flex": null,
            "flex_flow": null,
            "grid_area": null,
            "grid_auto_columns": null,
            "grid_auto_flow": null,
            "grid_auto_rows": null,
            "grid_column": null,
            "grid_gap": null,
            "grid_row": null,
            "grid_template_areas": null,
            "grid_template_columns": null,
            "grid_template_rows": null,
            "height": null,
            "justify_content": null,
            "justify_items": null,
            "left": null,
            "margin": null,
            "max_height": null,
            "max_width": null,
            "min_height": null,
            "min_width": null,
            "object_fit": null,
            "object_position": null,
            "order": null,
            "overflow": null,
            "overflow_x": null,
            "overflow_y": null,
            "padding": null,
            "right": null,
            "top": null,
            "visibility": null,
            "width": null
          }
        },
        "8bf6038d3b844d0997570b90d112a4b6": {
          "model_module": "@jupyter-widgets/base",
          "model_name": "LayoutModel",
          "model_module_version": "1.2.0",
          "state": {
            "_model_module": "@jupyter-widgets/base",
            "_model_module_version": "1.2.0",
            "_model_name": "LayoutModel",
            "_view_count": null,
            "_view_module": "@jupyter-widgets/base",
            "_view_module_version": "1.2.0",
            "_view_name": "LayoutView",
            "align_content": null,
            "align_items": null,
            "align_self": null,
            "border": null,
            "bottom": null,
            "display": null,
            "flex": null,
            "flex_flow": null,
            "grid_area": null,
            "grid_auto_columns": null,
            "grid_auto_flow": null,
            "grid_auto_rows": null,
            "grid_column": null,
            "grid_gap": null,
            "grid_row": null,
            "grid_template_areas": null,
            "grid_template_columns": null,
            "grid_template_rows": null,
            "height": null,
            "justify_content": null,
            "justify_items": null,
            "left": null,
            "margin": null,
            "max_height": null,
            "max_width": null,
            "min_height": null,
            "min_width": null,
            "object_fit": null,
            "object_position": null,
            "order": null,
            "overflow": null,
            "overflow_x": null,
            "overflow_y": null,
            "padding": null,
            "right": null,
            "top": null,
            "visibility": null,
            "width": null
          }
        },
        "798095092c624a7faee0237fd3a2d065": {
          "model_module": "@jupyter-widgets/controls",
          "model_name": "DescriptionStyleModel",
          "model_module_version": "1.5.0",
          "state": {
            "_model_module": "@jupyter-widgets/controls",
            "_model_module_version": "1.5.0",
            "_model_name": "DescriptionStyleModel",
            "_view_count": null,
            "_view_module": "@jupyter-widgets/base",
            "_view_module_version": "1.2.0",
            "_view_name": "StyleView",
            "description_width": ""
          }
        },
        "7b657382108345528b6d3e5c68fe6863": {
          "model_module": "@jupyter-widgets/base",
          "model_name": "LayoutModel",
          "model_module_version": "1.2.0",
          "state": {
            "_model_module": "@jupyter-widgets/base",
            "_model_module_version": "1.2.0",
            "_model_name": "LayoutModel",
            "_view_count": null,
            "_view_module": "@jupyter-widgets/base",
            "_view_module_version": "1.2.0",
            "_view_name": "LayoutView",
            "align_content": null,
            "align_items": null,
            "align_self": null,
            "border": null,
            "bottom": null,
            "display": null,
            "flex": null,
            "flex_flow": null,
            "grid_area": null,
            "grid_auto_columns": null,
            "grid_auto_flow": null,
            "grid_auto_rows": null,
            "grid_column": null,
            "grid_gap": null,
            "grid_row": null,
            "grid_template_areas": null,
            "grid_template_columns": null,
            "grid_template_rows": null,
            "height": null,
            "justify_content": null,
            "justify_items": null,
            "left": null,
            "margin": null,
            "max_height": null,
            "max_width": null,
            "min_height": null,
            "min_width": null,
            "object_fit": null,
            "object_position": null,
            "order": null,
            "overflow": null,
            "overflow_x": null,
            "overflow_y": null,
            "padding": null,
            "right": null,
            "top": null,
            "visibility": null,
            "width": null
          }
        },
        "1a240c873e92461f92fb14fd4cf31cfa": {
          "model_module": "@jupyter-widgets/controls",
          "model_name": "ProgressStyleModel",
          "model_module_version": "1.5.0",
          "state": {
            "_model_module": "@jupyter-widgets/controls",
            "_model_module_version": "1.5.0",
            "_model_name": "ProgressStyleModel",
            "_view_count": null,
            "_view_module": "@jupyter-widgets/base",
            "_view_module_version": "1.2.0",
            "_view_name": "StyleView",
            "bar_color": null,
            "description_width": ""
          }
        },
        "315088f591fb480ba8ec0ee4494c66e7": {
          "model_module": "@jupyter-widgets/base",
          "model_name": "LayoutModel",
          "model_module_version": "1.2.0",
          "state": {
            "_model_module": "@jupyter-widgets/base",
            "_model_module_version": "1.2.0",
            "_model_name": "LayoutModel",
            "_view_count": null,
            "_view_module": "@jupyter-widgets/base",
            "_view_module_version": "1.2.0",
            "_view_name": "LayoutView",
            "align_content": null,
            "align_items": null,
            "align_self": null,
            "border": null,
            "bottom": null,
            "display": null,
            "flex": null,
            "flex_flow": null,
            "grid_area": null,
            "grid_auto_columns": null,
            "grid_auto_flow": null,
            "grid_auto_rows": null,
            "grid_column": null,
            "grid_gap": null,
            "grid_row": null,
            "grid_template_areas": null,
            "grid_template_columns": null,
            "grid_template_rows": null,
            "height": null,
            "justify_content": null,
            "justify_items": null,
            "left": null,
            "margin": null,
            "max_height": null,
            "max_width": null,
            "min_height": null,
            "min_width": null,
            "object_fit": null,
            "object_position": null,
            "order": null,
            "overflow": null,
            "overflow_x": null,
            "overflow_y": null,
            "padding": null,
            "right": null,
            "top": null,
            "visibility": null,
            "width": null
          }
        },
        "b3e97fa9109349a78cb9f0622c4e01cd": {
          "model_module": "@jupyter-widgets/controls",
          "model_name": "DescriptionStyleModel",
          "model_module_version": "1.5.0",
          "state": {
            "_model_module": "@jupyter-widgets/controls",
            "_model_module_version": "1.5.0",
            "_model_name": "DescriptionStyleModel",
            "_view_count": null,
            "_view_module": "@jupyter-widgets/base",
            "_view_module_version": "1.2.0",
            "_view_name": "StyleView",
            "description_width": ""
          }
        },
        "a719c4f5ec4e4dea94be03bf5d8ddba2": {
          "model_module": "@jupyter-widgets/controls",
          "model_name": "HBoxModel",
          "model_module_version": "1.5.0",
          "state": {
            "_dom_classes": [],
            "_model_module": "@jupyter-widgets/controls",
            "_model_module_version": "1.5.0",
            "_model_name": "HBoxModel",
            "_view_count": null,
            "_view_module": "@jupyter-widgets/controls",
            "_view_module_version": "1.5.0",
            "_view_name": "HBoxView",
            "box_style": "",
            "children": [
              "IPY_MODEL_4d2c0947c96e458985eabd2b81ca3c6c",
              "IPY_MODEL_4581c3028ab4476a96989e6876d8831f",
              "IPY_MODEL_c4678862c7dc457caf5809e96cec3ef0"
            ],
            "layout": "IPY_MODEL_61498f6c6d754b7face7d785e42aa4a7"
          }
        },
        "4d2c0947c96e458985eabd2b81ca3c6c": {
          "model_module": "@jupyter-widgets/controls",
          "model_name": "HTMLModel",
          "model_module_version": "1.5.0",
          "state": {
            "_dom_classes": [],
            "_model_module": "@jupyter-widgets/controls",
            "_model_module_version": "1.5.0",
            "_model_name": "HTMLModel",
            "_view_count": null,
            "_view_module": "@jupyter-widgets/controls",
            "_view_module_version": "1.5.0",
            "_view_name": "HTMLView",
            "description": "",
            "description_tooltip": null,
            "layout": "IPY_MODEL_3fcfefea6e464a2e8fbc855d275546e1",
            "placeholder": "​",
            "style": "IPY_MODEL_dd9297adfb5d42b7be230046d6bdcd5a",
            "value": "vocab.txt: 100%"
          }
        },
        "4581c3028ab4476a96989e6876d8831f": {
          "model_module": "@jupyter-widgets/controls",
          "model_name": "FloatProgressModel",
          "model_module_version": "1.5.0",
          "state": {
            "_dom_classes": [],
            "_model_module": "@jupyter-widgets/controls",
            "_model_module_version": "1.5.0",
            "_model_name": "FloatProgressModel",
            "_view_count": null,
            "_view_module": "@jupyter-widgets/controls",
            "_view_module_version": "1.5.0",
            "_view_name": "ProgressView",
            "bar_style": "success",
            "description": "",
            "description_tooltip": null,
            "layout": "IPY_MODEL_e958ca4497294f92adae45908dc949ee",
            "max": 231508,
            "min": 0,
            "orientation": "horizontal",
            "style": "IPY_MODEL_64cd0ee3e3e04adcb30e78d2cf10b552",
            "value": 231508
          }
        },
        "c4678862c7dc457caf5809e96cec3ef0": {
          "model_module": "@jupyter-widgets/controls",
          "model_name": "HTMLModel",
          "model_module_version": "1.5.0",
          "state": {
            "_dom_classes": [],
            "_model_module": "@jupyter-widgets/controls",
            "_model_module_version": "1.5.0",
            "_model_name": "HTMLModel",
            "_view_count": null,
            "_view_module": "@jupyter-widgets/controls",
            "_view_module_version": "1.5.0",
            "_view_name": "HTMLView",
            "description": "",
            "description_tooltip": null,
            "layout": "IPY_MODEL_b08f4068643e48c384546d566e8a5d81",
            "placeholder": "​",
            "style": "IPY_MODEL_b8478e7016864b5ba165e4e68a038a5a",
            "value": " 232k/232k [00:00&lt;00:00, 15.1MB/s]"
          }
        },
        "61498f6c6d754b7face7d785e42aa4a7": {
          "model_module": "@jupyter-widgets/base",
          "model_name": "LayoutModel",
          "model_module_version": "1.2.0",
          "state": {
            "_model_module": "@jupyter-widgets/base",
            "_model_module_version": "1.2.0",
            "_model_name": "LayoutModel",
            "_view_count": null,
            "_view_module": "@jupyter-widgets/base",
            "_view_module_version": "1.2.0",
            "_view_name": "LayoutView",
            "align_content": null,
            "align_items": null,
            "align_self": null,
            "border": null,
            "bottom": null,
            "display": null,
            "flex": null,
            "flex_flow": null,
            "grid_area": null,
            "grid_auto_columns": null,
            "grid_auto_flow": null,
            "grid_auto_rows": null,
            "grid_column": null,
            "grid_gap": null,
            "grid_row": null,
            "grid_template_areas": null,
            "grid_template_columns": null,
            "grid_template_rows": null,
            "height": null,
            "justify_content": null,
            "justify_items": null,
            "left": null,
            "margin": null,
            "max_height": null,
            "max_width": null,
            "min_height": null,
            "min_width": null,
            "object_fit": null,
            "object_position": null,
            "order": null,
            "overflow": null,
            "overflow_x": null,
            "overflow_y": null,
            "padding": null,
            "right": null,
            "top": null,
            "visibility": null,
            "width": null
          }
        },
        "3fcfefea6e464a2e8fbc855d275546e1": {
          "model_module": "@jupyter-widgets/base",
          "model_name": "LayoutModel",
          "model_module_version": "1.2.0",
          "state": {
            "_model_module": "@jupyter-widgets/base",
            "_model_module_version": "1.2.0",
            "_model_name": "LayoutModel",
            "_view_count": null,
            "_view_module": "@jupyter-widgets/base",
            "_view_module_version": "1.2.0",
            "_view_name": "LayoutView",
            "align_content": null,
            "align_items": null,
            "align_self": null,
            "border": null,
            "bottom": null,
            "display": null,
            "flex": null,
            "flex_flow": null,
            "grid_area": null,
            "grid_auto_columns": null,
            "grid_auto_flow": null,
            "grid_auto_rows": null,
            "grid_column": null,
            "grid_gap": null,
            "grid_row": null,
            "grid_template_areas": null,
            "grid_template_columns": null,
            "grid_template_rows": null,
            "height": null,
            "justify_content": null,
            "justify_items": null,
            "left": null,
            "margin": null,
            "max_height": null,
            "max_width": null,
            "min_height": null,
            "min_width": null,
            "object_fit": null,
            "object_position": null,
            "order": null,
            "overflow": null,
            "overflow_x": null,
            "overflow_y": null,
            "padding": null,
            "right": null,
            "top": null,
            "visibility": null,
            "width": null
          }
        },
        "dd9297adfb5d42b7be230046d6bdcd5a": {
          "model_module": "@jupyter-widgets/controls",
          "model_name": "DescriptionStyleModel",
          "model_module_version": "1.5.0",
          "state": {
            "_model_module": "@jupyter-widgets/controls",
            "_model_module_version": "1.5.0",
            "_model_name": "DescriptionStyleModel",
            "_view_count": null,
            "_view_module": "@jupyter-widgets/base",
            "_view_module_version": "1.2.0",
            "_view_name": "StyleView",
            "description_width": ""
          }
        },
        "e958ca4497294f92adae45908dc949ee": {
          "model_module": "@jupyter-widgets/base",
          "model_name": "LayoutModel",
          "model_module_version": "1.2.0",
          "state": {
            "_model_module": "@jupyter-widgets/base",
            "_model_module_version": "1.2.0",
            "_model_name": "LayoutModel",
            "_view_count": null,
            "_view_module": "@jupyter-widgets/base",
            "_view_module_version": "1.2.0",
            "_view_name": "LayoutView",
            "align_content": null,
            "align_items": null,
            "align_self": null,
            "border": null,
            "bottom": null,
            "display": null,
            "flex": null,
            "flex_flow": null,
            "grid_area": null,
            "grid_auto_columns": null,
            "grid_auto_flow": null,
            "grid_auto_rows": null,
            "grid_column": null,
            "grid_gap": null,
            "grid_row": null,
            "grid_template_areas": null,
            "grid_template_columns": null,
            "grid_template_rows": null,
            "height": null,
            "justify_content": null,
            "justify_items": null,
            "left": null,
            "margin": null,
            "max_height": null,
            "max_width": null,
            "min_height": null,
            "min_width": null,
            "object_fit": null,
            "object_position": null,
            "order": null,
            "overflow": null,
            "overflow_x": null,
            "overflow_y": null,
            "padding": null,
            "right": null,
            "top": null,
            "visibility": null,
            "width": null
          }
        },
        "64cd0ee3e3e04adcb30e78d2cf10b552": {
          "model_module": "@jupyter-widgets/controls",
          "model_name": "ProgressStyleModel",
          "model_module_version": "1.5.0",
          "state": {
            "_model_module": "@jupyter-widgets/controls",
            "_model_module_version": "1.5.0",
            "_model_name": "ProgressStyleModel",
            "_view_count": null,
            "_view_module": "@jupyter-widgets/base",
            "_view_module_version": "1.2.0",
            "_view_name": "StyleView",
            "bar_color": null,
            "description_width": ""
          }
        },
        "b08f4068643e48c384546d566e8a5d81": {
          "model_module": "@jupyter-widgets/base",
          "model_name": "LayoutModel",
          "model_module_version": "1.2.0",
          "state": {
            "_model_module": "@jupyter-widgets/base",
            "_model_module_version": "1.2.0",
            "_model_name": "LayoutModel",
            "_view_count": null,
            "_view_module": "@jupyter-widgets/base",
            "_view_module_version": "1.2.0",
            "_view_name": "LayoutView",
            "align_content": null,
            "align_items": null,
            "align_self": null,
            "border": null,
            "bottom": null,
            "display": null,
            "flex": null,
            "flex_flow": null,
            "grid_area": null,
            "grid_auto_columns": null,
            "grid_auto_flow": null,
            "grid_auto_rows": null,
            "grid_column": null,
            "grid_gap": null,
            "grid_row": null,
            "grid_template_areas": null,
            "grid_template_columns": null,
            "grid_template_rows": null,
            "height": null,
            "justify_content": null,
            "justify_items": null,
            "left": null,
            "margin": null,
            "max_height": null,
            "max_width": null,
            "min_height": null,
            "min_width": null,
            "object_fit": null,
            "object_position": null,
            "order": null,
            "overflow": null,
            "overflow_x": null,
            "overflow_y": null,
            "padding": null,
            "right": null,
            "top": null,
            "visibility": null,
            "width": null
          }
        },
        "b8478e7016864b5ba165e4e68a038a5a": {
          "model_module": "@jupyter-widgets/controls",
          "model_name": "DescriptionStyleModel",
          "model_module_version": "1.5.0",
          "state": {
            "_model_module": "@jupyter-widgets/controls",
            "_model_module_version": "1.5.0",
            "_model_name": "DescriptionStyleModel",
            "_view_count": null,
            "_view_module": "@jupyter-widgets/base",
            "_view_module_version": "1.2.0",
            "_view_name": "StyleView",
            "description_width": ""
          }
        },
        "c758f3b5a75b4d89a5012ceec69eca08": {
          "model_module": "@jupyter-widgets/controls",
          "model_name": "HBoxModel",
          "model_module_version": "1.5.0",
          "state": {
            "_dom_classes": [],
            "_model_module": "@jupyter-widgets/controls",
            "_model_module_version": "1.5.0",
            "_model_name": "HBoxModel",
            "_view_count": null,
            "_view_module": "@jupyter-widgets/controls",
            "_view_module_version": "1.5.0",
            "_view_name": "HBoxView",
            "box_style": "",
            "children": [
              "IPY_MODEL_8cb642274ea74e6ab2102e39db1e278b",
              "IPY_MODEL_8331a07aee18458f9c3ecf95a88df403",
              "IPY_MODEL_691fbb442b9c4249bd09fb1a6c4db59f"
            ],
            "layout": "IPY_MODEL_542c89a9ecbc49b79a51af07cad1d03a"
          }
        },
        "8cb642274ea74e6ab2102e39db1e278b": {
          "model_module": "@jupyter-widgets/controls",
          "model_name": "HTMLModel",
          "model_module_version": "1.5.0",
          "state": {
            "_dom_classes": [],
            "_model_module": "@jupyter-widgets/controls",
            "_model_module_version": "1.5.0",
            "_model_name": "HTMLModel",
            "_view_count": null,
            "_view_module": "@jupyter-widgets/controls",
            "_view_module_version": "1.5.0",
            "_view_name": "HTMLView",
            "description": "",
            "description_tooltip": null,
            "layout": "IPY_MODEL_426dbc8166c843fb87b1703fb55fcad6",
            "placeholder": "​",
            "style": "IPY_MODEL_2cf50aadfb1a4e4787b1189a660d142e",
            "value": "tokenizer.json: 100%"
          }
        },
        "8331a07aee18458f9c3ecf95a88df403": {
          "model_module": "@jupyter-widgets/controls",
          "model_name": "FloatProgressModel",
          "model_module_version": "1.5.0",
          "state": {
            "_dom_classes": [],
            "_model_module": "@jupyter-widgets/controls",
            "_model_module_version": "1.5.0",
            "_model_name": "FloatProgressModel",
            "_view_count": null,
            "_view_module": "@jupyter-widgets/controls",
            "_view_module_version": "1.5.0",
            "_view_name": "ProgressView",
            "bar_style": "success",
            "description": "",
            "description_tooltip": null,
            "layout": "IPY_MODEL_fc102bb5f436433cb1338b959029fa1c",
            "max": 711661,
            "min": 0,
            "orientation": "horizontal",
            "style": "IPY_MODEL_0a6d916270dc4e73a6f651d6c99e30f6",
            "value": 711661
          }
        },
        "691fbb442b9c4249bd09fb1a6c4db59f": {
          "model_module": "@jupyter-widgets/controls",
          "model_name": "HTMLModel",
          "model_module_version": "1.5.0",
          "state": {
            "_dom_classes": [],
            "_model_module": "@jupyter-widgets/controls",
            "_model_module_version": "1.5.0",
            "_model_name": "HTMLModel",
            "_view_count": null,
            "_view_module": "@jupyter-widgets/controls",
            "_view_module_version": "1.5.0",
            "_view_name": "HTMLView",
            "description": "",
            "description_tooltip": null,
            "layout": "IPY_MODEL_c46e9a013cab4647850ef39c2cdc06b6",
            "placeholder": "​",
            "style": "IPY_MODEL_bbe94ed80a474e72adaebe791882ac45",
            "value": " 712k/712k [00:00&lt;00:00, 44.7MB/s]"
          }
        },
        "542c89a9ecbc49b79a51af07cad1d03a": {
          "model_module": "@jupyter-widgets/base",
          "model_name": "LayoutModel",
          "model_module_version": "1.2.0",
          "state": {
            "_model_module": "@jupyter-widgets/base",
            "_model_module_version": "1.2.0",
            "_model_name": "LayoutModel",
            "_view_count": null,
            "_view_module": "@jupyter-widgets/base",
            "_view_module_version": "1.2.0",
            "_view_name": "LayoutView",
            "align_content": null,
            "align_items": null,
            "align_self": null,
            "border": null,
            "bottom": null,
            "display": null,
            "flex": null,
            "flex_flow": null,
            "grid_area": null,
            "grid_auto_columns": null,
            "grid_auto_flow": null,
            "grid_auto_rows": null,
            "grid_column": null,
            "grid_gap": null,
            "grid_row": null,
            "grid_template_areas": null,
            "grid_template_columns": null,
            "grid_template_rows": null,
            "height": null,
            "justify_content": null,
            "justify_items": null,
            "left": null,
            "margin": null,
            "max_height": null,
            "max_width": null,
            "min_height": null,
            "min_width": null,
            "object_fit": null,
            "object_position": null,
            "order": null,
            "overflow": null,
            "overflow_x": null,
            "overflow_y": null,
            "padding": null,
            "right": null,
            "top": null,
            "visibility": null,
            "width": null
          }
        },
        "426dbc8166c843fb87b1703fb55fcad6": {
          "model_module": "@jupyter-widgets/base",
          "model_name": "LayoutModel",
          "model_module_version": "1.2.0",
          "state": {
            "_model_module": "@jupyter-widgets/base",
            "_model_module_version": "1.2.0",
            "_model_name": "LayoutModel",
            "_view_count": null,
            "_view_module": "@jupyter-widgets/base",
            "_view_module_version": "1.2.0",
            "_view_name": "LayoutView",
            "align_content": null,
            "align_items": null,
            "align_self": null,
            "border": null,
            "bottom": null,
            "display": null,
            "flex": null,
            "flex_flow": null,
            "grid_area": null,
            "grid_auto_columns": null,
            "grid_auto_flow": null,
            "grid_auto_rows": null,
            "grid_column": null,
            "grid_gap": null,
            "grid_row": null,
            "grid_template_areas": null,
            "grid_template_columns": null,
            "grid_template_rows": null,
            "height": null,
            "justify_content": null,
            "justify_items": null,
            "left": null,
            "margin": null,
            "max_height": null,
            "max_width": null,
            "min_height": null,
            "min_width": null,
            "object_fit": null,
            "object_position": null,
            "order": null,
            "overflow": null,
            "overflow_x": null,
            "overflow_y": null,
            "padding": null,
            "right": null,
            "top": null,
            "visibility": null,
            "width": null
          }
        },
        "2cf50aadfb1a4e4787b1189a660d142e": {
          "model_module": "@jupyter-widgets/controls",
          "model_name": "DescriptionStyleModel",
          "model_module_version": "1.5.0",
          "state": {
            "_model_module": "@jupyter-widgets/controls",
            "_model_module_version": "1.5.0",
            "_model_name": "DescriptionStyleModel",
            "_view_count": null,
            "_view_module": "@jupyter-widgets/base",
            "_view_module_version": "1.2.0",
            "_view_name": "StyleView",
            "description_width": ""
          }
        },
        "fc102bb5f436433cb1338b959029fa1c": {
          "model_module": "@jupyter-widgets/base",
          "model_name": "LayoutModel",
          "model_module_version": "1.2.0",
          "state": {
            "_model_module": "@jupyter-widgets/base",
            "_model_module_version": "1.2.0",
            "_model_name": "LayoutModel",
            "_view_count": null,
            "_view_module": "@jupyter-widgets/base",
            "_view_module_version": "1.2.0",
            "_view_name": "LayoutView",
            "align_content": null,
            "align_items": null,
            "align_self": null,
            "border": null,
            "bottom": null,
            "display": null,
            "flex": null,
            "flex_flow": null,
            "grid_area": null,
            "grid_auto_columns": null,
            "grid_auto_flow": null,
            "grid_auto_rows": null,
            "grid_column": null,
            "grid_gap": null,
            "grid_row": null,
            "grid_template_areas": null,
            "grid_template_columns": null,
            "grid_template_rows": null,
            "height": null,
            "justify_content": null,
            "justify_items": null,
            "left": null,
            "margin": null,
            "max_height": null,
            "max_width": null,
            "min_height": null,
            "min_width": null,
            "object_fit": null,
            "object_position": null,
            "order": null,
            "overflow": null,
            "overflow_x": null,
            "overflow_y": null,
            "padding": null,
            "right": null,
            "top": null,
            "visibility": null,
            "width": null
          }
        },
        "0a6d916270dc4e73a6f651d6c99e30f6": {
          "model_module": "@jupyter-widgets/controls",
          "model_name": "ProgressStyleModel",
          "model_module_version": "1.5.0",
          "state": {
            "_model_module": "@jupyter-widgets/controls",
            "_model_module_version": "1.5.0",
            "_model_name": "ProgressStyleModel",
            "_view_count": null,
            "_view_module": "@jupyter-widgets/base",
            "_view_module_version": "1.2.0",
            "_view_name": "StyleView",
            "bar_color": null,
            "description_width": ""
          }
        },
        "c46e9a013cab4647850ef39c2cdc06b6": {
          "model_module": "@jupyter-widgets/base",
          "model_name": "LayoutModel",
          "model_module_version": "1.2.0",
          "state": {
            "_model_module": "@jupyter-widgets/base",
            "_model_module_version": "1.2.0",
            "_model_name": "LayoutModel",
            "_view_count": null,
            "_view_module": "@jupyter-widgets/base",
            "_view_module_version": "1.2.0",
            "_view_name": "LayoutView",
            "align_content": null,
            "align_items": null,
            "align_self": null,
            "border": null,
            "bottom": null,
            "display": null,
            "flex": null,
            "flex_flow": null,
            "grid_area": null,
            "grid_auto_columns": null,
            "grid_auto_flow": null,
            "grid_auto_rows": null,
            "grid_column": null,
            "grid_gap": null,
            "grid_row": null,
            "grid_template_areas": null,
            "grid_template_columns": null,
            "grid_template_rows": null,
            "height": null,
            "justify_content": null,
            "justify_items": null,
            "left": null,
            "margin": null,
            "max_height": null,
            "max_width": null,
            "min_height": null,
            "min_width": null,
            "object_fit": null,
            "object_position": null,
            "order": null,
            "overflow": null,
            "overflow_x": null,
            "overflow_y": null,
            "padding": null,
            "right": null,
            "top": null,
            "visibility": null,
            "width": null
          }
        },
        "bbe94ed80a474e72adaebe791882ac45": {
          "model_module": "@jupyter-widgets/controls",
          "model_name": "DescriptionStyleModel",
          "model_module_version": "1.5.0",
          "state": {
            "_model_module": "@jupyter-widgets/controls",
            "_model_module_version": "1.5.0",
            "_model_name": "DescriptionStyleModel",
            "_view_count": null,
            "_view_module": "@jupyter-widgets/base",
            "_view_module_version": "1.2.0",
            "_view_name": "StyleView",
            "description_width": ""
          }
        },
        "b1f1583e6a5144faa9f2187e173aa973": {
          "model_module": "@jupyter-widgets/controls",
          "model_name": "HBoxModel",
          "model_module_version": "1.5.0",
          "state": {
            "_dom_classes": [],
            "_model_module": "@jupyter-widgets/controls",
            "_model_module_version": "1.5.0",
            "_model_name": "HBoxModel",
            "_view_count": null,
            "_view_module": "@jupyter-widgets/controls",
            "_view_module_version": "1.5.0",
            "_view_name": "HBoxView",
            "box_style": "",
            "children": [
              "IPY_MODEL_9c9f08f06a3f433197a7a4a2c3685f0b",
              "IPY_MODEL_8a1b30a34f6f4184b7e151b4f756c669",
              "IPY_MODEL_ddd33afa17334b58862b336274875f53"
            ],
            "layout": "IPY_MODEL_897a1505a814480ca1bc41b329a2a7ee"
          }
        },
        "9c9f08f06a3f433197a7a4a2c3685f0b": {
          "model_module": "@jupyter-widgets/controls",
          "model_name": "HTMLModel",
          "model_module_version": "1.5.0",
          "state": {
            "_dom_classes": [],
            "_model_module": "@jupyter-widgets/controls",
            "_model_module_version": "1.5.0",
            "_model_name": "HTMLModel",
            "_view_count": null,
            "_view_module": "@jupyter-widgets/controls",
            "_view_module_version": "1.5.0",
            "_view_name": "HTMLView",
            "description": "",
            "description_tooltip": null,
            "layout": "IPY_MODEL_4b0a1824323247d6bdab46bb9e2001f9",
            "placeholder": "​",
            "style": "IPY_MODEL_034faef7e0be43029d2ef891e89ae26f",
            "value": "special_tokens_map.json: 100%"
          }
        },
        "8a1b30a34f6f4184b7e151b4f756c669": {
          "model_module": "@jupyter-widgets/controls",
          "model_name": "FloatProgressModel",
          "model_module_version": "1.5.0",
          "state": {
            "_dom_classes": [],
            "_model_module": "@jupyter-widgets/controls",
            "_model_module_version": "1.5.0",
            "_model_name": "FloatProgressModel",
            "_view_count": null,
            "_view_module": "@jupyter-widgets/controls",
            "_view_module_version": "1.5.0",
            "_view_name": "ProgressView",
            "bar_style": "success",
            "description": "",
            "description_tooltip": null,
            "layout": "IPY_MODEL_4656620781774cc38cfbd6732bda3b30",
            "max": 695,
            "min": 0,
            "orientation": "horizontal",
            "style": "IPY_MODEL_d6282ac665ca4b618a2f4e9d40fa27bc",
            "value": 695
          }
        },
        "ddd33afa17334b58862b336274875f53": {
          "model_module": "@jupyter-widgets/controls",
          "model_name": "HTMLModel",
          "model_module_version": "1.5.0",
          "state": {
            "_dom_classes": [],
            "_model_module": "@jupyter-widgets/controls",
            "_model_module_version": "1.5.0",
            "_model_name": "HTMLModel",
            "_view_count": null,
            "_view_module": "@jupyter-widgets/controls",
            "_view_module_version": "1.5.0",
            "_view_name": "HTMLView",
            "description": "",
            "description_tooltip": null,
            "layout": "IPY_MODEL_29edb894947a494ca71084b3485af3fd",
            "placeholder": "​",
            "style": "IPY_MODEL_b1fb157ec9f1402f990387b7f29e5376",
            "value": " 695/695 [00:00&lt;00:00, 42.6kB/s]"
          }
        },
        "897a1505a814480ca1bc41b329a2a7ee": {
          "model_module": "@jupyter-widgets/base",
          "model_name": "LayoutModel",
          "model_module_version": "1.2.0",
          "state": {
            "_model_module": "@jupyter-widgets/base",
            "_model_module_version": "1.2.0",
            "_model_name": "LayoutModel",
            "_view_count": null,
            "_view_module": "@jupyter-widgets/base",
            "_view_module_version": "1.2.0",
            "_view_name": "LayoutView",
            "align_content": null,
            "align_items": null,
            "align_self": null,
            "border": null,
            "bottom": null,
            "display": null,
            "flex": null,
            "flex_flow": null,
            "grid_area": null,
            "grid_auto_columns": null,
            "grid_auto_flow": null,
            "grid_auto_rows": null,
            "grid_column": null,
            "grid_gap": null,
            "grid_row": null,
            "grid_template_areas": null,
            "grid_template_columns": null,
            "grid_template_rows": null,
            "height": null,
            "justify_content": null,
            "justify_items": null,
            "left": null,
            "margin": null,
            "max_height": null,
            "max_width": null,
            "min_height": null,
            "min_width": null,
            "object_fit": null,
            "object_position": null,
            "order": null,
            "overflow": null,
            "overflow_x": null,
            "overflow_y": null,
            "padding": null,
            "right": null,
            "top": null,
            "visibility": null,
            "width": null
          }
        },
        "4b0a1824323247d6bdab46bb9e2001f9": {
          "model_module": "@jupyter-widgets/base",
          "model_name": "LayoutModel",
          "model_module_version": "1.2.0",
          "state": {
            "_model_module": "@jupyter-widgets/base",
            "_model_module_version": "1.2.0",
            "_model_name": "LayoutModel",
            "_view_count": null,
            "_view_module": "@jupyter-widgets/base",
            "_view_module_version": "1.2.0",
            "_view_name": "LayoutView",
            "align_content": null,
            "align_items": null,
            "align_self": null,
            "border": null,
            "bottom": null,
            "display": null,
            "flex": null,
            "flex_flow": null,
            "grid_area": null,
            "grid_auto_columns": null,
            "grid_auto_flow": null,
            "grid_auto_rows": null,
            "grid_column": null,
            "grid_gap": null,
            "grid_row": null,
            "grid_template_areas": null,
            "grid_template_columns": null,
            "grid_template_rows": null,
            "height": null,
            "justify_content": null,
            "justify_items": null,
            "left": null,
            "margin": null,
            "max_height": null,
            "max_width": null,
            "min_height": null,
            "min_width": null,
            "object_fit": null,
            "object_position": null,
            "order": null,
            "overflow": null,
            "overflow_x": null,
            "overflow_y": null,
            "padding": null,
            "right": null,
            "top": null,
            "visibility": null,
            "width": null
          }
        },
        "034faef7e0be43029d2ef891e89ae26f": {
          "model_module": "@jupyter-widgets/controls",
          "model_name": "DescriptionStyleModel",
          "model_module_version": "1.5.0",
          "state": {
            "_model_module": "@jupyter-widgets/controls",
            "_model_module_version": "1.5.0",
            "_model_name": "DescriptionStyleModel",
            "_view_count": null,
            "_view_module": "@jupyter-widgets/base",
            "_view_module_version": "1.2.0",
            "_view_name": "StyleView",
            "description_width": ""
          }
        },
        "4656620781774cc38cfbd6732bda3b30": {
          "model_module": "@jupyter-widgets/base",
          "model_name": "LayoutModel",
          "model_module_version": "1.2.0",
          "state": {
            "_model_module": "@jupyter-widgets/base",
            "_model_module_version": "1.2.0",
            "_model_name": "LayoutModel",
            "_view_count": null,
            "_view_module": "@jupyter-widgets/base",
            "_view_module_version": "1.2.0",
            "_view_name": "LayoutView",
            "align_content": null,
            "align_items": null,
            "align_self": null,
            "border": null,
            "bottom": null,
            "display": null,
            "flex": null,
            "flex_flow": null,
            "grid_area": null,
            "grid_auto_columns": null,
            "grid_auto_flow": null,
            "grid_auto_rows": null,
            "grid_column": null,
            "grid_gap": null,
            "grid_row": null,
            "grid_template_areas": null,
            "grid_template_columns": null,
            "grid_template_rows": null,
            "height": null,
            "justify_content": null,
            "justify_items": null,
            "left": null,
            "margin": null,
            "max_height": null,
            "max_width": null,
            "min_height": null,
            "min_width": null,
            "object_fit": null,
            "object_position": null,
            "order": null,
            "overflow": null,
            "overflow_x": null,
            "overflow_y": null,
            "padding": null,
            "right": null,
            "top": null,
            "visibility": null,
            "width": null
          }
        },
        "d6282ac665ca4b618a2f4e9d40fa27bc": {
          "model_module": "@jupyter-widgets/controls",
          "model_name": "ProgressStyleModel",
          "model_module_version": "1.5.0",
          "state": {
            "_model_module": "@jupyter-widgets/controls",
            "_model_module_version": "1.5.0",
            "_model_name": "ProgressStyleModel",
            "_view_count": null,
            "_view_module": "@jupyter-widgets/base",
            "_view_module_version": "1.2.0",
            "_view_name": "StyleView",
            "bar_color": null,
            "description_width": ""
          }
        },
        "29edb894947a494ca71084b3485af3fd": {
          "model_module": "@jupyter-widgets/base",
          "model_name": "LayoutModel",
          "model_module_version": "1.2.0",
          "state": {
            "_model_module": "@jupyter-widgets/base",
            "_model_module_version": "1.2.0",
            "_model_name": "LayoutModel",
            "_view_count": null,
            "_view_module": "@jupyter-widgets/base",
            "_view_module_version": "1.2.0",
            "_view_name": "LayoutView",
            "align_content": null,
            "align_items": null,
            "align_self": null,
            "border": null,
            "bottom": null,
            "display": null,
            "flex": null,
            "flex_flow": null,
            "grid_area": null,
            "grid_auto_columns": null,
            "grid_auto_flow": null,
            "grid_auto_rows": null,
            "grid_column": null,
            "grid_gap": null,
            "grid_row": null,
            "grid_template_areas": null,
            "grid_template_columns": null,
            "grid_template_rows": null,
            "height": null,
            "justify_content": null,
            "justify_items": null,
            "left": null,
            "margin": null,
            "max_height": null,
            "max_width": null,
            "min_height": null,
            "min_width": null,
            "object_fit": null,
            "object_position": null,
            "order": null,
            "overflow": null,
            "overflow_x": null,
            "overflow_y": null,
            "padding": null,
            "right": null,
            "top": null,
            "visibility": null,
            "width": null
          }
        },
        "b1fb157ec9f1402f990387b7f29e5376": {
          "model_module": "@jupyter-widgets/controls",
          "model_name": "DescriptionStyleModel",
          "model_module_version": "1.5.0",
          "state": {
            "_model_module": "@jupyter-widgets/controls",
            "_model_module_version": "1.5.0",
            "_model_name": "DescriptionStyleModel",
            "_view_count": null,
            "_view_module": "@jupyter-widgets/base",
            "_view_module_version": "1.2.0",
            "_view_name": "StyleView",
            "description_width": ""
          }
        },
        "0fc911c15cbc42a8b76173c20aee568d": {
          "model_module": "@jupyter-widgets/controls",
          "model_name": "HBoxModel",
          "model_module_version": "1.5.0",
          "state": {
            "_dom_classes": [],
            "_model_module": "@jupyter-widgets/controls",
            "_model_module_version": "1.5.0",
            "_model_name": "HBoxModel",
            "_view_count": null,
            "_view_module": "@jupyter-widgets/controls",
            "_view_module_version": "1.5.0",
            "_view_name": "HBoxView",
            "box_style": "",
            "children": [
              "IPY_MODEL_a6a3abd530f7474b9f7810906c5eddf5",
              "IPY_MODEL_e7f558c676b04610911e0633ac994ef6",
              "IPY_MODEL_d92b0742e6ea46409c7d1cebb66a9a6c"
            ],
            "layout": "IPY_MODEL_295ba309d69242dbb871d58c3b96f139"
          }
        },
        "a6a3abd530f7474b9f7810906c5eddf5": {
          "model_module": "@jupyter-widgets/controls",
          "model_name": "HTMLModel",
          "model_module_version": "1.5.0",
          "state": {
            "_dom_classes": [],
            "_model_module": "@jupyter-widgets/controls",
            "_model_module_version": "1.5.0",
            "_model_name": "HTMLModel",
            "_view_count": null,
            "_view_module": "@jupyter-widgets/controls",
            "_view_module_version": "1.5.0",
            "_view_name": "HTMLView",
            "description": "",
            "description_tooltip": null,
            "layout": "IPY_MODEL_d417a8a767904e9d9978be5fa1263f2a",
            "placeholder": "​",
            "style": "IPY_MODEL_5fd1426b29c64532a964553c78f19cfd",
            "value": "Loading checkpoint shards: 100%"
          }
        },
        "e7f558c676b04610911e0633ac994ef6": {
          "model_module": "@jupyter-widgets/controls",
          "model_name": "FloatProgressModel",
          "model_module_version": "1.5.0",
          "state": {
            "_dom_classes": [],
            "_model_module": "@jupyter-widgets/controls",
            "_model_module_version": "1.5.0",
            "_model_name": "FloatProgressModel",
            "_view_count": null,
            "_view_module": "@jupyter-widgets/controls",
            "_view_module_version": "1.5.0",
            "_view_name": "ProgressView",
            "bar_style": "success",
            "description": "",
            "description_tooltip": null,
            "layout": "IPY_MODEL_e5a16fca278947f3ae01a3c9da8210bb",
            "max": 4,
            "min": 0,
            "orientation": "horizontal",
            "style": "IPY_MODEL_2efd02df96374af7918cc4ae8ddba364",
            "value": 4
          }
        },
        "d92b0742e6ea46409c7d1cebb66a9a6c": {
          "model_module": "@jupyter-widgets/controls",
          "model_name": "HTMLModel",
          "model_module_version": "1.5.0",
          "state": {
            "_dom_classes": [],
            "_model_module": "@jupyter-widgets/controls",
            "_model_module_version": "1.5.0",
            "_model_name": "HTMLModel",
            "_view_count": null,
            "_view_module": "@jupyter-widgets/controls",
            "_view_module_version": "1.5.0",
            "_view_name": "HTMLView",
            "description": "",
            "description_tooltip": null,
            "layout": "IPY_MODEL_b0688d2f59644727a52de9f6958d7b62",
            "placeholder": "​",
            "style": "IPY_MODEL_0a954f507ba147b2b6181cfecbe1fcb8",
            "value": " 4/4 [00:10&lt;00:00,  2.24s/it]"
          }
        },
        "295ba309d69242dbb871d58c3b96f139": {
          "model_module": "@jupyter-widgets/base",
          "model_name": "LayoutModel",
          "model_module_version": "1.2.0",
          "state": {
            "_model_module": "@jupyter-widgets/base",
            "_model_module_version": "1.2.0",
            "_model_name": "LayoutModel",
            "_view_count": null,
            "_view_module": "@jupyter-widgets/base",
            "_view_module_version": "1.2.0",
            "_view_name": "LayoutView",
            "align_content": null,
            "align_items": null,
            "align_self": null,
            "border": null,
            "bottom": null,
            "display": null,
            "flex": null,
            "flex_flow": null,
            "grid_area": null,
            "grid_auto_columns": null,
            "grid_auto_flow": null,
            "grid_auto_rows": null,
            "grid_column": null,
            "grid_gap": null,
            "grid_row": null,
            "grid_template_areas": null,
            "grid_template_columns": null,
            "grid_template_rows": null,
            "height": null,
            "justify_content": null,
            "justify_items": null,
            "left": null,
            "margin": null,
            "max_height": null,
            "max_width": null,
            "min_height": null,
            "min_width": null,
            "object_fit": null,
            "object_position": null,
            "order": null,
            "overflow": null,
            "overflow_x": null,
            "overflow_y": null,
            "padding": null,
            "right": null,
            "top": null,
            "visibility": null,
            "width": null
          }
        },
        "d417a8a767904e9d9978be5fa1263f2a": {
          "model_module": "@jupyter-widgets/base",
          "model_name": "LayoutModel",
          "model_module_version": "1.2.0",
          "state": {
            "_model_module": "@jupyter-widgets/base",
            "_model_module_version": "1.2.0",
            "_model_name": "LayoutModel",
            "_view_count": null,
            "_view_module": "@jupyter-widgets/base",
            "_view_module_version": "1.2.0",
            "_view_name": "LayoutView",
            "align_content": null,
            "align_items": null,
            "align_self": null,
            "border": null,
            "bottom": null,
            "display": null,
            "flex": null,
            "flex_flow": null,
            "grid_area": null,
            "grid_auto_columns": null,
            "grid_auto_flow": null,
            "grid_auto_rows": null,
            "grid_column": null,
            "grid_gap": null,
            "grid_row": null,
            "grid_template_areas": null,
            "grid_template_columns": null,
            "grid_template_rows": null,
            "height": null,
            "justify_content": null,
            "justify_items": null,
            "left": null,
            "margin": null,
            "max_height": null,
            "max_width": null,
            "min_height": null,
            "min_width": null,
            "object_fit": null,
            "object_position": null,
            "order": null,
            "overflow": null,
            "overflow_x": null,
            "overflow_y": null,
            "padding": null,
            "right": null,
            "top": null,
            "visibility": null,
            "width": null
          }
        },
        "5fd1426b29c64532a964553c78f19cfd": {
          "model_module": "@jupyter-widgets/controls",
          "model_name": "DescriptionStyleModel",
          "model_module_version": "1.5.0",
          "state": {
            "_model_module": "@jupyter-widgets/controls",
            "_model_module_version": "1.5.0",
            "_model_name": "DescriptionStyleModel",
            "_view_count": null,
            "_view_module": "@jupyter-widgets/base",
            "_view_module_version": "1.2.0",
            "_view_name": "StyleView",
            "description_width": ""
          }
        },
        "e5a16fca278947f3ae01a3c9da8210bb": {
          "model_module": "@jupyter-widgets/base",
          "model_name": "LayoutModel",
          "model_module_version": "1.2.0",
          "state": {
            "_model_module": "@jupyter-widgets/base",
            "_model_module_version": "1.2.0",
            "_model_name": "LayoutModel",
            "_view_count": null,
            "_view_module": "@jupyter-widgets/base",
            "_view_module_version": "1.2.0",
            "_view_name": "LayoutView",
            "align_content": null,
            "align_items": null,
            "align_self": null,
            "border": null,
            "bottom": null,
            "display": null,
            "flex": null,
            "flex_flow": null,
            "grid_area": null,
            "grid_auto_columns": null,
            "grid_auto_flow": null,
            "grid_auto_rows": null,
            "grid_column": null,
            "grid_gap": null,
            "grid_row": null,
            "grid_template_areas": null,
            "grid_template_columns": null,
            "grid_template_rows": null,
            "height": null,
            "justify_content": null,
            "justify_items": null,
            "left": null,
            "margin": null,
            "max_height": null,
            "max_width": null,
            "min_height": null,
            "min_width": null,
            "object_fit": null,
            "object_position": null,
            "order": null,
            "overflow": null,
            "overflow_x": null,
            "overflow_y": null,
            "padding": null,
            "right": null,
            "top": null,
            "visibility": null,
            "width": null
          }
        },
        "2efd02df96374af7918cc4ae8ddba364": {
          "model_module": "@jupyter-widgets/controls",
          "model_name": "ProgressStyleModel",
          "model_module_version": "1.5.0",
          "state": {
            "_model_module": "@jupyter-widgets/controls",
            "_model_module_version": "1.5.0",
            "_model_name": "ProgressStyleModel",
            "_view_count": null,
            "_view_module": "@jupyter-widgets/base",
            "_view_module_version": "1.2.0",
            "_view_name": "StyleView",
            "bar_color": null,
            "description_width": ""
          }
        },
        "b0688d2f59644727a52de9f6958d7b62": {
          "model_module": "@jupyter-widgets/base",
          "model_name": "LayoutModel",
          "model_module_version": "1.2.0",
          "state": {
            "_model_module": "@jupyter-widgets/base",
            "_model_module_version": "1.2.0",
            "_model_name": "LayoutModel",
            "_view_count": null,
            "_view_module": "@jupyter-widgets/base",
            "_view_module_version": "1.2.0",
            "_view_name": "LayoutView",
            "align_content": null,
            "align_items": null,
            "align_self": null,
            "border": null,
            "bottom": null,
            "display": null,
            "flex": null,
            "flex_flow": null,
            "grid_area": null,
            "grid_auto_columns": null,
            "grid_auto_flow": null,
            "grid_auto_rows": null,
            "grid_column": null,
            "grid_gap": null,
            "grid_row": null,
            "grid_template_areas": null,
            "grid_template_columns": null,
            "grid_template_rows": null,
            "height": null,
            "justify_content": null,
            "justify_items": null,
            "left": null,
            "margin": null,
            "max_height": null,
            "max_width": null,
            "min_height": null,
            "min_width": null,
            "object_fit": null,
            "object_position": null,
            "order": null,
            "overflow": null,
            "overflow_x": null,
            "overflow_y": null,
            "padding": null,
            "right": null,
            "top": null,
            "visibility": null,
            "width": null
          }
        },
        "0a954f507ba147b2b6181cfecbe1fcb8": {
          "model_module": "@jupyter-widgets/controls",
          "model_name": "DescriptionStyleModel",
          "model_module_version": "1.5.0",
          "state": {
            "_model_module": "@jupyter-widgets/controls",
            "_model_module_version": "1.5.0",
            "_model_name": "DescriptionStyleModel",
            "_view_count": null,
            "_view_module": "@jupyter-widgets/base",
            "_view_module_version": "1.2.0",
            "_view_name": "StyleView",
            "description_width": ""
          }
        }
      }
    }
  },
  "nbformat": 4,
  "nbformat_minor": 0
}